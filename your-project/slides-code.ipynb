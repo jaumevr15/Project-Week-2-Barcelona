{
 "cells": [
  {
   "cell_type": "code",
   "execution_count": 3,
   "metadata": {},
   "outputs": [
    {
     "data": {
      "text/plain": [
       "' \\nAnswers to Question 1:\\nQ1: Has the temperature increased in Barcelona in the last 200 years?\\n Temperature difference between averages from 2018 and 1993\\nymean_df.iloc[200] - ymean_df.iloc[175]\\nOutput: +1,32ºC\\nTemperature difference between averages from 2018 and 1968\\nymean_df.iloc[200] - ymean_df.iloc[150]\\nOutput: +1,41ºC\\nTemperature difference between averages from 2018 and 1918\\nymean_df.iloc[200] - ymean_df.iloc[100]\\nOutput: 2.05ºC\\nTemperature difference between averages from 2018 and 1818\\nymean_df.iloc[200] - ymean_df.iloc[0]\\nOutput: +2,21ºC\\n'"
      ]
     },
     "execution_count": 3,
     "metadata": {},
     "output_type": "execute_result"
    }
   ],
   "source": [
    "import main\n",
    "\n",
    "''' \n",
    "#PROJECT QUESTION: Is Climate Change happenning in Barcelona?\n",
    "We considered climate change is happening if there is an increase of temperature above of 1,5ºC during the XXI century (100 years).\n",
    " https://www.bbc.com/news/science-environment-45678338\n",
    " https://www.ipcc.ch/sr15/chapter/glossary/\n",
    "\n",
    "'''"
   ]
  },
  {
   "cell_type": "code",
   "execution_count": 3,
   "metadata": {},
   "outputs": [
    {
     "data": {
      "text/plain": [
       "'\\nAnswers to Question 1:\\nQ1: Has the temperature increased in Barcelona in the last 200 years?\\n Temperature difference between averages from 2018 and 1993\\nymean_df.iloc[200] - ymean_df.iloc[175]\\nOutput: +1,32ºC\\nTemperature difference between averages from 2018 and 1968\\nymean_df.iloc[200] - ymean_df.iloc[150]\\nOutput: +1,41ºC\\nTemperature difference between averages from 2018 and 1918\\nymean_df.iloc[200] - ymean_df.iloc[100]\\nOutput: 2.05ºC\\nTemperature difference between averages from 2018 and 1818\\nymean_df.iloc[200] - ymean_df.iloc[0]\\nOutput: +2,21ºC\\n\\n'"
      ]
     },
     "execution_count": 3,
     "metadata": {},
     "output_type": "execute_result"
    }
   ],
   "source": [
    "'''\n",
    "Answers to Question 1:\n",
    "Q1: Has the temperature increased in Barcelona in the last 200 years?\n",
    " Temperature difference between averages from 2018 and 1993\n",
    "ymean_df.iloc[200] - ymean_df.iloc[175]\n",
    "Output: +1,32ºC\n",
    "Temperature difference between averages from 2018 and 1968\n",
    "ymean_df.iloc[200] - ymean_df.iloc[150]\n",
    "Output: +1,41ºC\n",
    "Temperature difference between averages from 2018 and 1918\n",
    "ymean_df.iloc[200] - ymean_df.iloc[100]\n",
    "Output: 2.05ºC\n",
    "Temperature difference between averages from 2018 and 1818\n",
    "ymean_df.iloc[200] - ymean_df.iloc[0]\n",
    "Output: +2,21ºC\n",
    "\n",
    "'''\n"
   ]
  },
  {
   "cell_type": "code",
   "execution_count": null,
   "metadata": {},
   "outputs": [],
   "source": [
    "' # Question 2: There is indeed a gap between years, can we confirm the increase is higher in the last years?\n"
   ]
  },
  {
   "cell_type": "code",
   "execution_count": 4,
   "metadata": {},
   "outputs": [],
   "source": [
    "# Question 3: If X is happening, does it mean we are having more extreme temperatues?\n",
    "## Check mean temperature of 2018 and check the difference between coldest/warmest to mean (dispersion)\n",
    "## Do the same process with ages 1993, 1958, 1818\n",
    "### TO-DO Measure extreme temperatures compared to the average in all years"
   ]
  }
 ],
 "metadata": {
  "file_extension": ".py",
  "kernelspec": {
   "display_name": "Python 3",
   "language": "python",
   "name": "python3"
  },
  "language_info": {
   "codemirror_mode": {
    "name": "ipython",
    "version": 3
   },
   "file_extension": ".py",
   "mimetype": "text/x-python",
   "name": "python",
   "nbconvert_exporter": "python",
   "pygments_lexer": "ipython3",
   "version": "3.7.3"
  },
  "mimetype": "text/x-python",
  "name": "python",
  "npconvert_exporter": "python",
  "pygments_lexer": "ipython3",
  "version": 3
 },
 "nbformat": 4,
 "nbformat_minor": 2
}
