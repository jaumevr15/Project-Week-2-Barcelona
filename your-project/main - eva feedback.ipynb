{
 "cells": [
  {
   "cell_type": "markdown",
   "metadata": {},
   "source": [
    "# Analysis d fjasnkjfankf\n",
    "d\n",
    "fdfdfsds\n",
    "\n",
    "- dgdg\n",
    "- gdfgd\n",
    "- gdfdg"
   ]
  },
  {
   "cell_type": "code",
   "execution_count": 1,
   "metadata": {},
   "outputs": [],
   "source": [
    "import pandas as pd\n",
    "import numpy as np\n",
    "import re\n",
    "\n",
    "df = pd.read_csv('temperaturesbarcelonadesde1780.csv')\n",
    "ds = pd.read_csv('temperaturesbarcelonadesde1780_format_long.csv')\n",
    "\n",
    "#df is a Dataframe with Year and Montlhy average temperature as columns.\n",
    "#And years as rows\n",
    "\n",
    "#It is important for us to use Years as the main index for easy manipulation\n",
    "df_years = df.set_index('Any')"
   ]
  },
  {
   "cell_type": "code",
   "execution_count": 4,
   "metadata": {},
   "outputs": [
    {
     "data": {
      "text/plain": [
       "Any              int64\n",
       "Mes              int64\n",
       "Desc_Mes        object\n",
       "Temperatura    float64\n",
       "dtype: object"
      ]
     },
     "execution_count": 4,
     "metadata": {},
     "output_type": "execute_result"
    }
   ],
   "source": [
    "ds.dtypes"
   ]
  },
  {
   "cell_type": "code",
   "execution_count": 2,
   "metadata": {},
   "outputs": [
    {
     "data": {
      "text/html": [
       "<div>\n",
       "<style scoped>\n",
       "    .dataframe tbody tr th:only-of-type {\n",
       "        vertical-align: middle;\n",
       "    }\n",
       "\n",
       "    .dataframe tbody tr th {\n",
       "        vertical-align: top;\n",
       "    }\n",
       "\n",
       "    .dataframe thead th {\n",
       "        text-align: right;\n",
       "    }\n",
       "</style>\n",
       "<table border=\"1\" class=\"dataframe\">\n",
       "  <thead>\n",
       "    <tr style=\"text-align: right;\">\n",
       "      <th></th>\n",
       "      <th>Avg_temp</th>\n",
       "    </tr>\n",
       "    <tr>\n",
       "      <th>Year</th>\n",
       "      <th></th>\n",
       "    </tr>\n",
       "  </thead>\n",
       "  <tbody>\n",
       "    <tr>\n",
       "      <td>1818</td>\n",
       "      <td>14.07</td>\n",
       "    </tr>\n",
       "    <tr>\n",
       "      <td>1819</td>\n",
       "      <td>14.34</td>\n",
       "    </tr>\n",
       "    <tr>\n",
       "      <td>1820</td>\n",
       "      <td>13.49</td>\n",
       "    </tr>\n",
       "    <tr>\n",
       "      <td>1821</td>\n",
       "      <td>14.31</td>\n",
       "    </tr>\n",
       "    <tr>\n",
       "      <td>1822</td>\n",
       "      <td>14.91</td>\n",
       "    </tr>\n",
       "    <tr>\n",
       "      <td>...</td>\n",
       "      <td>...</td>\n",
       "    </tr>\n",
       "    <tr>\n",
       "      <td>2014</td>\n",
       "      <td>16.27</td>\n",
       "    </tr>\n",
       "    <tr>\n",
       "      <td>2015</td>\n",
       "      <td>16.60</td>\n",
       "    </tr>\n",
       "    <tr>\n",
       "      <td>2016</td>\n",
       "      <td>16.48</td>\n",
       "    </tr>\n",
       "    <tr>\n",
       "      <td>2017</td>\n",
       "      <td>16.38</td>\n",
       "    </tr>\n",
       "    <tr>\n",
       "      <td>2018</td>\n",
       "      <td>16.28</td>\n",
       "    </tr>\n",
       "  </tbody>\n",
       "</table>\n",
       "<p>201 rows × 1 columns</p>\n",
       "</div>"
      ],
      "text/plain": [
       "      Avg_temp\n",
       "Year          \n",
       "1818     14.07\n",
       "1819     14.34\n",
       "1820     13.49\n",
       "1821     14.31\n",
       "1822     14.91\n",
       "...        ...\n",
       "2014     16.27\n",
       "2015     16.60\n",
       "2016     16.48\n",
       "2017     16.38\n",
       "2018     16.28\n",
       "\n",
       "[201 rows x 1 columns]"
      ]
     },
     "execution_count": 2,
     "metadata": {},
     "output_type": "execute_result"
    }
   ],
   "source": [
    "#In order to find the average temperature of each year, we create two lists and we iterate between the years 1818-2018\n",
    "years = range(1818,2019)\n",
    "ymean = []\n",
    "yyear = []\n",
    "for r in years:\n",
    "    t = round(df_years.loc[r].mean(),2)\n",
    "    ymean.append(t)\n",
    "    yyear.append(r)\n",
    "    \n",
    "#We already have two lists, ymean has the average temperatures and yyear has the years. We create a dictionary with the description and the values. And we convert it to a Dataframe\n",
    "ydict = {'Year': yyear, 'Avg_temp': ymean}\n",
    "ymean_df = pd.DataFrame.from_dict(ydict)\n",
    "ymean_df = ymean_df.set_index('Year')\n",
    "ymean_df"
   ]
  },
  {
   "cell_type": "code",
   "execution_count": 3,
   "metadata": {},
   "outputs": [
    {
     "data": {
      "text/plain": [
       "Any\n",
       "1780    14.075000\n",
       "1781    14.716667\n",
       "1782    13.633333\n",
       "1783    14.400000\n",
       "1784    13.616667\n",
       "          ...    \n",
       "2014    16.275000\n",
       "2015    16.600000\n",
       "2016    16.475000\n",
       "2017    16.375000\n",
       "2018    16.283333\n",
       "Length: 239, dtype: float64"
      ]
     },
     "execution_count": 3,
     "metadata": {},
     "output_type": "execute_result"
    }
   ],
   "source": [
    "# Alternative\n",
    "df_years.mean(axis=1)"
   ]
  },
  {
   "cell_type": "code",
   "execution_count": 4,
   "metadata": {},
   "outputs": [
    {
     "data": {
      "text/html": [
       "<div>\n",
       "<style scoped>\n",
       "    .dataframe tbody tr th:only-of-type {\n",
       "        vertical-align: middle;\n",
       "    }\n",
       "\n",
       "    .dataframe tbody tr th {\n",
       "        vertical-align: top;\n",
       "    }\n",
       "\n",
       "    .dataframe thead th {\n",
       "        text-align: right;\n",
       "    }\n",
       "</style>\n",
       "<table border=\"1\" class=\"dataframe\">\n",
       "  <thead>\n",
       "    <tr style=\"text-align: right;\">\n",
       "      <th></th>\n",
       "      <th>Avg_temp</th>\n",
       "    </tr>\n",
       "    <tr>\n",
       "      <th>Year</th>\n",
       "      <th></th>\n",
       "    </tr>\n",
       "  </thead>\n",
       "  <tbody>\n",
       "    <tr>\n",
       "      <td>2015</td>\n",
       "      <td>16.60</td>\n",
       "    </tr>\n",
       "    <tr>\n",
       "      <td>2006</td>\n",
       "      <td>16.56</td>\n",
       "    </tr>\n",
       "    <tr>\n",
       "      <td>2016</td>\n",
       "      <td>16.48</td>\n",
       "    </tr>\n",
       "    <tr>\n",
       "      <td>2003</td>\n",
       "      <td>16.40</td>\n",
       "    </tr>\n",
       "    <tr>\n",
       "      <td>2017</td>\n",
       "      <td>16.38</td>\n",
       "    </tr>\n",
       "    <tr>\n",
       "      <td>...</td>\n",
       "      <td>...</td>\n",
       "    </tr>\n",
       "    <tr>\n",
       "      <td>1883</td>\n",
       "      <td>13.28</td>\n",
       "    </tr>\n",
       "    <tr>\n",
       "      <td>1851</td>\n",
       "      <td>13.25</td>\n",
       "    </tr>\n",
       "    <tr>\n",
       "      <td>1829</td>\n",
       "      <td>13.22</td>\n",
       "    </tr>\n",
       "    <tr>\n",
       "      <td>1853</td>\n",
       "      <td>13.10</td>\n",
       "    </tr>\n",
       "    <tr>\n",
       "      <td>1887</td>\n",
       "      <td>12.85</td>\n",
       "    </tr>\n",
       "  </tbody>\n",
       "</table>\n",
       "<p>201 rows × 1 columns</p>\n",
       "</div>"
      ],
      "text/plain": [
       "      Avg_temp\n",
       "Year          \n",
       "2015     16.60\n",
       "2006     16.56\n",
       "2016     16.48\n",
       "2003     16.40\n",
       "2017     16.38\n",
       "...        ...\n",
       "1883     13.28\n",
       "1851     13.25\n",
       "1829     13.22\n",
       "1853     13.10\n",
       "1887     12.85\n",
       "\n",
       "[201 rows x 1 columns]"
      ]
     },
     "execution_count": 4,
     "metadata": {},
     "output_type": "execute_result"
    }
   ],
   "source": [
    "#### FINDING MAX YEARLY AVG AND MIN\n",
    "ymean_sort = ymean_df.sort_values('Avg_temp', ascending= False)\n",
    "ymean_sort"
   ]
  },
  {
   "cell_type": "code",
   "execution_count": 5,
   "metadata": {},
   "outputs": [
    {
     "name": "stdout",
     "output_type": "stream",
     "text": [
      "1887 - 12.85\n",
      "2015 - 16.6\n"
     ]
    }
   ],
   "source": [
    "# Alternative\n",
    "min_idx = ymean_df.idxmin()[0]\n",
    "max_idx = ymean_df.idxmax()[0]\n",
    "min_value = ymean_df.min()[0]\n",
    "max_value = ymean_df.max()[0]\n",
    "print(f\"{min_idx} - {min_value}\")\n",
    "print(f\"{max_idx} - {max_value}\")"
   ]
  },
  {
   "cell_type": "code",
   "execution_count": 6,
   "metadata": {},
   "outputs": [
    {
     "data": {
      "text/plain": [
       "Avg_temp    14.654428\n",
       "dtype: float64"
      ]
     },
     "execution_count": 6,
     "metadata": {},
     "output_type": "execute_result"
    }
   ],
   "source": [
    "#### Average of the 200 years\n",
    "ymean_mean = ymean_df.mean()\n",
    "ymean_mean"
   ]
  },
  {
   "cell_type": "code",
   "execution_count": 7,
   "metadata": {},
   "outputs": [
    {
     "data": {
      "text/plain": [
       "Avg_temp    3.75\n",
       "dtype: float64"
      ]
     },
     "execution_count": 7,
     "metadata": {},
     "output_type": "execute_result"
    }
   ],
   "source": [
    "## Difference between hottest and coldest in years and temperature\n",
    "maxdif = ymean_df.iloc[197] - ymean_df.iloc[69]\n",
    "maxdif"
   ]
  },
  {
   "cell_type": "code",
   "execution_count": 8,
   "metadata": {},
   "outputs": [
    {
     "data": {
      "text/plain": [
       "3.7500000000000018"
      ]
     },
     "execution_count": 8,
     "metadata": {},
     "output_type": "execute_result"
    }
   ],
   "source": [
    "# Alternative 1\n",
    "maxdif = ymean_df['Avg_temp'][max_idx] - ymean_df['Avg_temp'][min_idx]\n",
    "maxdif"
   ]
  },
  {
   "cell_type": "code",
   "execution_count": 9,
   "metadata": {},
   "outputs": [
    {
     "data": {
      "text/plain": [
       "3.7500000000000018"
      ]
     },
     "execution_count": 9,
     "metadata": {},
     "output_type": "execute_result"
    }
   ],
   "source": [
    "# Alternative 2\n",
    "maxdif = ymean_df.loc[max_idx, 'Avg_temp'] - ymean_df.loc[min_idx, 'Avg_temp']\n",
    "maxdif"
   ]
  },
  {
   "cell_type": "code",
   "execution_count": 10,
   "metadata": {},
   "outputs": [],
   "source": [
    "####### GLOSSARY OF VARIABLES\n",
    "## [[df_years]] = The original chart making years as the main index\n",
    "# df_years\n",
    "## [[ymean_df]] = Chart with years and their yearly average. Sorted by years\n",
    "# ymean_df\n",
    "## [[ymean_mean]] = The average temperature for the 200 years analized, 14,65ºC\n",
    "# ymean_mean\n",
    "## [[ymean_sort]] = is a chart with the 200 years and their temperature sorted from hottest to coldest.\n",
    "# ymean_sort\n",
    "## [[maxdif]] = The difference in temperature and years from the hottest to the coolest.\n",
    "# maxdif"
   ]
  },
  {
   "cell_type": "code",
   "execution_count": 11,
   "metadata": {},
   "outputs": [
    {
     "name": "stdout",
     "output_type": "stream",
     "text": [
      "(100, 2)\n"
     ]
    }
   ],
   "source": [
    "### Calculating 100 year average temperatures gap\n",
    "hundyr = range(100)\n",
    "hungap = []\n",
    "hunyr = []\n",
    "for h in hundyr:\n",
    "    raw = ymean_df.iloc[101+h] - ymean_df.iloc[1+h]\n",
    "    yr = 1919\n",
    "    hunyr.append(f'{yr+h}-{yr-100+h}')\n",
    "    hungap.append(raw)\n",
    "\n",
    "gapdict = {'Period': hunyr, 'Avtempdif': hungap}\n",
    "gap_df = pd.DataFrame.from_dict(gapdict)\n",
    "gap_df.Avtempdif = gap_df.Avtempdif.apply(lambda x: x.replace('Avg_temp ', ''))\n",
    "sortgap = gap_df.sort_values('Avtempdif', ascending=False)\n",
    "gap_df.head()\n",
    "print(gap_df.shape)"
   ]
  },
  {
   "cell_type": "code",
   "execution_count": 12,
   "metadata": {},
   "outputs": [
    {
     "name": "stdout",
     "output_type": "stream",
     "text": [
      "(50, 2)\n"
     ]
    }
   ],
   "source": [
    "### Calculating 50 year average temperatures gap\n",
    "hundyr = range(50)\n",
    "hungap = []\n",
    "hunyr = []\n",
    "for h in hundyr:\n",
    "    raw = ymean_df.iloc[151+h] - ymean_df.iloc[101+h]\n",
    "    yr = 1969\n",
    "    hunyr.append(f'{yr+h}-{yr-50+h}')\n",
    "    hungap.append(raw)\n",
    "\n",
    "gapdict = {'Period': hunyr, 'Avtempdif': hungap}\n",
    "gap_df = pd.DataFrame.from_dict(gapdict)\n",
    "gap_df.Avtempdif = gap_df.Avtempdif.apply(lambda x: x.replace('Avg_temp ', ''))\n",
    "sortgap50 = gap_df.sort_values('Avtempdif', ascending=False)\n",
    "gap_df.head()\n",
    "print(gap_df.shape)"
   ]
  },
  {
   "cell_type": "code",
   "execution_count": 13,
   "metadata": {},
   "outputs": [
    {
     "name": "stdout",
     "output_type": "stream",
     "text": [
      "(101, 1) (151, 1)\n"
     ]
    }
   ],
   "source": [
    "# Alternative\n",
    "def create_gap_diff(period):\n",
    "    gap_df = ymean_df.diff(periods=period).dropna()\n",
    "    gap_df.index = [f\"{idx} - {idx - period}\" for idx in gap_df.index]\n",
    "    return gap_df\n",
    "\n",
    "gap_100_df = create_gap_diff(100)\n",
    "gap_50_df = create_gap_diff(50)"
   ]
  },
  {
   "cell_type": "code",
   "execution_count": 14,
   "metadata": {},
   "outputs": [
    {
     "data": {
      "text/html": [
       "<div>\n",
       "<style scoped>\n",
       "    .dataframe tbody tr th:only-of-type {\n",
       "        vertical-align: middle;\n",
       "    }\n",
       "\n",
       "    .dataframe tbody tr th {\n",
       "        vertical-align: top;\n",
       "    }\n",
       "\n",
       "    .dataframe thead th {\n",
       "        text-align: right;\n",
       "    }\n",
       "</style>\n",
       "<table border=\"1\" class=\"dataframe\">\n",
       "  <thead>\n",
       "    <tr style=\"text-align: right;\">\n",
       "      <th></th>\n",
       "      <th>T1Avg</th>\n",
       "      <th>T2Avg</th>\n",
       "      <th>T3Avg</th>\n",
       "      <th>T4Avg</th>\n",
       "      <th>Std</th>\n",
       "      <th>YAvg</th>\n",
       "    </tr>\n",
       "    <tr>\n",
       "      <th>Any</th>\n",
       "      <th></th>\n",
       "      <th></th>\n",
       "      <th></th>\n",
       "      <th></th>\n",
       "      <th></th>\n",
       "      <th></th>\n",
       "    </tr>\n",
       "  </thead>\n",
       "  <tbody>\n",
       "    <tr>\n",
       "      <td>2014</td>\n",
       "      <td>10.73</td>\n",
       "      <td>17.73</td>\n",
       "      <td>22.53</td>\n",
       "      <td>14.10</td>\n",
       "      <td>4.379489</td>\n",
       "      <td>16.27</td>\n",
       "    </tr>\n",
       "    <tr>\n",
       "      <td>2015</td>\n",
       "      <td>9.77</td>\n",
       "      <td>19.03</td>\n",
       "      <td>23.07</td>\n",
       "      <td>14.53</td>\n",
       "      <td>4.967384</td>\n",
       "      <td>16.60</td>\n",
       "    </tr>\n",
       "    <tr>\n",
       "      <td>2016</td>\n",
       "      <td>11.03</td>\n",
       "      <td>17.20</td>\n",
       "      <td>23.90</td>\n",
       "      <td>13.77</td>\n",
       "      <td>4.811999</td>\n",
       "      <td>16.48</td>\n",
       "    </tr>\n",
       "    <tr>\n",
       "      <td>2017</td>\n",
       "      <td>10.87</td>\n",
       "      <td>18.70</td>\n",
       "      <td>22.73</td>\n",
       "      <td>13.20</td>\n",
       "      <td>4.641587</td>\n",
       "      <td>16.38</td>\n",
       "    </tr>\n",
       "    <tr>\n",
       "      <td>2018</td>\n",
       "      <td>9.33</td>\n",
       "      <td>17.77</td>\n",
       "      <td>24.53</td>\n",
       "      <td>13.50</td>\n",
       "      <td>5.619463</td>\n",
       "      <td>16.28</td>\n",
       "    </tr>\n",
       "  </tbody>\n",
       "</table>\n",
       "</div>"
      ],
      "text/plain": [
       "      T1Avg  T2Avg  T3Avg  T4Avg       Std   YAvg\n",
       "Any                                              \n",
       "2014  10.73  17.73  22.53  14.10  4.379489  16.27\n",
       "2015   9.77  19.03  23.07  14.53  4.967384  16.60\n",
       "2016  11.03  17.20  23.90  13.77  4.811999  16.48\n",
       "2017  10.87  18.70  22.73  13.20  4.641587  16.38\n",
       "2018   9.33  17.77  24.53  13.50  5.619463  16.28"
      ]
     },
     "execution_count": 14,
     "metadata": {},
     "output_type": "execute_result"
    }
   ],
   "source": [
    "# Calculating average temperatures of the different seasons and the yearly standard deviation.\n",
    "dff = pd.read_csv('temperaturesbarcelonadesde1780.csv')\n",
    "columns = ['Any', 1,2,3,4,5,6,7,8,9,10,11,12]\n",
    "dff.columns = columns\n",
    "\n",
    "t0 = dff[['Any']]\n",
    "t1 = dff[['Any', 1,2,3]]\n",
    "t2 = dff[['Any', 4,5,6]]\n",
    "t3 = dff[['Any', 7,8,9]]\n",
    "t4 = dff[['Any', 10,11,12]]\n",
    "\n",
    "t0 = t0.set_index('Any')\n",
    "t1 = t1.set_index('Any')\n",
    "t2 = t2.set_index('Any')\n",
    "t3 = t3.set_index('Any')\n",
    "t4 = t4.set_index('Any')\n",
    "\n",
    "years = range(0,239)\n",
    "t1mean = []\n",
    "t2mean = []\n",
    "t3mean = []\n",
    "t4mean = []\n",
    "\n",
    "for r in years:\n",
    "   t = round(t1.iloc[r].mean(),2)\n",
    "   t22 = round(t2.iloc[r].mean(),2)\n",
    "   t33 = round(t3.iloc[r].mean(),2)\n",
    "   t44 = round(t4.iloc[r].mean(),2)\n",
    "   t1mean.append(t)\n",
    "   t2mean.append(t22)\n",
    "   t3mean.append(t33)\n",
    "   t4mean.append(t44)\n",
    "\n",
    "t0.insert(0, 'T1Avg', t1mean, True)\n",
    "t0.insert(1, 'T2Avg', t2mean, True)\n",
    "t0.insert(2, 'T3Avg', t3mean, True)\n",
    "t0.insert(3, 'T4Avg', t4mean, True)\n",
    "t0def = t0.iloc[38:239]\n",
    "t0def.insert(4, 'YAvg', ymean, True) \n",
    "stdt0 = t0def.std(axis=1)\n",
    "defchart = pd.DataFrame(stdt0)\n",
    "t0def.insert(4, 'Std', defchart, True)\n",
    "t0def.tail()"
   ]
  },
  {
   "cell_type": "code",
   "execution_count": 30,
   "metadata": {},
   "outputs": [
    {
     "data": {
      "text/html": [
       "<div>\n",
       "<style scoped>\n",
       "    .dataframe tbody tr th:only-of-type {\n",
       "        vertical-align: middle;\n",
       "    }\n",
       "\n",
       "    .dataframe tbody tr th {\n",
       "        vertical-align: top;\n",
       "    }\n",
       "\n",
       "    .dataframe thead th {\n",
       "        text-align: right;\n",
       "    }\n",
       "</style>\n",
       "<table border=\"1\" class=\"dataframe\">\n",
       "  <thead>\n",
       "    <tr style=\"text-align: right;\">\n",
       "      <th></th>\n",
       "      <th>Q1Avg</th>\n",
       "      <th>Q2Avg</th>\n",
       "      <th>Q3Avg</th>\n",
       "      <th>Q4Avg</th>\n",
       "      <th>Std</th>\n",
       "      <th>YAvg</th>\n",
       "    </tr>\n",
       "    <tr>\n",
       "      <th>Any</th>\n",
       "      <th></th>\n",
       "      <th></th>\n",
       "      <th></th>\n",
       "      <th></th>\n",
       "      <th></th>\n",
       "      <th></th>\n",
       "    </tr>\n",
       "  </thead>\n",
       "  <tbody>\n",
       "    <tr>\n",
       "      <td>2014</td>\n",
       "      <td>10.733333</td>\n",
       "      <td>17.733333</td>\n",
       "      <td>22.533333</td>\n",
       "      <td>14.100000</td>\n",
       "      <td>5.057475</td>\n",
       "      <td>16.275000</td>\n",
       "    </tr>\n",
       "    <tr>\n",
       "      <td>2015</td>\n",
       "      <td>9.766667</td>\n",
       "      <td>19.033333</td>\n",
       "      <td>23.066667</td>\n",
       "      <td>14.533333</td>\n",
       "      <td>5.735981</td>\n",
       "      <td>16.600000</td>\n",
       "    </tr>\n",
       "    <tr>\n",
       "      <td>2016</td>\n",
       "      <td>11.033333</td>\n",
       "      <td>17.200000</td>\n",
       "      <td>23.900000</td>\n",
       "      <td>13.766667</td>\n",
       "      <td>5.555869</td>\n",
       "      <td>16.475000</td>\n",
       "    </tr>\n",
       "    <tr>\n",
       "      <td>2017</td>\n",
       "      <td>10.866667</td>\n",
       "      <td>18.700000</td>\n",
       "      <td>22.733333</td>\n",
       "      <td>13.200000</td>\n",
       "      <td>5.362101</td>\n",
       "      <td>16.375000</td>\n",
       "    </tr>\n",
       "    <tr>\n",
       "      <td>2018</td>\n",
       "      <td>9.333333</td>\n",
       "      <td>17.766667</td>\n",
       "      <td>24.533333</td>\n",
       "      <td>13.500000</td>\n",
       "      <td>6.488765</td>\n",
       "      <td>16.283333</td>\n",
       "    </tr>\n",
       "  </tbody>\n",
       "</table>\n",
       "</div>"
      ],
      "text/plain": [
       "          Q1Avg      Q2Avg      Q3Avg      Q4Avg       Std       YAvg\n",
       "Any                                                                  \n",
       "2014  10.733333  17.733333  22.533333  14.100000  5.057475  16.275000\n",
       "2015   9.766667  19.033333  23.066667  14.533333  5.735981  16.600000\n",
       "2016  11.033333  17.200000  23.900000  13.766667  5.555869  16.475000\n",
       "2017  10.866667  18.700000  22.733333  13.200000  5.362101  16.375000\n",
       "2018   9.333333  17.766667  24.533333  13.500000  6.488765  16.283333"
      ]
     },
     "execution_count": 30,
     "metadata": {},
     "output_type": "execute_result"
    }
   ],
   "source": [
    "# Alternative\n",
    "df = pd.read_csv('temperaturesbarcelonadesde1780.csv')\n",
    "df_years = df.set_index('Any')\n",
    "columns = df_years.columns\n",
    "quarters = [list(df_years.columns[idx:idx+3]) for idx in range(0, len(df_years.columns), 3)]\n",
    "\n",
    "for idx, quarter in enumerate(quarters):\n",
    "    df_years[f\"Q{idx+1}Avg\"] = df_years[quarter].mean(axis=1)\n",
    "\n",
    "df_years.drop(columns, axis=1, inplace=True)\n",
    "quarter_columns = df_years.columns\n",
    "df_years['Std'] = df_years.std(axis=1)\n",
    "df_years['YAvg'] = df_years[quarter_columns].mean(axis=1)\n",
    "df_years.tail()"
   ]
  },
  {
   "cell_type": "code",
   "execution_count": 16,
   "metadata": {},
   "outputs": [
    {
     "data": {
      "text/html": [
       "<div>\n",
       "<style scoped>\n",
       "    .dataframe tbody tr th:only-of-type {\n",
       "        vertical-align: middle;\n",
       "    }\n",
       "\n",
       "    .dataframe tbody tr th {\n",
       "        vertical-align: top;\n",
       "    }\n",
       "\n",
       "    .dataframe thead th {\n",
       "        text-align: right;\n",
       "    }\n",
       "</style>\n",
       "<table border=\"1\" class=\"dataframe\">\n",
       "  <thead>\n",
       "    <tr style=\"text-align: right;\">\n",
       "      <th></th>\n",
       "      <th>Std</th>\n",
       "    </tr>\n",
       "    <tr>\n",
       "      <th>Any</th>\n",
       "      <th></th>\n",
       "    </tr>\n",
       "  </thead>\n",
       "  <tbody>\n",
       "    <tr>\n",
       "      <td>1912</td>\n",
       "      <td>3.648538</td>\n",
       "    </tr>\n",
       "    <tr>\n",
       "      <td>1977</td>\n",
       "      <td>3.674088</td>\n",
       "    </tr>\n",
       "    <tr>\n",
       "      <td>1972</td>\n",
       "      <td>3.857626</td>\n",
       "    </tr>\n",
       "    <tr>\n",
       "      <td>1882</td>\n",
       "      <td>3.915791</td>\n",
       "    </tr>\n",
       "    <tr>\n",
       "      <td>1833</td>\n",
       "      <td>3.922100</td>\n",
       "    </tr>\n",
       "    <tr>\n",
       "      <td>...</td>\n",
       "      <td>...</td>\n",
       "    </tr>\n",
       "    <tr>\n",
       "      <td>1987</td>\n",
       "      <td>5.730068</td>\n",
       "    </tr>\n",
       "    <tr>\n",
       "      <td>2005</td>\n",
       "      <td>5.744943</td>\n",
       "    </tr>\n",
       "    <tr>\n",
       "      <td>2010</td>\n",
       "      <td>5.802194</td>\n",
       "    </tr>\n",
       "    <tr>\n",
       "      <td>1878</td>\n",
       "      <td>6.110615</td>\n",
       "    </tr>\n",
       "    <tr>\n",
       "      <td>2003</td>\n",
       "      <td>6.240166</td>\n",
       "    </tr>\n",
       "  </tbody>\n",
       "</table>\n",
       "<p>201 rows × 1 columns</p>\n",
       "</div>"
      ],
      "text/plain": [
       "           Std\n",
       "Any           \n",
       "1912  3.648538\n",
       "1977  3.674088\n",
       "1972  3.857626\n",
       "1882  3.915791\n",
       "1833  3.922100\n",
       "...        ...\n",
       "1987  5.730068\n",
       "2005  5.744943\n",
       "2010  5.802194\n",
       "1878  6.110615\n",
       "2003  6.240166\n",
       "\n",
       "[201 rows x 1 columns]"
      ]
     },
     "execution_count": 16,
     "metadata": {},
     "output_type": "execute_result"
    }
   ],
   "source": [
    "#Checking maxs and mins per term \n",
    "\n",
    "#Term1: Winter\n",
    "term1 = t0def[['T1Avg']]\n",
    "sort_term1 = term1.sort_values(\"T1Avg\", ascending=False)\n",
    "sort_term1.head()\n",
    "#sort_term1.tail()\n",
    "\n",
    "#Term2: Spring\n",
    "\n",
    "term2 = t0def[['T2Avg']]\n",
    "sort_term2 = term2.sort_values(\"T2Avg\", ascending=False)\n",
    "sort_term2.head()\n",
    "sort_term2.tail()\n",
    "\n",
    "#Term3: Summer \n",
    "\n",
    "term3 = t0def[['T3Avg']]\n",
    "sort_term3 = term3.sort_values(\"T3Avg\", ascending=False)\n",
    "sort_term3.head()\n",
    "sort_term3.tail()\n",
    "\n",
    "#Term4: Autumn \n",
    "\n",
    "term4 = t0def[['T4Avg']]\n",
    "sort_term4 = term4.sort_values(\"T4Avg\", ascending=False)\n",
    "sort_term4.head()\n",
    "sort_term4.tail()\n",
    "\n",
    "#Checking standard deviations: see highest dispersion \n",
    "\n",
    "#Std\n",
    "\n",
    "Std = t0def[['Std']]\n",
    "sort_Std = Std.sort_values(\"Std\", ascending=True)\n",
    "sort_Std\n",
    "\n"
   ]
  },
  {
   "cell_type": "code",
   "execution_count": 17,
   "metadata": {},
   "outputs": [
    {
     "data": {
      "text/plain": [
       "Q1Avg     6.366667\n",
       "Q2Avg    13.266667\n",
       "Q3Avg    18.333333\n",
       "Q4Avg     8.966667\n",
       "Std       4.210690\n",
       "YAvg     12.508333\n",
       "dtype: float64"
      ]
     },
     "execution_count": 17,
     "metadata": {},
     "output_type": "execute_result"
    }
   ],
   "source": [
    "# Alternative\n",
    "df_years.min()"
   ]
  },
  {
   "cell_type": "code",
   "execution_count": 18,
   "metadata": {},
   "outputs": [
    {
     "data": {
      "text/plain": [
       "Q1Avg    11.600000\n",
       "Q2Avg    19.200000\n",
       "Q3Avg    25.133333\n",
       "Q4Avg    14.533333\n",
       "Std       7.205091\n",
       "YAvg     16.600000\n",
       "dtype: float64"
      ]
     },
     "execution_count": 18,
     "metadata": {},
     "output_type": "execute_result"
    }
   ],
   "source": [
    "df_years.max()"
   ]
  }
 ],
 "metadata": {
  "file_extension": ".py",
  "kernelspec": {
   "display_name": "Python 3",
   "language": "python",
   "name": "python3"
  },
  "language_info": {
   "codemirror_mode": {
    "name": "ipython",
    "version": 3
   },
   "file_extension": ".py",
   "mimetype": "text/x-python",
   "name": "python",
   "nbconvert_exporter": "python",
   "pygments_lexer": "ipython3",
   "version": "3.7.4"
  },
  "mimetype": "text/x-python",
  "name": "python",
  "npconvert_exporter": "python",
  "pygments_lexer": "ipython3",
  "version": 3
 },
 "nbformat": 4,
 "nbformat_minor": 2
}
