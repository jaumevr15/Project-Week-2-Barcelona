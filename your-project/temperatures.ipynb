{
 "cells": [
  {
   "cell_type": "code",
   "execution_count": 293,
   "metadata": {},
   "outputs": [],
   "source": [
    "import pandas as pd\n",
    "import numpy as np\n",
    "import re\n",
    "dff = pd.read_csv('temperaturesbarcelonadesde1780.csv')\n",
    "ds = pd.read_csv('temperaturesbarcelonadesde1780_format_long.csv')\n",
    "\n",
    "#df is a Dataframe with Year and Montlhy average temperature as columns.\n",
    "#And years as rows\n",
    "def quarters(df, quarter):\n",
    "    temp_df = pd.DataFrame()\n",
    "    if '1' in quarter:\n",
    "        temp_df = df['Mes'].apply(lambda x: quarter if x in [1, 2, 3] else np.nan)\n",
    "    elif '2' in quarter:\n",
    "        temp_df = df['Mes'].apply(lambda x: quarter if x in [4, 5, 6] else np.nan)\n",
    "    elif '3' in quarter:\n",
    "        temp_df = df['Mes'].apply(lambda x: quarter if x in [7, 8, 9] else np.nan)\n",
    "    else:\n",
    "        temp_df = df['Mes'].apply(lambda x: quarter if x in [10, 11, 12] else np.nan)\n",
    "    return temp_df\n",
    "\n",
    "df1 = quarters(ds, 'T1')\n",
    "df2 = quarters(ds, 'T2')\n",
    "df3 = quarters(ds, 'T3')\n",
    "df4 = quarters(ds, 'T4')\n",
    "\n",
    "ds['Mes']\n",
    "\n",
    "columns = ['Any', 1,2,3,4,5,6,7,8,9,10,11,12]\n",
    "\n",
    "dff.columns = columns\n",
    "\n"
   ]
  },
  {
   "cell_type": "code",
   "execution_count": 329,
   "metadata": {},
   "outputs": [
    {
     "data": {
      "text/html": "<div>\n<style scoped>\n    .dataframe tbody tr th:only-of-type {\n        vertical-align: middle;\n    }\n\n    .dataframe tbody tr th {\n        vertical-align: top;\n    }\n\n    .dataframe thead th {\n        text-align: right;\n    }\n</style>\n<table border=\"1\" class=\"dataframe\">\n  <thead>\n    <tr style=\"text-align: right;\">\n      <th></th>\n      <th>1</th>\n      <th>2</th>\n      <th>3</th>\n      <th>T1Avg</th>\n    </tr>\n    <tr>\n      <th>Any</th>\n      <th></th>\n      <th></th>\n      <th></th>\n      <th></th>\n    </tr>\n  </thead>\n  <tbody>\n    <tr>\n      <th>1780</th>\n      <td>6.7</td>\n      <td>7.3</td>\n      <td>11.6</td>\n      <td>8.53</td>\n    </tr>\n    <tr>\n      <th>1781</th>\n      <td>7.5</td>\n      <td>8.9</td>\n      <td>10.9</td>\n      <td>9.10</td>\n    </tr>\n    <tr>\n      <th>1782</th>\n      <td>8.2</td>\n      <td>6.1</td>\n      <td>9.8</td>\n      <td>8.03</td>\n    </tr>\n    <tr>\n      <th>1783</th>\n      <td>8.3</td>\n      <td>8.6</td>\n      <td>9.6</td>\n      <td>8.83</td>\n    </tr>\n    <tr>\n      <th>1784</th>\n      <td>7.3</td>\n      <td>7.1</td>\n      <td>10.8</td>\n      <td>8.40</td>\n    </tr>\n    <tr>\n      <th>1785</th>\n      <td>9.0</td>\n      <td>6.4</td>\n      <td>7.9</td>\n      <td>7.77</td>\n    </tr>\n    <tr>\n      <th>1786</th>\n      <td>7.8</td>\n      <td>8.3</td>\n      <td>9.9</td>\n      <td>8.67</td>\n    </tr>\n    <tr>\n      <th>1787</th>\n      <td>5.4</td>\n      <td>7.8</td>\n      <td>11.3</td>\n      <td>8.17</td>\n    </tr>\n    <tr>\n      <th>1788</th>\n      <td>6.4</td>\n      <td>10.1</td>\n      <td>10.4</td>\n      <td>8.97</td>\n    </tr>\n    <tr>\n      <th>1789</th>\n      <td>6.9</td>\n      <td>9.3</td>\n      <td>8.7</td>\n      <td>8.30</td>\n    </tr>\n    <tr>\n      <th>1790</th>\n      <td>7.4</td>\n      <td>9.5</td>\n      <td>10.4</td>\n      <td>9.10</td>\n    </tr>\n    <tr>\n      <th>1791</th>\n      <td>9.5</td>\n      <td>6.9</td>\n      <td>11.1</td>\n      <td>9.17</td>\n    </tr>\n    <tr>\n      <th>1792</th>\n      <td>8.7</td>\n      <td>8.9</td>\n      <td>11.4</td>\n      <td>9.67</td>\n    </tr>\n    <tr>\n      <th>1793</th>\n      <td>6.7</td>\n      <td>8.8</td>\n      <td>9.6</td>\n      <td>8.37</td>\n    </tr>\n    <tr>\n      <th>1794</th>\n      <td>7.0</td>\n      <td>9.7</td>\n      <td>11.2</td>\n      <td>9.30</td>\n    </tr>\n    <tr>\n      <th>1795</th>\n      <td>6.3</td>\n      <td>8.3</td>\n      <td>9.7</td>\n      <td>8.10</td>\n    </tr>\n    <tr>\n      <th>1796</th>\n      <td>9.0</td>\n      <td>7.9</td>\n      <td>6.7</td>\n      <td>7.87</td>\n    </tr>\n    <tr>\n      <th>1797</th>\n      <td>6.8</td>\n      <td>8.7</td>\n      <td>8.3</td>\n      <td>7.93</td>\n    </tr>\n    <tr>\n      <th>1798</th>\n      <td>7.1</td>\n      <td>8.6</td>\n      <td>9.9</td>\n      <td>8.53</td>\n    </tr>\n    <tr>\n      <th>1799</th>\n      <td>7.4</td>\n      <td>11.7</td>\n      <td>10.7</td>\n      <td>9.93</td>\n    </tr>\n    <tr>\n      <th>1800</th>\n      <td>7.5</td>\n      <td>8.9</td>\n      <td>9.1</td>\n      <td>8.50</td>\n    </tr>\n    <tr>\n      <th>1801</th>\n      <td>7.2</td>\n      <td>7.7</td>\n      <td>10.7</td>\n      <td>8.53</td>\n    </tr>\n    <tr>\n      <th>1802</th>\n      <td>3.6</td>\n      <td>7.1</td>\n      <td>9.0</td>\n      <td>6.57</td>\n    </tr>\n    <tr>\n      <th>1803</th>\n      <td>6.9</td>\n      <td>5.0</td>\n      <td>8.1</td>\n      <td>6.67</td>\n    </tr>\n    <tr>\n      <th>1804</th>\n      <td>9.7</td>\n      <td>6.0</td>\n      <td>9.6</td>\n      <td>8.43</td>\n    </tr>\n    <tr>\n      <th>1805</th>\n      <td>6.7</td>\n      <td>8.1</td>\n      <td>9.9</td>\n      <td>8.23</td>\n    </tr>\n    <tr>\n      <th>1806</th>\n      <td>6.8</td>\n      <td>8.3</td>\n      <td>9.9</td>\n      <td>8.33</td>\n    </tr>\n    <tr>\n      <th>1807</th>\n      <td>6.6</td>\n      <td>8.0</td>\n      <td>6.4</td>\n      <td>7.00</td>\n    </tr>\n    <tr>\n      <th>1808</th>\n      <td>5.4</td>\n      <td>5.2</td>\n      <td>8.8</td>\n      <td>6.47</td>\n    </tr>\n    <tr>\n      <th>1809</th>\n      <td>9.5</td>\n      <td>9.2</td>\n      <td>9.4</td>\n      <td>9.37</td>\n    </tr>\n    <tr>\n      <th>...</th>\n      <td>...</td>\n      <td>...</td>\n      <td>...</td>\n      <td>...</td>\n    </tr>\n    <tr>\n      <th>1989</th>\n      <td>8.8</td>\n      <td>10.5</td>\n      <td>12.4</td>\n      <td>10.57</td>\n    </tr>\n    <tr>\n      <th>1990</th>\n      <td>9.0</td>\n      <td>12.5</td>\n      <td>12.6</td>\n      <td>11.37</td>\n    </tr>\n    <tr>\n      <th>1991</th>\n      <td>8.1</td>\n      <td>8.0</td>\n      <td>11.8</td>\n      <td>9.30</td>\n    </tr>\n    <tr>\n      <th>1992</th>\n      <td>7.1</td>\n      <td>8.9</td>\n      <td>11.0</td>\n      <td>9.00</td>\n    </tr>\n    <tr>\n      <th>1993</th>\n      <td>9.0</td>\n      <td>8.2</td>\n      <td>10.2</td>\n      <td>9.13</td>\n    </tr>\n    <tr>\n      <th>1994</th>\n      <td>8.4</td>\n      <td>9.5</td>\n      <td>13.1</td>\n      <td>10.33</td>\n    </tr>\n    <tr>\n      <th>1995</th>\n      <td>8.6</td>\n      <td>11.5</td>\n      <td>10.9</td>\n      <td>10.33</td>\n    </tr>\n    <tr>\n      <th>1996</th>\n      <td>10.2</td>\n      <td>7.7</td>\n      <td>9.9</td>\n      <td>9.27</td>\n    </tr>\n    <tr>\n      <th>1997</th>\n      <td>8.7</td>\n      <td>11.4</td>\n      <td>13.9</td>\n      <td>11.33</td>\n    </tr>\n    <tr>\n      <th>1998</th>\n      <td>8.8</td>\n      <td>11.0</td>\n      <td>12.2</td>\n      <td>10.67</td>\n    </tr>\n    <tr>\n      <th>1999</th>\n      <td>8.8</td>\n      <td>8.6</td>\n      <td>11.6</td>\n      <td>9.67</td>\n    </tr>\n    <tr>\n      <th>2000</th>\n      <td>7.7</td>\n      <td>11.4</td>\n      <td>12.6</td>\n      <td>10.57</td>\n    </tr>\n    <tr>\n      <th>2001</th>\n      <td>9.9</td>\n      <td>10.1</td>\n      <td>14.8</td>\n      <td>11.60</td>\n    </tr>\n    <tr>\n      <th>2002</th>\n      <td>9.2</td>\n      <td>11.1</td>\n      <td>12.3</td>\n      <td>10.87</td>\n    </tr>\n    <tr>\n      <th>2003</th>\n      <td>7.9</td>\n      <td>7.1</td>\n      <td>12.1</td>\n      <td>9.03</td>\n    </tr>\n    <tr>\n      <th>2004</th>\n      <td>9.4</td>\n      <td>8.6</td>\n      <td>10.0</td>\n      <td>9.33</td>\n    </tr>\n    <tr>\n      <th>2005</th>\n      <td>7.2</td>\n      <td>6.5</td>\n      <td>10.2</td>\n      <td>7.97</td>\n    </tr>\n    <tr>\n      <th>2006</th>\n      <td>7.4</td>\n      <td>8.5</td>\n      <td>12.0</td>\n      <td>9.30</td>\n    </tr>\n    <tr>\n      <th>2007</th>\n      <td>9.9</td>\n      <td>11.4</td>\n      <td>12.1</td>\n      <td>11.13</td>\n    </tr>\n    <tr>\n      <th>2008</th>\n      <td>10.1</td>\n      <td>10.2</td>\n      <td>10.8</td>\n      <td>10.37</td>\n    </tr>\n    <tr>\n      <th>2009</th>\n      <td>7.2</td>\n      <td>8.7</td>\n      <td>11.2</td>\n      <td>9.03</td>\n    </tr>\n    <tr>\n      <th>2010</th>\n      <td>6.6</td>\n      <td>8.0</td>\n      <td>9.6</td>\n      <td>8.07</td>\n    </tr>\n    <tr>\n      <th>2011</th>\n      <td>8.4</td>\n      <td>10.0</td>\n      <td>10.9</td>\n      <td>9.77</td>\n    </tr>\n    <tr>\n      <th>2012</th>\n      <td>9.4</td>\n      <td>6.8</td>\n      <td>13.4</td>\n      <td>9.87</td>\n    </tr>\n    <tr>\n      <th>2013</th>\n      <td>9.1</td>\n      <td>7.7</td>\n      <td>11.2</td>\n      <td>9.33</td>\n    </tr>\n    <tr>\n      <th>2014</th>\n      <td>9.8</td>\n      <td>10.1</td>\n      <td>12.3</td>\n      <td>10.73</td>\n    </tr>\n    <tr>\n      <th>2015</th>\n      <td>9.1</td>\n      <td>8.2</td>\n      <td>12.0</td>\n      <td>9.77</td>\n    </tr>\n    <tr>\n      <th>2016</th>\n      <td>10.7</td>\n      <td>11.3</td>\n      <td>11.1</td>\n      <td>11.03</td>\n    </tr>\n    <tr>\n      <th>2017</th>\n      <td>7.9</td>\n      <td>11.4</td>\n      <td>13.3</td>\n      <td>10.87</td>\n    </tr>\n    <tr>\n      <th>2018</th>\n      <td>10.5</td>\n      <td>6.7</td>\n      <td>10.8</td>\n      <td>9.33</td>\n    </tr>\n  </tbody>\n</table>\n<p>239 rows × 4 columns</p>\n</div>",
      "text/plain": "         1     2     3  T1Avg\nAny                          \n1780   6.7   7.3  11.6   8.53\n1781   7.5   8.9  10.9   9.10\n1782   8.2   6.1   9.8   8.03\n1783   8.3   8.6   9.6   8.83\n1784   7.3   7.1  10.8   8.40\n1785   9.0   6.4   7.9   7.77\n1786   7.8   8.3   9.9   8.67\n1787   5.4   7.8  11.3   8.17\n1788   6.4  10.1  10.4   8.97\n1789   6.9   9.3   8.7   8.30\n1790   7.4   9.5  10.4   9.10\n1791   9.5   6.9  11.1   9.17\n1792   8.7   8.9  11.4   9.67\n1793   6.7   8.8   9.6   8.37\n1794   7.0   9.7  11.2   9.30\n1795   6.3   8.3   9.7   8.10\n1796   9.0   7.9   6.7   7.87\n1797   6.8   8.7   8.3   7.93\n1798   7.1   8.6   9.9   8.53\n1799   7.4  11.7  10.7   9.93\n1800   7.5   8.9   9.1   8.50\n1801   7.2   7.7  10.7   8.53\n1802   3.6   7.1   9.0   6.57\n1803   6.9   5.0   8.1   6.67\n1804   9.7   6.0   9.6   8.43\n1805   6.7   8.1   9.9   8.23\n1806   6.8   8.3   9.9   8.33\n1807   6.6   8.0   6.4   7.00\n1808   5.4   5.2   8.8   6.47\n1809   9.5   9.2   9.4   9.37\n...    ...   ...   ...    ...\n1989   8.8  10.5  12.4  10.57\n1990   9.0  12.5  12.6  11.37\n1991   8.1   8.0  11.8   9.30\n1992   7.1   8.9  11.0   9.00\n1993   9.0   8.2  10.2   9.13\n1994   8.4   9.5  13.1  10.33\n1995   8.6  11.5  10.9  10.33\n1996  10.2   7.7   9.9   9.27\n1997   8.7  11.4  13.9  11.33\n1998   8.8  11.0  12.2  10.67\n1999   8.8   8.6  11.6   9.67\n2000   7.7  11.4  12.6  10.57\n2001   9.9  10.1  14.8  11.60\n2002   9.2  11.1  12.3  10.87\n2003   7.9   7.1  12.1   9.03\n2004   9.4   8.6  10.0   9.33\n2005   7.2   6.5  10.2   7.97\n2006   7.4   8.5  12.0   9.30\n2007   9.9  11.4  12.1  11.13\n2008  10.1  10.2  10.8  10.37\n2009   7.2   8.7  11.2   9.03\n2010   6.6   8.0   9.6   8.07\n2011   8.4  10.0  10.9   9.77\n2012   9.4   6.8  13.4   9.87\n2013   9.1   7.7  11.2   9.33\n2014   9.8  10.1  12.3  10.73\n2015   9.1   8.2  12.0   9.77\n2016  10.7  11.3  11.1  11.03\n2017   7.9  11.4  13.3  10.87\n2018  10.5   6.7  10.8   9.33\n\n[239 rows x 4 columns]"
     },
     "execution_count": 329,
     "metadata": {},
     "output_type": "execute_result"
    }
   ],
   "source": [
    "t1 = dff[['Any', 1,2,3]]\n",
    "t2 = dff[['Any', 4,5,6]]\n",
    "t3 = dff[['Any', 7,8,9]]\n",
    "t4 = dff[['Any', 10,11,12]]\n",
    "\n",
    "t1 = t1.set_index('Any')\n",
    "\n",
    "years = range(0,239)\n",
    "t1mean = []\n",
    "for r in years:\n",
    "    t = round(t1.iloc[r].mean(),2)\n",
    "    t1mean.append(t)\n",
    "\n",
    "t1.insert(3, 'T1Avg', t1mean, True)\n",
    "t1"
   ]
  },
  {
   "cell_type": "code",
   "execution_count": 267,
   "metadata": {},
   "outputs": [
    {
     "data": {
      "text/html": "<div>\n<style scoped>\n    .dataframe tbody tr th:only-of-type {\n        vertical-align: middle;\n    }\n\n    .dataframe tbody tr th {\n        vertical-align: top;\n    }\n\n    .dataframe thead th {\n        text-align: right;\n    }\n</style>\n<table border=\"1\" class=\"dataframe\">\n  <thead>\n    <tr style=\"text-align: right;\">\n      <th></th>\n      <th>Avg_temp</th>\n    </tr>\n    <tr>\n      <th>Year</th>\n      <th></th>\n    </tr>\n  </thead>\n  <tbody>\n    <tr>\n      <th>1818</th>\n      <td>14.07</td>\n    </tr>\n    <tr>\n      <th>1819</th>\n      <td>14.34</td>\n    </tr>\n    <tr>\n      <th>1820</th>\n      <td>13.49</td>\n    </tr>\n    <tr>\n      <th>1821</th>\n      <td>14.31</td>\n    </tr>\n    <tr>\n      <th>1822</th>\n      <td>14.91</td>\n    </tr>\n    <tr>\n      <th>1823</th>\n      <td>13.74</td>\n    </tr>\n    <tr>\n      <th>1824</th>\n      <td>13.98</td>\n    </tr>\n    <tr>\n      <th>1825</th>\n      <td>14.17</td>\n    </tr>\n    <tr>\n      <th>1826</th>\n      <td>13.88</td>\n    </tr>\n    <tr>\n      <th>1827</th>\n      <td>13.48</td>\n    </tr>\n    <tr>\n      <th>1828</th>\n      <td>14.78</td>\n    </tr>\n    <tr>\n      <th>1829</th>\n      <td>13.22</td>\n    </tr>\n    <tr>\n      <th>1830</th>\n      <td>13.93</td>\n    </tr>\n    <tr>\n      <th>1831</th>\n      <td>14.88</td>\n    </tr>\n    <tr>\n      <th>1832</th>\n      <td>14.19</td>\n    </tr>\n    <tr>\n      <th>1833</th>\n      <td>13.92</td>\n    </tr>\n    <tr>\n      <th>1834</th>\n      <td>14.49</td>\n    </tr>\n    <tr>\n      <th>1835</th>\n      <td>13.45</td>\n    </tr>\n    <tr>\n      <th>1836</th>\n      <td>13.34</td>\n    </tr>\n    <tr>\n      <th>1837</th>\n      <td>13.50</td>\n    </tr>\n    <tr>\n      <th>1838</th>\n      <td>14.05</td>\n    </tr>\n    <tr>\n      <th>1839</th>\n      <td>13.87</td>\n    </tr>\n    <tr>\n      <th>1840</th>\n      <td>13.72</td>\n    </tr>\n    <tr>\n      <th>1841</th>\n      <td>13.92</td>\n    </tr>\n    <tr>\n      <th>1842</th>\n      <td>14.05</td>\n    </tr>\n    <tr>\n      <th>1843</th>\n      <td>13.53</td>\n    </tr>\n    <tr>\n      <th>1844</th>\n      <td>14.07</td>\n    </tr>\n    <tr>\n      <th>1845</th>\n      <td>13.96</td>\n    </tr>\n    <tr>\n      <th>1846</th>\n      <td>15.65</td>\n    </tr>\n    <tr>\n      <th>1847</th>\n      <td>14.98</td>\n    </tr>\n    <tr>\n      <th>...</th>\n      <td>...</td>\n    </tr>\n    <tr>\n      <th>1989</th>\n      <td>16.13</td>\n    </tr>\n    <tr>\n      <th>1990</th>\n      <td>15.80</td>\n    </tr>\n    <tr>\n      <th>1991</th>\n      <td>14.88</td>\n    </tr>\n    <tr>\n      <th>1992</th>\n      <td>15.03</td>\n    </tr>\n    <tr>\n      <th>1993</th>\n      <td>14.96</td>\n    </tr>\n    <tr>\n      <th>1994</th>\n      <td>16.04</td>\n    </tr>\n    <tr>\n      <th>1995</th>\n      <td>15.84</td>\n    </tr>\n    <tr>\n      <th>1996</th>\n      <td>14.98</td>\n    </tr>\n    <tr>\n      <th>1997</th>\n      <td>16.29</td>\n    </tr>\n    <tr>\n      <th>1998</th>\n      <td>15.62</td>\n    </tr>\n    <tr>\n      <th>1999</th>\n      <td>15.59</td>\n    </tr>\n    <tr>\n      <th>2000</th>\n      <td>15.91</td>\n    </tr>\n    <tr>\n      <th>2001</th>\n      <td>16.16</td>\n    </tr>\n    <tr>\n      <th>2002</th>\n      <td>15.78</td>\n    </tr>\n    <tr>\n      <th>2003</th>\n      <td>16.40</td>\n    </tr>\n    <tr>\n      <th>2004</th>\n      <td>15.75</td>\n    </tr>\n    <tr>\n      <th>2005</th>\n      <td>15.32</td>\n    </tr>\n    <tr>\n      <th>2006</th>\n      <td>16.56</td>\n    </tr>\n    <tr>\n      <th>2007</th>\n      <td>15.95</td>\n    </tr>\n    <tr>\n      <th>2008</th>\n      <td>15.43</td>\n    </tr>\n    <tr>\n      <th>2009</th>\n      <td>16.22</td>\n    </tr>\n    <tr>\n      <th>2010</th>\n      <td>15.05</td>\n    </tr>\n    <tr>\n      <th>2011</th>\n      <td>16.22</td>\n    </tr>\n    <tr>\n      <th>2012</th>\n      <td>16.08</td>\n    </tr>\n    <tr>\n      <th>2013</th>\n      <td>15.82</td>\n    </tr>\n    <tr>\n      <th>2014</th>\n      <td>16.27</td>\n    </tr>\n    <tr>\n      <th>2015</th>\n      <td>16.60</td>\n    </tr>\n    <tr>\n      <th>2016</th>\n      <td>16.47</td>\n    </tr>\n    <tr>\n      <th>2017</th>\n      <td>16.37</td>\n    </tr>\n    <tr>\n      <th>2018</th>\n      <td>16.28</td>\n    </tr>\n  </tbody>\n</table>\n<p>201 rows × 1 columns</p>\n</div>",
      "text/plain": "      Avg_temp\nYear          \n1818     14.07\n1819     14.34\n1820     13.49\n1821     14.31\n1822     14.91\n1823     13.74\n1824     13.98\n1825     14.17\n1826     13.88\n1827     13.48\n1828     14.78\n1829     13.22\n1830     13.93\n1831     14.88\n1832     14.19\n1833     13.92\n1834     14.49\n1835     13.45\n1836     13.34\n1837     13.50\n1838     14.05\n1839     13.87\n1840     13.72\n1841     13.92\n1842     14.05\n1843     13.53\n1844     14.07\n1845     13.96\n1846     15.65\n1847     14.98\n...        ...\n1989     16.13\n1990     15.80\n1991     14.88\n1992     15.03\n1993     14.96\n1994     16.04\n1995     15.84\n1996     14.98\n1997     16.29\n1998     15.62\n1999     15.59\n2000     15.91\n2001     16.16\n2002     15.78\n2003     16.40\n2004     15.75\n2005     15.32\n2006     16.56\n2007     15.95\n2008     15.43\n2009     16.22\n2010     15.05\n2011     16.22\n2012     16.08\n2013     15.82\n2014     16.27\n2015     16.60\n2016     16.47\n2017     16.37\n2018     16.28\n\n[201 rows x 1 columns]"
     },
     "execution_count": 267,
     "metadata": {},
     "output_type": "execute_result"
    }
   ],
   "source": [
    "#It is important for us to use Years as the main index for easy manipulation\n",
    "df_years = df.set_index('Any')\n",
    "\n",
    "#In order to find the average temperature of each year, we create two lists and we iterate between the years 1818-2018\n",
    "\n",
    "years = range(1818,2019)\n",
    "ymean = []\n",
    "yyear = []\n",
    "for r in years:\n",
    "    t = round(df_years.loc[r].mean(),2)\n",
    "    ymean.append(t)\n",
    "    yyear.append(r)\n",
    "\n",
    "#We already have two lists, ymean has the average temperatures and yyear has the years. We create a dictionary with the description and the values. And we convert it to a Dataframe\n",
    "ydict = {'Year': yyear, 'Avg_temp': ymean}\n",
    "ymean_df = pd.DataFrame.from_dict(ydict)\n",
    "ymean_df = ymean_df.set_index('Year')\n",
    "\n",
    "#### FINDING MAX YEARLY AVG AND MIN\n",
    "ymean_sort = ymean_df.sort_values('Avg_temp', ascending= False)\n",
    "\n",
    "#### Average of the 200 years\n",
    "ymean_mean = ymean_df.mean()\n",
    "\n",
    "\n",
    "## Difference between hottest and coldest in years and temperature\n",
    "maxdif = ymean_df.iloc[197] - ymean_df.iloc[69]\n",
    "\n",
    "####### GLOSSARY OF VARIABLES\n",
    "## [[df_years]] = The original chart making years as the main index\n",
    "# df_years\n",
    "## [[ymean_df]] = Chart with years and their yearly average. Sorted by years\n",
    "ymean_df\n",
    "## [[ymean_mean]] = The average temperature for the 200 years analized, 14,65ºC\n",
    "# ymean_mean\n",
    "## [[ymean_sort]] = is a chart with the 200 years and their temperature sorted from hottest to coldest.\n",
    "# ymean_sort\n",
    "## [[maxdif]] = The difference in temperature and years from the hottest to the coolest.\n",
    "# maxdif"
   ]
  },
  {
   "cell_type": "code",
   "execution_count": 205,
   "metadata": {},
   "outputs": [],
   "source": [
    "#PROJECT QUESTION: Is Climate Change happenning in Barcelona?\n",
    "# -- We considered climate change is happening if there is an increase of temperature above of 1,5ºC during the XXI century (100 years).\n",
    "## https://www.bbc.com/news/science-environment-45678338\n",
    "## https://www.ipcc.ch/sr15/chapter/glossary/\n",
    "\n",
    "#Q1: Has the temperature increased in Barcelona in the last 200 years?\n",
    "# Temperature difference between averages from 2018 and 1993\n",
    "#### ymean_df.iloc[200] - ymean_df.iloc[175]\n",
    "#Output: +1,32ºC\n",
    "# Temperature difference between averages from 2018 and 1968\n",
    "#### ymean_df.iloc[200] - ymean_df.iloc[150]\n",
    "#Output: +1,41ºC\n",
    "# Temperature difference between averages from 2018 and 1918\n",
    "#### ymean_df.iloc[200] - ymean_df.iloc[100]\n",
    "# Output: 2.05ºC\n",
    "# Temperature difference between averages from 2018 and 1818\n",
    "####ymean_df.iloc[200] - ymean_df.iloc[0]\n",
    "#Output: +2,21ºC\n",
    "\n",
    "hundyr = range(100)\n",
    "hungap = []\n",
    "hunyr = []\n",
    "for h in hundyr:\n",
    "    raw = str(ymean_df.iloc[100+h] - ymean_df.iloc[h])\n",
    "    r = re.findall('.?[0-9].[0-9]+',raw)\n",
    "    yr = 2019\n",
    "    hunyr.append(f'{yr-h}-{yr-100-h}')\n",
    "    hungap.append(r)\n",
    "\n",
    "gapdict = {'Period': hunyr, 'Avtempdif': hungap}\n",
    "gap_df = pd.DataFrame.from_dict(gapdict)\n",
    "gap_df"
   ]
  },
  {
   "cell_type": "code",
   "execution_count": 204,
   "metadata": {},
   "outputs": [],
   "source": [
    "# Pregunta 2: Hi ha x resultat en comparació de mitjanes, és l'augment proporcional o s'està augmentant més ràpid que abans?\n",
    "## Compare the average incresases between the ranges above.\n",
    "### TO-DO Measure year-to-date differences (1,5,10,50,200)"
   ]
  },
  {
   "cell_type": "code",
   "execution_count": null,
   "metadata": {},
   "outputs": [],
   "source": [
    "# Pregunta 2: Hi ha x resultat en comparació de mitjanes, és l'augment proporcional o s'està augmentant més ràpid que abans?\n",
    "## Compare the average incresases between the ranges above.\n",
    "### TO-DO Measure year-to-date differences (1,5,10,50,200)"
   ]
  },
  {
   "cell_type": "code",
   "execution_count": null,
   "metadata": {},
   "outputs": [],
   "source": [
    "# Question 3: If X is happening, does it mean we are having more extreme temperatues?\n",
    "## Check mean temperature of 2018 and check the difference between coldest/warmest to mean (dispersion)\n",
    "## Do the same process with ages 1993, 1958, 1818\n",
    "### TO-DO Measure extreme temperatures compared to the average in all years"
   ]
  },
  {
   "cell_type": "code",
   "execution_count": 295,
   "metadata": {},
   "outputs": [
    {
     "data": {
      "text/html": "<div>\n<style scoped>\n    .dataframe tbody tr th:only-of-type {\n        vertical-align: middle;\n    }\n\n    .dataframe tbody tr th {\n        vertical-align: top;\n    }\n\n    .dataframe thead th {\n        text-align: right;\n    }\n</style>\n<table border=\"1\" class=\"dataframe\">\n  <thead>\n    <tr style=\"text-align: right;\">\n      <th></th>\n      <th>Any</th>\n      <th>1</th>\n      <th>2</th>\n      <th>3</th>\n      <th>4</th>\n      <th>5</th>\n      <th>6</th>\n      <th>7</th>\n      <th>8</th>\n      <th>9</th>\n      <th>10</th>\n      <th>11</th>\n      <th>12</th>\n    </tr>\n  </thead>\n  <tbody>\n    <tr>\n      <th>0</th>\n      <td>1780</td>\n      <td>6.7</td>\n      <td>7.3</td>\n      <td>11.6</td>\n      <td>11.4</td>\n      <td>16.3</td>\n      <td>19.1</td>\n      <td>21.4</td>\n      <td>22.0</td>\n      <td>20.3</td>\n      <td>16.3</td>\n      <td>9.2</td>\n      <td>7.3</td>\n    </tr>\n    <tr>\n      <th>1</th>\n      <td>1781</td>\n      <td>7.5</td>\n      <td>8.9</td>\n      <td>10.9</td>\n      <td>13.7</td>\n      <td>16.8</td>\n      <td>18.0</td>\n      <td>22.0</td>\n      <td>22.6</td>\n      <td>19.1</td>\n      <td>15.0</td>\n      <td>11.8</td>\n      <td>10.3</td>\n    </tr>\n    <tr>\n      <th>2</th>\n      <td>1782</td>\n      <td>8.2</td>\n      <td>6.1</td>\n      <td>9.8</td>\n      <td>10.5</td>\n      <td>15.4</td>\n      <td>20.1</td>\n      <td>22.3</td>\n      <td>22.6</td>\n      <td>19.9</td>\n      <td>13.8</td>\n      <td>7.4</td>\n      <td>7.5</td>\n    </tr>\n    <tr>\n      <th>3</th>\n      <td>1783</td>\n      <td>8.3</td>\n      <td>8.6</td>\n      <td>9.6</td>\n      <td>12.4</td>\n      <td>15.0</td>\n      <td>19.1</td>\n      <td>22.9</td>\n      <td>21.4</td>\n      <td>18.6</td>\n      <td>15.5</td>\n      <td>11.0</td>\n      <td>10.4</td>\n    </tr>\n    <tr>\n      <th>4</th>\n      <td>1784</td>\n      <td>7.3</td>\n      <td>7.1</td>\n      <td>10.8</td>\n      <td>10.7</td>\n      <td>16.7</td>\n      <td>20.7</td>\n      <td>22.0</td>\n      <td>20.5</td>\n      <td>20.0</td>\n      <td>13.8</td>\n      <td>8.5</td>\n      <td>5.3</td>\n    </tr>\n    <tr>\n      <th>5</th>\n      <td>1785</td>\n      <td>9.0</td>\n      <td>6.4</td>\n      <td>7.9</td>\n      <td>11.0</td>\n      <td>16.0</td>\n      <td>20.3</td>\n      <td>21.0</td>\n      <td>21.7</td>\n      <td>21.6</td>\n      <td>16.8</td>\n      <td>10.3</td>\n      <td>7.9</td>\n    </tr>\n    <tr>\n      <th>6</th>\n      <td>1786</td>\n      <td>7.8</td>\n      <td>8.3</td>\n      <td>9.9</td>\n      <td>12.8</td>\n      <td>16.8</td>\n      <td>20.2</td>\n      <td>20.9</td>\n      <td>21.1</td>\n      <td>19.5</td>\n      <td>15.5</td>\n      <td>9.2</td>\n      <td>8.3</td>\n    </tr>\n    <tr>\n      <th>7</th>\n      <td>1787</td>\n      <td>5.4</td>\n      <td>7.8</td>\n      <td>11.3</td>\n      <td>12.1</td>\n      <td>14.7</td>\n      <td>19.2</td>\n      <td>21.0</td>\n      <td>21.8</td>\n      <td>19.4</td>\n      <td>15.5</td>\n      <td>9.3</td>\n      <td>10.8</td>\n    </tr>\n    <tr>\n      <th>8</th>\n      <td>1788</td>\n      <td>6.4</td>\n      <td>10.1</td>\n      <td>10.4</td>\n      <td>12.5</td>\n      <td>17.1</td>\n      <td>19.2</td>\n      <td>22.1</td>\n      <td>23.0</td>\n      <td>19.1</td>\n      <td>15.5</td>\n      <td>10.5</td>\n      <td>5.4</td>\n    </tr>\n    <tr>\n      <th>9</th>\n      <td>1789</td>\n      <td>6.9</td>\n      <td>9.3</td>\n      <td>8.7</td>\n      <td>13.3</td>\n      <td>17.7</td>\n      <td>18.5</td>\n      <td>20.9</td>\n      <td>21.9</td>\n      <td>20.0</td>\n      <td>14.7</td>\n      <td>7.8</td>\n      <td>7.3</td>\n    </tr>\n    <tr>\n      <th>10</th>\n      <td>1790</td>\n      <td>7.4</td>\n      <td>9.5</td>\n      <td>10.4</td>\n      <td>12.3</td>\n      <td>15.0</td>\n      <td>19.0</td>\n      <td>20.8</td>\n      <td>23.1</td>\n      <td>19.3</td>\n      <td>17.1</td>\n      <td>11.7</td>\n      <td>7.9</td>\n    </tr>\n    <tr>\n      <th>11</th>\n      <td>1791</td>\n      <td>9.5</td>\n      <td>6.9</td>\n      <td>11.1</td>\n      <td>14.7</td>\n      <td>13.7</td>\n      <td>18.4</td>\n      <td>21.2</td>\n      <td>23.6</td>\n      <td>20.7</td>\n      <td>14.7</td>\n      <td>9.9</td>\n      <td>8.9</td>\n    </tr>\n    <tr>\n      <th>12</th>\n      <td>1792</td>\n      <td>8.7</td>\n      <td>8.9</td>\n      <td>11.4</td>\n      <td>14.0</td>\n      <td>16.2</td>\n      <td>19.5</td>\n      <td>21.9</td>\n      <td>22.6</td>\n      <td>17.9</td>\n      <td>15.7</td>\n      <td>10.8</td>\n      <td>8.1</td>\n    </tr>\n    <tr>\n      <th>13</th>\n      <td>1793</td>\n      <td>6.7</td>\n      <td>8.8</td>\n      <td>9.6</td>\n      <td>11.0</td>\n      <td>14.9</td>\n      <td>18.4</td>\n      <td>23.1</td>\n      <td>23.5</td>\n      <td>18.9</td>\n      <td>16.5</td>\n      <td>11.6</td>\n      <td>8.5</td>\n    </tr>\n    <tr>\n      <th>14</th>\n      <td>1794</td>\n      <td>7.0</td>\n      <td>9.7</td>\n      <td>11.2</td>\n      <td>14.5</td>\n      <td>15.8</td>\n      <td>18.5</td>\n      <td>23.8</td>\n      <td>22.5</td>\n      <td>19.2</td>\n      <td>15.0</td>\n      <td>11.8</td>\n      <td>7.0</td>\n    </tr>\n    <tr>\n      <th>15</th>\n      <td>1795</td>\n      <td>6.3</td>\n      <td>8.3</td>\n      <td>9.7</td>\n      <td>12.7</td>\n      <td>17.9</td>\n      <td>17.8</td>\n      <td>19.9</td>\n      <td>22.3</td>\n      <td>19.8</td>\n      <td>17.7</td>\n      <td>9.0</td>\n      <td>9.7</td>\n    </tr>\n    <tr>\n      <th>16</th>\n      <td>1796</td>\n      <td>9.0</td>\n      <td>7.9</td>\n      <td>6.7</td>\n      <td>12.1</td>\n      <td>15.5</td>\n      <td>19.4</td>\n      <td>21.0</td>\n      <td>21.9</td>\n      <td>19.2</td>\n      <td>15.3</td>\n      <td>9.3</td>\n      <td>7.7</td>\n    </tr>\n    <tr>\n      <th>17</th>\n      <td>1797</td>\n      <td>6.8</td>\n      <td>8.7</td>\n      <td>8.3</td>\n      <td>12.2</td>\n      <td>16.4</td>\n      <td>17.0</td>\n      <td>22.3</td>\n      <td>23.3</td>\n      <td>19.3</td>\n      <td>14.5</td>\n      <td>10.3</td>\n      <td>9.4</td>\n    </tr>\n    <tr>\n      <th>18</th>\n      <td>1798</td>\n      <td>7.1</td>\n      <td>8.6</td>\n      <td>9.9</td>\n      <td>12.7</td>\n      <td>16.6</td>\n      <td>19.9</td>\n      <td>22.9</td>\n      <td>23.7</td>\n      <td>20.6</td>\n      <td>17.4</td>\n      <td>12.1</td>\n      <td>9.4</td>\n    </tr>\n    <tr>\n      <th>19</th>\n      <td>1799</td>\n      <td>7.4</td>\n      <td>11.7</td>\n      <td>10.7</td>\n      <td>12.3</td>\n      <td>15.6</td>\n      <td>18.7</td>\n      <td>22.0</td>\n      <td>22.0</td>\n      <td>19.6</td>\n      <td>15.9</td>\n      <td>11.9</td>\n      <td>6.2</td>\n    </tr>\n    <tr>\n      <th>20</th>\n      <td>1800</td>\n      <td>7.5</td>\n      <td>8.9</td>\n      <td>9.1</td>\n      <td>13.3</td>\n      <td>16.4</td>\n      <td>17.9</td>\n      <td>23.2</td>\n      <td>22.3</td>\n      <td>18.8</td>\n      <td>14.5</td>\n      <td>10.1</td>\n      <td>8.2</td>\n    </tr>\n    <tr>\n      <th>21</th>\n      <td>1801</td>\n      <td>7.2</td>\n      <td>7.7</td>\n      <td>10.7</td>\n      <td>11.7</td>\n      <td>16.0</td>\n      <td>19.0</td>\n      <td>21.2</td>\n      <td>22.4</td>\n      <td>18.6</td>\n      <td>14.4</td>\n      <td>9.8</td>\n      <td>9.3</td>\n    </tr>\n    <tr>\n      <th>22</th>\n      <td>1802</td>\n      <td>3.6</td>\n      <td>7.1</td>\n      <td>9.0</td>\n      <td>12.3</td>\n      <td>15.2</td>\n      <td>20.6</td>\n      <td>21.4</td>\n      <td>23.7</td>\n      <td>21.0</td>\n      <td>15.9</td>\n      <td>10.9</td>\n      <td>8.1</td>\n    </tr>\n    <tr>\n      <th>23</th>\n      <td>1803</td>\n      <td>6.9</td>\n      <td>5.0</td>\n      <td>8.1</td>\n      <td>12.7</td>\n      <td>14.2</td>\n      <td>20.5</td>\n      <td>22.4</td>\n      <td>23.2</td>\n      <td>18.9</td>\n      <td>15.0</td>\n      <td>11.1</td>\n      <td>8.2</td>\n    </tr>\n    <tr>\n      <th>24</th>\n      <td>1804</td>\n      <td>9.7</td>\n      <td>6.0</td>\n      <td>9.6</td>\n      <td>11.7</td>\n      <td>17.2</td>\n      <td>21.3</td>\n      <td>21.0</td>\n      <td>21.6</td>\n      <td>20.4</td>\n      <td>15.0</td>\n      <td>12.1</td>\n      <td>9.5</td>\n    </tr>\n    <tr>\n      <th>25</th>\n      <td>1805</td>\n      <td>6.7</td>\n      <td>8.1</td>\n      <td>9.9</td>\n      <td>11.1</td>\n      <td>15.1</td>\n      <td>18.4</td>\n      <td>21.3</td>\n      <td>21.6</td>\n      <td>19.5</td>\n      <td>14.7</td>\n      <td>10.9</td>\n      <td>6.5</td>\n    </tr>\n    <tr>\n      <th>26</th>\n      <td>1806</td>\n      <td>6.8</td>\n      <td>8.3</td>\n      <td>9.9</td>\n      <td>9.5</td>\n      <td>15.4</td>\n      <td>20.5</td>\n      <td>21.5</td>\n      <td>21.6</td>\n      <td>17.9</td>\n      <td>16.3</td>\n      <td>10.4</td>\n      <td>9.4</td>\n    </tr>\n    <tr>\n      <th>27</th>\n      <td>1807</td>\n      <td>6.6</td>\n      <td>8.0</td>\n      <td>6.4</td>\n      <td>10.0</td>\n      <td>16.5</td>\n      <td>19.9</td>\n      <td>22.6</td>\n      <td>23.8</td>\n      <td>19.5</td>\n      <td>17.2</td>\n      <td>9.8</td>\n      <td>6.5</td>\n    </tr>\n    <tr>\n      <th>28</th>\n      <td>1808</td>\n      <td>5.4</td>\n      <td>5.2</td>\n      <td>8.8</td>\n      <td>11.2</td>\n      <td>15.9</td>\n      <td>18.0</td>\n      <td>22.9</td>\n      <td>22.1</td>\n      <td>18.7</td>\n      <td>13.4</td>\n      <td>9.7</td>\n      <td>6.1</td>\n    </tr>\n    <tr>\n      <th>29</th>\n      <td>1809</td>\n      <td>9.5</td>\n      <td>9.2</td>\n      <td>9.4</td>\n      <td>9.4</td>\n      <td>14.7</td>\n      <td>18.2</td>\n      <td>19.6</td>\n      <td>21.1</td>\n      <td>17.6</td>\n      <td>14.4</td>\n      <td>8.2</td>\n      <td>6.6</td>\n    </tr>\n    <tr>\n      <th>...</th>\n      <td>...</td>\n      <td>...</td>\n      <td>...</td>\n      <td>...</td>\n      <td>...</td>\n      <td>...</td>\n      <td>...</td>\n      <td>...</td>\n      <td>...</td>\n      <td>...</td>\n      <td>...</td>\n      <td>...</td>\n      <td>...</td>\n    </tr>\n    <tr>\n      <th>209</th>\n      <td>1989</td>\n      <td>8.8</td>\n      <td>10.5</td>\n      <td>12.4</td>\n      <td>11.9</td>\n      <td>17.8</td>\n      <td>21.2</td>\n      <td>25.0</td>\n      <td>24.4</td>\n      <td>20.0</td>\n      <td>17.7</td>\n      <td>12.7</td>\n      <td>11.2</td>\n    </tr>\n    <tr>\n      <th>210</th>\n      <td>1990</td>\n      <td>9.0</td>\n      <td>12.5</td>\n      <td>12.6</td>\n      <td>12.3</td>\n      <td>18.1</td>\n      <td>20.1</td>\n      <td>24.2</td>\n      <td>24.6</td>\n      <td>21.5</td>\n      <td>17.1</td>\n      <td>10.9</td>\n      <td>6.7</td>\n    </tr>\n    <tr>\n      <th>211</th>\n      <td>1991</td>\n      <td>8.1</td>\n      <td>8.0</td>\n      <td>11.8</td>\n      <td>11.5</td>\n      <td>14.0</td>\n      <td>19.7</td>\n      <td>24.3</td>\n      <td>24.6</td>\n      <td>22.0</td>\n      <td>15.1</td>\n      <td>10.9</td>\n      <td>8.5</td>\n    </tr>\n    <tr>\n      <th>212</th>\n      <td>1992</td>\n      <td>7.1</td>\n      <td>8.9</td>\n      <td>11.0</td>\n      <td>13.7</td>\n      <td>17.7</td>\n      <td>17.6</td>\n      <td>22.5</td>\n      <td>24.3</td>\n      <td>20.5</td>\n      <td>14.4</td>\n      <td>13.4</td>\n      <td>9.2</td>\n    </tr>\n    <tr>\n      <th>213</th>\n      <td>1993</td>\n      <td>9.0</td>\n      <td>8.2</td>\n      <td>10.2</td>\n      <td>12.8</td>\n      <td>17.0</td>\n      <td>21.5</td>\n      <td>22.6</td>\n      <td>24.3</td>\n      <td>19.6</td>\n      <td>14.5</td>\n      <td>10.5</td>\n      <td>9.3</td>\n    </tr>\n    <tr>\n      <th>214</th>\n      <td>1994</td>\n      <td>8.4</td>\n      <td>9.5</td>\n      <td>13.1</td>\n      <td>12.3</td>\n      <td>17.2</td>\n      <td>20.9</td>\n      <td>25.9</td>\n      <td>25.7</td>\n      <td>19.7</td>\n      <td>16.1</td>\n      <td>14.0</td>\n      <td>9.7</td>\n    </tr>\n    <tr>\n      <th>215</th>\n      <td>1995</td>\n      <td>8.6</td>\n      <td>11.5</td>\n      <td>10.9</td>\n      <td>14.0</td>\n      <td>17.2</td>\n      <td>19.6</td>\n      <td>25.0</td>\n      <td>23.3</td>\n      <td>18.7</td>\n      <td>18.3</td>\n      <td>12.9</td>\n      <td>10.1</td>\n    </tr>\n    <tr>\n      <th>216</th>\n      <td>1996</td>\n      <td>10.2</td>\n      <td>7.7</td>\n      <td>9.9</td>\n      <td>13.2</td>\n      <td>16.2</td>\n      <td>21.2</td>\n      <td>23.4</td>\n      <td>22.7</td>\n      <td>18.3</td>\n      <td>15.8</td>\n      <td>11.4</td>\n      <td>9.7</td>\n    </tr>\n    <tr>\n      <th>217</th>\n      <td>1997</td>\n      <td>8.7</td>\n      <td>11.4</td>\n      <td>13.9</td>\n      <td>14.1</td>\n      <td>17.6</td>\n      <td>20.2</td>\n      <td>22.5</td>\n      <td>24.6</td>\n      <td>21.7</td>\n      <td>18.9</td>\n      <td>12.6</td>\n      <td>9.3</td>\n    </tr>\n    <tr>\n      <th>218</th>\n      <td>1998</td>\n      <td>8.8</td>\n      <td>11.0</td>\n      <td>12.2</td>\n      <td>12.7</td>\n      <td>17.7</td>\n      <td>20.9</td>\n      <td>23.7</td>\n      <td>24.3</td>\n      <td>20.7</td>\n      <td>15.9</td>\n      <td>10.8</td>\n      <td>8.7</td>\n    </tr>\n    <tr>\n      <th>219</th>\n      <td>1999</td>\n      <td>8.8</td>\n      <td>8.6</td>\n      <td>11.6</td>\n      <td>13.7</td>\n      <td>18.6</td>\n      <td>20.5</td>\n      <td>23.4</td>\n      <td>24.6</td>\n      <td>21.7</td>\n      <td>17.0</td>\n      <td>9.6</td>\n      <td>9.0</td>\n    </tr>\n    <tr>\n      <th>220</th>\n      <td>2000</td>\n      <td>7.7</td>\n      <td>11.4</td>\n      <td>12.6</td>\n      <td>13.3</td>\n      <td>18.3</td>\n      <td>21.0</td>\n      <td>22.8</td>\n      <td>24.5</td>\n      <td>21.0</td>\n      <td>16.0</td>\n      <td>11.3</td>\n      <td>11.0</td>\n    </tr>\n    <tr>\n      <th>221</th>\n      <td>2001</td>\n      <td>9.9</td>\n      <td>10.1</td>\n      <td>14.8</td>\n      <td>13.8</td>\n      <td>18.2</td>\n      <td>21.9</td>\n      <td>23.7</td>\n      <td>25.0</td>\n      <td>19.6</td>\n      <td>19.4</td>\n      <td>10.7</td>\n      <td>6.8</td>\n    </tr>\n    <tr>\n      <th>222</th>\n      <td>2002</td>\n      <td>9.2</td>\n      <td>11.1</td>\n      <td>12.3</td>\n      <td>13.7</td>\n      <td>15.5</td>\n      <td>22.3</td>\n      <td>22.9</td>\n      <td>21.6</td>\n      <td>19.9</td>\n      <td>17.4</td>\n      <td>13.0</td>\n      <td>10.4</td>\n    </tr>\n    <tr>\n      <th>223</th>\n      <td>2003</td>\n      <td>7.9</td>\n      <td>7.1</td>\n      <td>12.1</td>\n      <td>14.0</td>\n      <td>18.0</td>\n      <td>25.6</td>\n      <td>26.1</td>\n      <td>28.5</td>\n      <td>20.8</td>\n      <td>15.2</td>\n      <td>12.7</td>\n      <td>8.8</td>\n    </tr>\n    <tr>\n      <th>224</th>\n      <td>2004</td>\n      <td>9.4</td>\n      <td>8.6</td>\n      <td>10.0</td>\n      <td>12.8</td>\n      <td>16.2</td>\n      <td>22.4</td>\n      <td>23.5</td>\n      <td>25.1</td>\n      <td>21.4</td>\n      <td>18.9</td>\n      <td>11.4</td>\n      <td>9.3</td>\n    </tr>\n    <tr>\n      <th>225</th>\n      <td>2005</td>\n      <td>7.2</td>\n      <td>6.5</td>\n      <td>10.2</td>\n      <td>14.0</td>\n      <td>18.8</td>\n      <td>23.4</td>\n      <td>24.4</td>\n      <td>23.0</td>\n      <td>20.7</td>\n      <td>17.9</td>\n      <td>11.1</td>\n      <td>6.6</td>\n    </tr>\n    <tr>\n      <th>226</th>\n      <td>2006</td>\n      <td>7.4</td>\n      <td>8.5</td>\n      <td>12.0</td>\n      <td>15.1</td>\n      <td>18.7</td>\n      <td>22.1</td>\n      <td>27.1</td>\n      <td>22.8</td>\n      <td>21.6</td>\n      <td>18.8</td>\n      <td>14.6</td>\n      <td>10.0</td>\n    </tr>\n    <tr>\n      <th>227</th>\n      <td>2007</td>\n      <td>9.9</td>\n      <td>11.4</td>\n      <td>12.1</td>\n      <td>15.0</td>\n      <td>17.9</td>\n      <td>22.0</td>\n      <td>23.6</td>\n      <td>22.5</td>\n      <td>20.6</td>\n      <td>16.4</td>\n      <td>11.2</td>\n      <td>8.8</td>\n    </tr>\n    <tr>\n      <th>228</th>\n      <td>2008</td>\n      <td>10.1</td>\n      <td>10.2</td>\n      <td>10.8</td>\n      <td>13.7</td>\n      <td>16.6</td>\n      <td>20.7</td>\n      <td>23.8</td>\n      <td>24.3</td>\n      <td>20.7</td>\n      <td>16.5</td>\n      <td>10.3</td>\n      <td>7.5</td>\n    </tr>\n    <tr>\n      <th>229</th>\n      <td>2009</td>\n      <td>7.2</td>\n      <td>8.7</td>\n      <td>11.2</td>\n      <td>13.1</td>\n      <td>18.8</td>\n      <td>23.0</td>\n      <td>24.4</td>\n      <td>26.3</td>\n      <td>21.5</td>\n      <td>17.9</td>\n      <td>13.5</td>\n      <td>9.0</td>\n    </tr>\n    <tr>\n      <th>230</th>\n      <td>2010</td>\n      <td>6.6</td>\n      <td>8.0</td>\n      <td>9.6</td>\n      <td>14.1</td>\n      <td>15.4</td>\n      <td>20.3</td>\n      <td>25.7</td>\n      <td>24.3</td>\n      <td>20.9</td>\n      <td>16.2</td>\n      <td>11.0</td>\n      <td>8.5</td>\n    </tr>\n    <tr>\n      <th>231</th>\n      <td>2011</td>\n      <td>8.4</td>\n      <td>10.0</td>\n      <td>10.9</td>\n      <td>15.9</td>\n      <td>18.3</td>\n      <td>19.5</td>\n      <td>21.2</td>\n      <td>24.1</td>\n      <td>22.9</td>\n      <td>19.1</td>\n      <td>14.1</td>\n      <td>10.2</td>\n    </tr>\n    <tr>\n      <th>232</th>\n      <td>2012</td>\n      <td>9.4</td>\n      <td>6.8</td>\n      <td>13.4</td>\n      <td>12.6</td>\n      <td>17.9</td>\n      <td>22.3</td>\n      <td>23.2</td>\n      <td>26.0</td>\n      <td>21.4</td>\n      <td>17.3</td>\n      <td>12.7</td>\n      <td>9.9</td>\n    </tr>\n    <tr>\n      <th>233</th>\n      <td>2013</td>\n      <td>9.1</td>\n      <td>7.7</td>\n      <td>11.2</td>\n      <td>13.5</td>\n      <td>14.6</td>\n      <td>19.5</td>\n      <td>25.6</td>\n      <td>24.9</td>\n      <td>22.0</td>\n      <td>19.5</td>\n      <td>12.2</td>\n      <td>10.1</td>\n    </tr>\n    <tr>\n      <th>234</th>\n      <td>2014</td>\n      <td>9.8</td>\n      <td>10.1</td>\n      <td>12.3</td>\n      <td>15.3</td>\n      <td>16.2</td>\n      <td>21.7</td>\n      <td>22.6</td>\n      <td>23.0</td>\n      <td>22.0</td>\n      <td>19.6</td>\n      <td>13.6</td>\n      <td>9.1</td>\n    </tr>\n    <tr>\n      <th>235</th>\n      <td>2015</td>\n      <td>9.1</td>\n      <td>8.2</td>\n      <td>12.0</td>\n      <td>14.8</td>\n      <td>19.1</td>\n      <td>23.2</td>\n      <td>26.0</td>\n      <td>23.5</td>\n      <td>19.7</td>\n      <td>16.7</td>\n      <td>14.3</td>\n      <td>12.6</td>\n    </tr>\n    <tr>\n      <th>236</th>\n      <td>2016</td>\n      <td>10.7</td>\n      <td>11.3</td>\n      <td>11.1</td>\n      <td>13.6</td>\n      <td>16.4</td>\n      <td>21.6</td>\n      <td>24.9</td>\n      <td>24.5</td>\n      <td>22.3</td>\n      <td>17.1</td>\n      <td>12.7</td>\n      <td>11.5</td>\n    </tr>\n    <tr>\n      <th>237</th>\n      <td>2017</td>\n      <td>7.9</td>\n      <td>11.4</td>\n      <td>13.3</td>\n      <td>14.2</td>\n      <td>18.3</td>\n      <td>23.6</td>\n      <td>24.2</td>\n      <td>24.5</td>\n      <td>19.5</td>\n      <td>18.6</td>\n      <td>12.5</td>\n      <td>8.5</td>\n    </tr>\n    <tr>\n      <th>238</th>\n      <td>2018</td>\n      <td>10.5</td>\n      <td>6.7</td>\n      <td>10.8</td>\n      <td>14.7</td>\n      <td>17.1</td>\n      <td>21.5</td>\n      <td>25.3</td>\n      <td>25.8</td>\n      <td>22.5</td>\n      <td>17.0</td>\n      <td>12.4</td>\n      <td>11.1</td>\n    </tr>\n  </tbody>\n</table>\n<p>239 rows × 13 columns</p>\n</div>",
      "text/plain": "      Any     1     2     3     4     5     6     7     8     9    10    11  \\\n0    1780   6.7   7.3  11.6  11.4  16.3  19.1  21.4  22.0  20.3  16.3   9.2   \n1    1781   7.5   8.9  10.9  13.7  16.8  18.0  22.0  22.6  19.1  15.0  11.8   \n2    1782   8.2   6.1   9.8  10.5  15.4  20.1  22.3  22.6  19.9  13.8   7.4   \n3    1783   8.3   8.6   9.6  12.4  15.0  19.1  22.9  21.4  18.6  15.5  11.0   \n4    1784   7.3   7.1  10.8  10.7  16.7  20.7  22.0  20.5  20.0  13.8   8.5   \n5    1785   9.0   6.4   7.9  11.0  16.0  20.3  21.0  21.7  21.6  16.8  10.3   \n6    1786   7.8   8.3   9.9  12.8  16.8  20.2  20.9  21.1  19.5  15.5   9.2   \n7    1787   5.4   7.8  11.3  12.1  14.7  19.2  21.0  21.8  19.4  15.5   9.3   \n8    1788   6.4  10.1  10.4  12.5  17.1  19.2  22.1  23.0  19.1  15.5  10.5   \n9    1789   6.9   9.3   8.7  13.3  17.7  18.5  20.9  21.9  20.0  14.7   7.8   \n10   1790   7.4   9.5  10.4  12.3  15.0  19.0  20.8  23.1  19.3  17.1  11.7   \n11   1791   9.5   6.9  11.1  14.7  13.7  18.4  21.2  23.6  20.7  14.7   9.9   \n12   1792   8.7   8.9  11.4  14.0  16.2  19.5  21.9  22.6  17.9  15.7  10.8   \n13   1793   6.7   8.8   9.6  11.0  14.9  18.4  23.1  23.5  18.9  16.5  11.6   \n14   1794   7.0   9.7  11.2  14.5  15.8  18.5  23.8  22.5  19.2  15.0  11.8   \n15   1795   6.3   8.3   9.7  12.7  17.9  17.8  19.9  22.3  19.8  17.7   9.0   \n16   1796   9.0   7.9   6.7  12.1  15.5  19.4  21.0  21.9  19.2  15.3   9.3   \n17   1797   6.8   8.7   8.3  12.2  16.4  17.0  22.3  23.3  19.3  14.5  10.3   \n18   1798   7.1   8.6   9.9  12.7  16.6  19.9  22.9  23.7  20.6  17.4  12.1   \n19   1799   7.4  11.7  10.7  12.3  15.6  18.7  22.0  22.0  19.6  15.9  11.9   \n20   1800   7.5   8.9   9.1  13.3  16.4  17.9  23.2  22.3  18.8  14.5  10.1   \n21   1801   7.2   7.7  10.7  11.7  16.0  19.0  21.2  22.4  18.6  14.4   9.8   \n22   1802   3.6   7.1   9.0  12.3  15.2  20.6  21.4  23.7  21.0  15.9  10.9   \n23   1803   6.9   5.0   8.1  12.7  14.2  20.5  22.4  23.2  18.9  15.0  11.1   \n24   1804   9.7   6.0   9.6  11.7  17.2  21.3  21.0  21.6  20.4  15.0  12.1   \n25   1805   6.7   8.1   9.9  11.1  15.1  18.4  21.3  21.6  19.5  14.7  10.9   \n26   1806   6.8   8.3   9.9   9.5  15.4  20.5  21.5  21.6  17.9  16.3  10.4   \n27   1807   6.6   8.0   6.4  10.0  16.5  19.9  22.6  23.8  19.5  17.2   9.8   \n28   1808   5.4   5.2   8.8  11.2  15.9  18.0  22.9  22.1  18.7  13.4   9.7   \n29   1809   9.5   9.2   9.4   9.4  14.7  18.2  19.6  21.1  17.6  14.4   8.2   \n..    ...   ...   ...   ...   ...   ...   ...   ...   ...   ...   ...   ...   \n209  1989   8.8  10.5  12.4  11.9  17.8  21.2  25.0  24.4  20.0  17.7  12.7   \n210  1990   9.0  12.5  12.6  12.3  18.1  20.1  24.2  24.6  21.5  17.1  10.9   \n211  1991   8.1   8.0  11.8  11.5  14.0  19.7  24.3  24.6  22.0  15.1  10.9   \n212  1992   7.1   8.9  11.0  13.7  17.7  17.6  22.5  24.3  20.5  14.4  13.4   \n213  1993   9.0   8.2  10.2  12.8  17.0  21.5  22.6  24.3  19.6  14.5  10.5   \n214  1994   8.4   9.5  13.1  12.3  17.2  20.9  25.9  25.7  19.7  16.1  14.0   \n215  1995   8.6  11.5  10.9  14.0  17.2  19.6  25.0  23.3  18.7  18.3  12.9   \n216  1996  10.2   7.7   9.9  13.2  16.2  21.2  23.4  22.7  18.3  15.8  11.4   \n217  1997   8.7  11.4  13.9  14.1  17.6  20.2  22.5  24.6  21.7  18.9  12.6   \n218  1998   8.8  11.0  12.2  12.7  17.7  20.9  23.7  24.3  20.7  15.9  10.8   \n219  1999   8.8   8.6  11.6  13.7  18.6  20.5  23.4  24.6  21.7  17.0   9.6   \n220  2000   7.7  11.4  12.6  13.3  18.3  21.0  22.8  24.5  21.0  16.0  11.3   \n221  2001   9.9  10.1  14.8  13.8  18.2  21.9  23.7  25.0  19.6  19.4  10.7   \n222  2002   9.2  11.1  12.3  13.7  15.5  22.3  22.9  21.6  19.9  17.4  13.0   \n223  2003   7.9   7.1  12.1  14.0  18.0  25.6  26.1  28.5  20.8  15.2  12.7   \n224  2004   9.4   8.6  10.0  12.8  16.2  22.4  23.5  25.1  21.4  18.9  11.4   \n225  2005   7.2   6.5  10.2  14.0  18.8  23.4  24.4  23.0  20.7  17.9  11.1   \n226  2006   7.4   8.5  12.0  15.1  18.7  22.1  27.1  22.8  21.6  18.8  14.6   \n227  2007   9.9  11.4  12.1  15.0  17.9  22.0  23.6  22.5  20.6  16.4  11.2   \n228  2008  10.1  10.2  10.8  13.7  16.6  20.7  23.8  24.3  20.7  16.5  10.3   \n229  2009   7.2   8.7  11.2  13.1  18.8  23.0  24.4  26.3  21.5  17.9  13.5   \n230  2010   6.6   8.0   9.6  14.1  15.4  20.3  25.7  24.3  20.9  16.2  11.0   \n231  2011   8.4  10.0  10.9  15.9  18.3  19.5  21.2  24.1  22.9  19.1  14.1   \n232  2012   9.4   6.8  13.4  12.6  17.9  22.3  23.2  26.0  21.4  17.3  12.7   \n233  2013   9.1   7.7  11.2  13.5  14.6  19.5  25.6  24.9  22.0  19.5  12.2   \n234  2014   9.8  10.1  12.3  15.3  16.2  21.7  22.6  23.0  22.0  19.6  13.6   \n235  2015   9.1   8.2  12.0  14.8  19.1  23.2  26.0  23.5  19.7  16.7  14.3   \n236  2016  10.7  11.3  11.1  13.6  16.4  21.6  24.9  24.5  22.3  17.1  12.7   \n237  2017   7.9  11.4  13.3  14.2  18.3  23.6  24.2  24.5  19.5  18.6  12.5   \n238  2018  10.5   6.7  10.8  14.7  17.1  21.5  25.3  25.8  22.5  17.0  12.4   \n\n       12  \n0     7.3  \n1    10.3  \n2     7.5  \n3    10.4  \n4     5.3  \n5     7.9  \n6     8.3  \n7    10.8  \n8     5.4  \n9     7.3  \n10    7.9  \n11    8.9  \n12    8.1  \n13    8.5  \n14    7.0  \n15    9.7  \n16    7.7  \n17    9.4  \n18    9.4  \n19    6.2  \n20    8.2  \n21    9.3  \n22    8.1  \n23    8.2  \n24    9.5  \n25    6.5  \n26    9.4  \n27    6.5  \n28    6.1  \n29    6.6  \n..    ...  \n209  11.2  \n210   6.7  \n211   8.5  \n212   9.2  \n213   9.3  \n214   9.7  \n215  10.1  \n216   9.7  \n217   9.3  \n218   8.7  \n219   9.0  \n220  11.0  \n221   6.8  \n222  10.4  \n223   8.8  \n224   9.3  \n225   6.6  \n226  10.0  \n227   8.8  \n228   7.5  \n229   9.0  \n230   8.5  \n231  10.2  \n232   9.9  \n233  10.1  \n234   9.1  \n235  12.6  \n236  11.5  \n237   8.5  \n238  11.1  \n\n[239 rows x 13 columns]"
     },
     "execution_count": 295,
     "metadata": {},
     "output_type": "execute_result"
    }
   ],
   "source": [
    "dff"
   ]
  },
  {
   "cell_type": "code",
   "execution_count": null,
   "metadata": {},
   "outputs": [],
   "source": []
  }
 ],
 "metadata": {
  "file_extension": ".py",
  "kernelspec": {
   "display_name": "Python 3",
   "language": "python",
   "name": "python3"
  },
  "language_info": {
   "codemirror_mode": {
    "name": "ipython",
    "version": 3
   },
   "file_extension": ".py",
   "mimetype": "text/x-python",
   "name": "python",
   "nbconvert_exporter": "python",
   "pygments_lexer": "ipython3",
   "version": "3.7.3"
  },
  "mimetype": "text/x-python",
  "name": "python",
  "npconvert_exporter": "python",
  "pygments_lexer": "ipython3",
  "version": 3
 },
 "nbformat": 4,
 "nbformat_minor": 2
}