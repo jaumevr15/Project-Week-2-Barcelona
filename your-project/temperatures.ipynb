{
 "cells": [
  {
   "cell_type": "code",
   "execution_count": 2,
   "metadata": {},
   "outputs": [],
   "source": [
    "import pandas as pd\n",
    "import numpy as np\n",
    "import re\n",
    "df = pd.read_csv('temperaturesbarcelonadesde1780.csv')\n",
    "ds = pd.read_csv('temperaturesbarcelonadesde1780_format_long.csv')\n",
    "\n",
    "#df is a Dataframe with Year and Montlhy average temperature as columns.\n",
    "#And years as rows\n"
   ]
  },
  {
   "cell_type": "code",
   "execution_count": 59,
   "metadata": {},
   "outputs": [
    {
     "data": {
      "text/html": "<div>\n<style scoped>\n    .dataframe tbody tr th:only-of-type {\n        vertical-align: middle;\n    }\n\n    .dataframe tbody tr th {\n        vertical-align: top;\n    }\n\n    .dataframe thead th {\n        text-align: right;\n    }\n</style>\n<table border=\"1\" class=\"dataframe\">\n  <thead>\n    <tr style=\"text-align: right;\">\n      <th></th>\n      <th>Avg_temp</th>\n    </tr>\n    <tr>\n      <th>Year</th>\n      <th></th>\n    </tr>\n  </thead>\n  <tbody>\n    <tr>\n      <th>1818</th>\n      <td>14.07</td>\n    </tr>\n    <tr>\n      <th>1819</th>\n      <td>14.34</td>\n    </tr>\n    <tr>\n      <th>1820</th>\n      <td>13.49</td>\n    </tr>\n    <tr>\n      <th>1821</th>\n      <td>14.31</td>\n    </tr>\n    <tr>\n      <th>1822</th>\n      <td>14.91</td>\n    </tr>\n    <tr>\n      <th>1823</th>\n      <td>13.74</td>\n    </tr>\n    <tr>\n      <th>1824</th>\n      <td>13.98</td>\n    </tr>\n    <tr>\n      <th>1825</th>\n      <td>14.17</td>\n    </tr>\n    <tr>\n      <th>1826</th>\n      <td>13.88</td>\n    </tr>\n    <tr>\n      <th>1827</th>\n      <td>13.48</td>\n    </tr>\n    <tr>\n      <th>1828</th>\n      <td>14.78</td>\n    </tr>\n    <tr>\n      <th>1829</th>\n      <td>13.22</td>\n    </tr>\n    <tr>\n      <th>1830</th>\n      <td>13.93</td>\n    </tr>\n    <tr>\n      <th>1831</th>\n      <td>14.88</td>\n    </tr>\n    <tr>\n      <th>1832</th>\n      <td>14.19</td>\n    </tr>\n    <tr>\n      <th>1833</th>\n      <td>13.92</td>\n    </tr>\n    <tr>\n      <th>1834</th>\n      <td>14.49</td>\n    </tr>\n    <tr>\n      <th>1835</th>\n      <td>13.45</td>\n    </tr>\n    <tr>\n      <th>1836</th>\n      <td>13.34</td>\n    </tr>\n    <tr>\n      <th>1837</th>\n      <td>13.50</td>\n    </tr>\n    <tr>\n      <th>1838</th>\n      <td>14.05</td>\n    </tr>\n    <tr>\n      <th>1839</th>\n      <td>13.87</td>\n    </tr>\n    <tr>\n      <th>1840</th>\n      <td>13.72</td>\n    </tr>\n    <tr>\n      <th>1841</th>\n      <td>13.92</td>\n    </tr>\n    <tr>\n      <th>1842</th>\n      <td>14.05</td>\n    </tr>\n    <tr>\n      <th>1843</th>\n      <td>13.53</td>\n    </tr>\n    <tr>\n      <th>1844</th>\n      <td>14.07</td>\n    </tr>\n    <tr>\n      <th>1845</th>\n      <td>13.96</td>\n    </tr>\n    <tr>\n      <th>1846</th>\n      <td>15.65</td>\n    </tr>\n    <tr>\n      <th>1847</th>\n      <td>14.98</td>\n    </tr>\n    <tr>\n      <th>...</th>\n      <td>...</td>\n    </tr>\n    <tr>\n      <th>1989</th>\n      <td>16.13</td>\n    </tr>\n    <tr>\n      <th>1990</th>\n      <td>15.80</td>\n    </tr>\n    <tr>\n      <th>1991</th>\n      <td>14.88</td>\n    </tr>\n    <tr>\n      <th>1992</th>\n      <td>15.03</td>\n    </tr>\n    <tr>\n      <th>1993</th>\n      <td>14.96</td>\n    </tr>\n    <tr>\n      <th>1994</th>\n      <td>16.04</td>\n    </tr>\n    <tr>\n      <th>1995</th>\n      <td>15.84</td>\n    </tr>\n    <tr>\n      <th>1996</th>\n      <td>14.98</td>\n    </tr>\n    <tr>\n      <th>1997</th>\n      <td>16.29</td>\n    </tr>\n    <tr>\n      <th>1998</th>\n      <td>15.62</td>\n    </tr>\n    <tr>\n      <th>1999</th>\n      <td>15.59</td>\n    </tr>\n    <tr>\n      <th>2000</th>\n      <td>15.91</td>\n    </tr>\n    <tr>\n      <th>2001</th>\n      <td>16.16</td>\n    </tr>\n    <tr>\n      <th>2002</th>\n      <td>15.78</td>\n    </tr>\n    <tr>\n      <th>2003</th>\n      <td>16.40</td>\n    </tr>\n    <tr>\n      <th>2004</th>\n      <td>15.75</td>\n    </tr>\n    <tr>\n      <th>2005</th>\n      <td>15.32</td>\n    </tr>\n    <tr>\n      <th>2006</th>\n      <td>16.56</td>\n    </tr>\n    <tr>\n      <th>2007</th>\n      <td>15.95</td>\n    </tr>\n    <tr>\n      <th>2008</th>\n      <td>15.43</td>\n    </tr>\n    <tr>\n      <th>2009</th>\n      <td>16.22</td>\n    </tr>\n    <tr>\n      <th>2010</th>\n      <td>15.05</td>\n    </tr>\n    <tr>\n      <th>2011</th>\n      <td>16.22</td>\n    </tr>\n    <tr>\n      <th>2012</th>\n      <td>16.08</td>\n    </tr>\n    <tr>\n      <th>2013</th>\n      <td>15.82</td>\n    </tr>\n    <tr>\n      <th>2014</th>\n      <td>16.27</td>\n    </tr>\n    <tr>\n      <th>2015</th>\n      <td>16.60</td>\n    </tr>\n    <tr>\n      <th>2016</th>\n      <td>16.47</td>\n    </tr>\n    <tr>\n      <th>2017</th>\n      <td>16.37</td>\n    </tr>\n    <tr>\n      <th>2018</th>\n      <td>16.28</td>\n    </tr>\n  </tbody>\n</table>\n<p>201 rows × 1 columns</p>\n</div>",
      "text/plain": "      Avg_temp\nYear          \n1818     14.07\n1819     14.34\n1820     13.49\n1821     14.31\n1822     14.91\n1823     13.74\n1824     13.98\n1825     14.17\n1826     13.88\n1827     13.48\n1828     14.78\n1829     13.22\n1830     13.93\n1831     14.88\n1832     14.19\n1833     13.92\n1834     14.49\n1835     13.45\n1836     13.34\n1837     13.50\n1838     14.05\n1839     13.87\n1840     13.72\n1841     13.92\n1842     14.05\n1843     13.53\n1844     14.07\n1845     13.96\n1846     15.65\n1847     14.98\n...        ...\n1989     16.13\n1990     15.80\n1991     14.88\n1992     15.03\n1993     14.96\n1994     16.04\n1995     15.84\n1996     14.98\n1997     16.29\n1998     15.62\n1999     15.59\n2000     15.91\n2001     16.16\n2002     15.78\n2003     16.40\n2004     15.75\n2005     15.32\n2006     16.56\n2007     15.95\n2008     15.43\n2009     16.22\n2010     15.05\n2011     16.22\n2012     16.08\n2013     15.82\n2014     16.27\n2015     16.60\n2016     16.47\n2017     16.37\n2018     16.28\n\n[201 rows x 1 columns]"
     },
     "execution_count": 59,
     "metadata": {},
     "output_type": "execute_result"
    }
   ],
   "source": [
    "#It is important for us to use Years as the main index for easy manipulation\n",
    "df_years = df.set_index('Any')\n",
    "\n",
    "#In order to find the average temperature of each year, we create two lists and we iterate between the years 1818-2018\n",
    "\n",
    "years = range(1818,2019)\n",
    "ymean = []\n",
    "yyear = []\n",
    "for r in years:\n",
    "    t = round(df_years.loc[r].mean(),2)\n",
    "    ymean.append(t)\n",
    "    yyear.append(r)\n",
    "\n",
    "#We already have two lists, ymean has the average temperatures and yyear has the years. We create a dictionary with the description and the values. And we convert it to a Dataframe\n",
    "ydict = {'Year': yyear, 'Avg_temp': ymean}\n",
    "ymean_df = pd.DataFrame.from_dict(ydict)\n",
    "ymean_df = ymean_df.set_index('Year')\n",
    "\n",
    "#### FINDING MAX YEARLY AVG AND MIN\n",
    "ymean_sort = ymean_df.sort_values('Avg_temp', ascending= False)\n",
    "\n",
    "#### Average of the 200 years\n",
    "ymean_mean = ymean_df.mean()\n",
    "\n",
    "\n",
    "## Difference between hottest and coldest in years and temperature\n",
    "maxdif = ymean_df.iloc[197] - ymean_df.iloc[69]\n",
    "\n",
    "####### GLOSSARY OF VARIABLES\n",
    "## [[df_years]] = The original chart making years as the main index\n",
    "# df_years\n",
    "## [[ymean_df]] = Chart with years and their yearly average. Sorted by years\n",
    "ymean_df\n",
    "## [[ymean_mean]] = The average temperature for the 200 years analized, 14,65ºC\n",
    "# ymean_mean\n",
    "## [[ymean_sort]] = is a chart with the 200 years and their temperature sorted from hottest to coldest.\n",
    "# ymean_sort\n",
    "## [[maxdif]] = The difference in temperature and years from the hottest to the coolest.\n",
    "# maxdif"
   ]
  },
  {
   "cell_type": "code",
   "execution_count": 93,
   "metadata": {},
   "outputs": [
    {
     "data": {
      "text/html": "<div>\n<style scoped>\n    .dataframe tbody tr th:only-of-type {\n        vertical-align: middle;\n    }\n\n    .dataframe tbody tr th {\n        vertical-align: top;\n    }\n\n    .dataframe thead th {\n        text-align: right;\n    }\n</style>\n<table border=\"1\" class=\"dataframe\">\n  <thead>\n    <tr style=\"text-align: right;\">\n      <th></th>\n      <th>Period</th>\n      <th>Avtempdif</th>\n    </tr>\n  </thead>\n  <tbody>\n    <tr>\n      <th>0</th>\n      <td>2019-1919</td>\n      <td>Avg_temp    0.16\ndtype: float64</td>\n    </tr>\n    <tr>\n      <th>1</th>\n      <td>2018-1918</td>\n      <td>Avg_temp   -0.39\ndtype: float64</td>\n    </tr>\n    <tr>\n      <th>2</th>\n      <td>2017-1917</td>\n      <td>Avg_temp    1.39\ndtype: float64</td>\n    </tr>\n    <tr>\n      <th>3</th>\n      <td>2016-1916</td>\n      <td>Avg_temp    0.73\ndtype: float64</td>\n    </tr>\n    <tr>\n      <th>4</th>\n      <td>2015-1915</td>\n      <td>Avg_temp   -0.55\ndtype: float64</td>\n    </tr>\n    <tr>\n      <th>5</th>\n      <td>2014-1914</td>\n      <td>Avg_temp    0.69\ndtype: float64</td>\n    </tr>\n    <tr>\n      <th>6</th>\n      <td>2013-1913</td>\n      <td>Avg_temp    0.75\ndtype: float64</td>\n    </tr>\n    <tr>\n      <th>7</th>\n      <td>2012-1912</td>\n      <td>Avg_temp   -0.03\ndtype: float64</td>\n    </tr>\n    <tr>\n      <th>8</th>\n      <td>2011-1911</td>\n      <td>Avg_temp    1.16\ndtype: float64</td>\n    </tr>\n    <tr>\n      <th>9</th>\n      <td>2010-1910</td>\n      <td>Avg_temp    1.62\ndtype: float64</td>\n    </tr>\n    <tr>\n      <th>10</th>\n      <td>2009-1909</td>\n      <td>Avg_temp    0.54\ndtype: float64</td>\n    </tr>\n    <tr>\n      <th>11</th>\n      <td>2008-1908</td>\n      <td>Avg_temp    1.55\ndtype: float64</td>\n    </tr>\n    <tr>\n      <th>12</th>\n      <td>2007-1907</td>\n      <td>Avg_temp    1.13\ndtype: float64</td>\n    </tr>\n    <tr>\n      <th>13</th>\n      <td>2006-1906</td>\n      <td>Avg_temp   -0.25\ndtype: float64</td>\n    </tr>\n    <tr>\n      <th>14</th>\n      <td>2005-1905</td>\n      <td>Avg_temp   -0.03\ndtype: float64</td>\n    </tr>\n    <tr>\n      <th>15</th>\n      <td>2004-1904</td>\n      <td>Avg_temp    0.65\ndtype: float64</td>\n    </tr>\n    <tr>\n      <th>16</th>\n      <td>2003-1903</td>\n      <td>Avg_temp    0.59\ndtype: float64</td>\n    </tr>\n    <tr>\n      <th>17</th>\n      <td>2002-1902</td>\n      <td>Avg_temp    1.12\ndtype: float64</td>\n    </tr>\n    <tr>\n      <th>18</th>\n      <td>2001-1901</td>\n      <td>Avg_temp    1.13\ndtype: float64</td>\n    </tr>\n    <tr>\n      <th>19</th>\n      <td>2000-1900</td>\n      <td>Avg_temp    1.95\ndtype: float64</td>\n    </tr>\n    <tr>\n      <th>20</th>\n      <td>1999-1899</td>\n      <td>Avg_temp    0.83\ndtype: float64</td>\n    </tr>\n    <tr>\n      <th>21</th>\n      <td>1998-1898</td>\n      <td>Avg_temp    0.44\ndtype: float64</td>\n    </tr>\n    <tr>\n      <th>22</th>\n      <td>1997-1897</td>\n      <td>Avg_temp    0.68\ndtype: float64</td>\n    </tr>\n    <tr>\n      <th>23</th>\n      <td>1996-1896</td>\n      <td>Avg_temp    0.02\ndtype: float64</td>\n    </tr>\n    <tr>\n      <th>24</th>\n      <td>1995-1895</td>\n      <td>Avg_temp    0.64\ndtype: float64</td>\n    </tr>\n    <tr>\n      <th>25</th>\n      <td>1994-1894</td>\n      <td>Avg_temp    1.93\ndtype: float64</td>\n    </tr>\n    <tr>\n      <th>26</th>\n      <td>1993-1893</td>\n      <td>Avg_temp    0.53\ndtype: float64</td>\n    </tr>\n    <tr>\n      <th>27</th>\n      <td>1992-1892</td>\n      <td>Avg_temp    1.49\ndtype: float64</td>\n    </tr>\n    <tr>\n      <th>28</th>\n      <td>1991-1891</td>\n      <td>Avg_temp   -1.18\ndtype: float64</td>\n    </tr>\n    <tr>\n      <th>29</th>\n      <td>1990-1890</td>\n      <td>Avg_temp    0.85\ndtype: float64</td>\n    </tr>\n    <tr>\n      <th>...</th>\n      <td>...</td>\n      <td>...</td>\n    </tr>\n    <tr>\n      <th>70</th>\n      <td>1949-1849</td>\n      <td>Avg_temp    1.96\ndtype: float64</td>\n    </tr>\n    <tr>\n      <th>71</th>\n      <td>1948-1848</td>\n      <td>Avg_temp    1.86\ndtype: float64</td>\n    </tr>\n    <tr>\n      <th>72</th>\n      <td>1947-1847</td>\n      <td>Avg_temp    1.92\ndtype: float64</td>\n    </tr>\n    <tr>\n      <th>73</th>\n      <td>1946-1846</td>\n      <td>Avg_temp    0.95\ndtype: float64</td>\n    </tr>\n    <tr>\n      <th>74</th>\n      <td>1945-1845</td>\n      <td>Avg_temp    0.83\ndtype: float64</td>\n    </tr>\n    <tr>\n      <th>75</th>\n      <td>1944-1844</td>\n      <td>Avg_temp    0.52\ndtype: float64</td>\n    </tr>\n    <tr>\n      <th>76</th>\n      <td>1943-1843</td>\n      <td>Avg_temp    1.61\ndtype: float64</td>\n    </tr>\n    <tr>\n      <th>77</th>\n      <td>1942-1842</td>\n      <td>Avg_temp    0.78\ndtype: float64</td>\n    </tr>\n    <tr>\n      <th>78</th>\n      <td>1941-1841</td>\n      <td>Avg_temp    0.69\ndtype: float64</td>\n    </tr>\n    <tr>\n      <th>79</th>\n      <td>1940-1840</td>\n      <td>Avg_temp    0.74\ndtype: float64</td>\n    </tr>\n    <tr>\n      <th>80</th>\n      <td>1939-1839</td>\n      <td>Avg_temp    0.95\ndtype: float64</td>\n    </tr>\n    <tr>\n      <th>81</th>\n      <td>1938-1838</td>\n      <td>Avg_temp    0.57\ndtype: float64</td>\n    </tr>\n    <tr>\n      <th>82</th>\n      <td>1937-1837</td>\n      <td>Avg_temp    0.74\ndtype: float64</td>\n    </tr>\n    <tr>\n      <th>83</th>\n      <td>1936-1836</td>\n      <td>Avg_temp    2.26\ndtype: float64</td>\n    </tr>\n    <tr>\n      <th>84</th>\n      <td>1935-1835</td>\n      <td>Avg_temp    1.95\ndtype: float64</td>\n    </tr>\n    <tr>\n      <th>85</th>\n      <td>1934-1834</td>\n      <td>Avg_temp    2.37\ndtype: float64</td>\n    </tr>\n    <tr>\n      <th>86</th>\n      <td>1933-1833</td>\n      <td>Avg_temp    0.93\ndtype: float64</td>\n    </tr>\n    <tr>\n      <th>87</th>\n      <td>1932-1832</td>\n      <td>Avg_temp    1.21\ndtype: float64</td>\n    </tr>\n    <tr>\n      <th>88</th>\n      <td>1931-1831</td>\n      <td>Avg_temp    2.28\ndtype: float64</td>\n    </tr>\n    <tr>\n      <th>89</th>\n      <td>1930-1830</td>\n      <td>Avg_temp    2.18\ndtype: float64</td>\n    </tr>\n    <tr>\n      <th>90</th>\n      <td>1929-1829</td>\n      <td>Avg_temp    1.31\ndtype: float64</td>\n    </tr>\n    <tr>\n      <th>91</th>\n      <td>1928-1828</td>\n      <td>Avg_temp    2.74\ndtype: float64</td>\n    </tr>\n    <tr>\n      <th>92</th>\n      <td>1927-1827</td>\n      <td>Avg_temp    0.96\ndtype: float64</td>\n    </tr>\n    <tr>\n      <th>93</th>\n      <td>1926-1826</td>\n      <td>Avg_temp    0.87\ndtype: float64</td>\n    </tr>\n    <tr>\n      <th>94</th>\n      <td>1925-1825</td>\n      <td>Avg_temp    1.76\ndtype: float64</td>\n    </tr>\n    <tr>\n      <th>95</th>\n      <td>1924-1824</td>\n      <td>Avg_temp    1.68\ndtype: float64</td>\n    </tr>\n    <tr>\n      <th>96</th>\n      <td>1923-1823</td>\n      <td>Avg_temp    2.19\ndtype: float64</td>\n    </tr>\n    <tr>\n      <th>97</th>\n      <td>1922-1822</td>\n      <td>Avg_temp    2.73\ndtype: float64</td>\n    </tr>\n    <tr>\n      <th>98</th>\n      <td>1921-1821</td>\n      <td>Avg_temp    2.04\ndtype: float64</td>\n    </tr>\n    <tr>\n      <th>99</th>\n      <td>1920-1820</td>\n      <td>Avg_temp    2.73\ndtype: float64</td>\n    </tr>\n  </tbody>\n</table>\n<p>100 rows × 2 columns</p>\n</div>",
      "text/plain": "       Period                        Avtempdif\n0   2019-1919  Avg_temp    0.16\ndtype: float64\n1   2018-1918  Avg_temp   -0.39\ndtype: float64\n2   2017-1917  Avg_temp    1.39\ndtype: float64\n3   2016-1916  Avg_temp    0.73\ndtype: float64\n4   2015-1915  Avg_temp   -0.55\ndtype: float64\n5   2014-1914  Avg_temp    0.69\ndtype: float64\n6   2013-1913  Avg_temp    0.75\ndtype: float64\n7   2012-1912  Avg_temp   -0.03\ndtype: float64\n8   2011-1911  Avg_temp    1.16\ndtype: float64\n9   2010-1910  Avg_temp    1.62\ndtype: float64\n10  2009-1909  Avg_temp    0.54\ndtype: float64\n11  2008-1908  Avg_temp    1.55\ndtype: float64\n12  2007-1907  Avg_temp    1.13\ndtype: float64\n13  2006-1906  Avg_temp   -0.25\ndtype: float64\n14  2005-1905  Avg_temp   -0.03\ndtype: float64\n15  2004-1904  Avg_temp    0.65\ndtype: float64\n16  2003-1903  Avg_temp    0.59\ndtype: float64\n17  2002-1902  Avg_temp    1.12\ndtype: float64\n18  2001-1901  Avg_temp    1.13\ndtype: float64\n19  2000-1900  Avg_temp    1.95\ndtype: float64\n20  1999-1899  Avg_temp    0.83\ndtype: float64\n21  1998-1898  Avg_temp    0.44\ndtype: float64\n22  1997-1897  Avg_temp    0.68\ndtype: float64\n23  1996-1896  Avg_temp    0.02\ndtype: float64\n24  1995-1895  Avg_temp    0.64\ndtype: float64\n25  1994-1894  Avg_temp    1.93\ndtype: float64\n26  1993-1893  Avg_temp    0.53\ndtype: float64\n27  1992-1892  Avg_temp    1.49\ndtype: float64\n28  1991-1891  Avg_temp   -1.18\ndtype: float64\n29  1990-1890  Avg_temp    0.85\ndtype: float64\n..        ...                              ...\n70  1949-1849  Avg_temp    1.96\ndtype: float64\n71  1948-1848  Avg_temp    1.86\ndtype: float64\n72  1947-1847  Avg_temp    1.92\ndtype: float64\n73  1946-1846  Avg_temp    0.95\ndtype: float64\n74  1945-1845  Avg_temp    0.83\ndtype: float64\n75  1944-1844  Avg_temp    0.52\ndtype: float64\n76  1943-1843  Avg_temp    1.61\ndtype: float64\n77  1942-1842  Avg_temp    0.78\ndtype: float64\n78  1941-1841  Avg_temp    0.69\ndtype: float64\n79  1940-1840  Avg_temp    0.74\ndtype: float64\n80  1939-1839  Avg_temp    0.95\ndtype: float64\n81  1938-1838  Avg_temp    0.57\ndtype: float64\n82  1937-1837  Avg_temp    0.74\ndtype: float64\n83  1936-1836  Avg_temp    2.26\ndtype: float64\n84  1935-1835  Avg_temp    1.95\ndtype: float64\n85  1934-1834  Avg_temp    2.37\ndtype: float64\n86  1933-1833  Avg_temp    0.93\ndtype: float64\n87  1932-1832  Avg_temp    1.21\ndtype: float64\n88  1931-1831  Avg_temp    2.28\ndtype: float64\n89  1930-1830  Avg_temp    2.18\ndtype: float64\n90  1929-1829  Avg_temp    1.31\ndtype: float64\n91  1928-1828  Avg_temp    2.74\ndtype: float64\n92  1927-1827  Avg_temp    0.96\ndtype: float64\n93  1926-1826  Avg_temp    0.87\ndtype: float64\n94  1925-1825  Avg_temp    1.76\ndtype: float64\n95  1924-1824  Avg_temp    1.68\ndtype: float64\n96  1923-1823  Avg_temp    2.19\ndtype: float64\n97  1922-1822  Avg_temp    2.73\ndtype: float64\n98  1921-1821  Avg_temp    2.04\ndtype: float64\n99  1920-1820  Avg_temp    2.73\ndtype: float64\n\n[100 rows x 2 columns]"
     },
     "execution_count": 93,
     "metadata": {},
     "output_type": "execute_result"
    }
   ],
   "source": [
    "#PROJECT QUESTION: Is Climate Change happenning in Barcelona?\n",
    "# -- We considered climate change is happening if there is an increase of temperature above of 1,5ºC during the XXI century (100 years).\n",
    "## https://www.bbc.com/news/science-environment-45678338\n",
    "## https://www.ipcc.ch/sr15/chapter/glossary/\n",
    "\n",
    "#Q1: Has the temperature increased in Barcelona in the last 200 years?\n",
    "# Temperature difference between averages from 2018 and 1993\n",
    "#### ymean_df.iloc[200] - ymean_df.iloc[175]\n",
    "#Output: +1,32ºC\n",
    "# Temperature difference between averages from 2018 and 1968\n",
    "#### ymean_df.iloc[200] - ymean_df.iloc[150]\n",
    "#Output: +1,41ºC\n",
    "# Temperature difference between averages from 2018 and 1918\n",
    "#### ymean_df.iloc[200] - ymean_df.iloc[100]\n",
    "# Output: 2.05ºC\n",
    "# Temperature difference between averages from 2018 and 1818\n",
    "####ymean_df.iloc[200] - ymean_df.iloc[0]\n",
    "#Output: +2,21ºC\n",
    "\n",
    "hundyr = range(100)\n",
    "hungap = []\n",
    "hunyr = []\n",
    "for h in hundyr:\n",
    "    raw = (ymean_df.loc[1918+h] - ymean_df.loc[1818+h])\n",
    "    yr = 2019\n",
    "    hunyr.append(f'{yr-h}-{yr-100-h}')\n",
    "    hungap.append(raw)\n",
    "\n",
    "gapdict = {'Period': hunyr, 'Avtempdif': hungap}\n",
    "gap_df = pd.DataFrame.from_dict(gapdict)\n",
    "gap_df\n"
   ]
  },
  {
   "cell_type": "code",
   "execution_count": 100,
   "metadata": {},
   "outputs": [],
   "source": [
    "gap_df.Avtempdif = gap_df.Avtempdif.apply(lambda x: x.replace('Avg_temp ', ''))"
   ]
  },
  {
   "cell_type": "code",
   "execution_count": null,
   "metadata": {},
   "outputs": [],
   "source": []
  },
  {
   "cell_type": "code",
   "execution_count": 105,
   "metadata": {},
   "outputs": [
    {
     "data": {
      "text/html": "<div>\n<style scoped>\n    .dataframe tbody tr th:only-of-type {\n        vertical-align: middle;\n    }\n\n    .dataframe tbody tr th {\n        vertical-align: top;\n    }\n\n    .dataframe thead th {\n        text-align: right;\n    }\n</style>\n<table border=\"1\" class=\"dataframe\">\n  <thead>\n    <tr style=\"text-align: right;\">\n      <th></th>\n      <th>Period</th>\n      <th>Avtempdif</th>\n    </tr>\n  </thead>\n  <tbody>\n    <tr>\n      <th>0</th>\n      <td>2019-1919</td>\n      <td>0.16</td>\n    </tr>\n    <tr>\n      <th>1</th>\n      <td>2018-1918</td>\n      <td>-0.39</td>\n    </tr>\n    <tr>\n      <th>2</th>\n      <td>2017-1917</td>\n      <td>1.39</td>\n    </tr>\n    <tr>\n      <th>3</th>\n      <td>2016-1916</td>\n      <td>0.73</td>\n    </tr>\n    <tr>\n      <th>4</th>\n      <td>2015-1915</td>\n      <td>-0.55</td>\n    </tr>\n    <tr>\n      <th>5</th>\n      <td>2014-1914</td>\n      <td>0.69</td>\n    </tr>\n    <tr>\n      <th>6</th>\n      <td>2013-1913</td>\n      <td>0.75</td>\n    </tr>\n    <tr>\n      <th>7</th>\n      <td>2012-1912</td>\n      <td>-0.03</td>\n    </tr>\n    <tr>\n      <th>8</th>\n      <td>2011-1911</td>\n      <td>1.16</td>\n    </tr>\n    <tr>\n      <th>9</th>\n      <td>2010-1910</td>\n      <td>1.62</td>\n    </tr>\n    <tr>\n      <th>10</th>\n      <td>2009-1909</td>\n      <td>0.54</td>\n    </tr>\n    <tr>\n      <th>11</th>\n      <td>2008-1908</td>\n      <td>1.55</td>\n    </tr>\n    <tr>\n      <th>12</th>\n      <td>2007-1907</td>\n      <td>1.13</td>\n    </tr>\n    <tr>\n      <th>13</th>\n      <td>2006-1906</td>\n      <td>-0.25</td>\n    </tr>\n    <tr>\n      <th>14</th>\n      <td>2005-1905</td>\n      <td>-0.03</td>\n    </tr>\n    <tr>\n      <th>15</th>\n      <td>2004-1904</td>\n      <td>0.65</td>\n    </tr>\n    <tr>\n      <th>16</th>\n      <td>2003-1903</td>\n      <td>0.59</td>\n    </tr>\n    <tr>\n      <th>17</th>\n      <td>2002-1902</td>\n      <td>1.12</td>\n    </tr>\n    <tr>\n      <th>18</th>\n      <td>2001-1901</td>\n      <td>1.13</td>\n    </tr>\n    <tr>\n      <th>19</th>\n      <td>2000-1900</td>\n      <td>1.95</td>\n    </tr>\n    <tr>\n      <th>20</th>\n      <td>1999-1899</td>\n      <td>0.83</td>\n    </tr>\n    <tr>\n      <th>21</th>\n      <td>1998-1898</td>\n      <td>0.44</td>\n    </tr>\n    <tr>\n      <th>22</th>\n      <td>1997-1897</td>\n      <td>0.68</td>\n    </tr>\n    <tr>\n      <th>23</th>\n      <td>1996-1896</td>\n      <td>0.02</td>\n    </tr>\n    <tr>\n      <th>24</th>\n      <td>1995-1895</td>\n      <td>0.64</td>\n    </tr>\n    <tr>\n      <th>25</th>\n      <td>1994-1894</td>\n      <td>1.93</td>\n    </tr>\n    <tr>\n      <th>26</th>\n      <td>1993-1893</td>\n      <td>0.53</td>\n    </tr>\n    <tr>\n      <th>27</th>\n      <td>1992-1892</td>\n      <td>1.49</td>\n    </tr>\n    <tr>\n      <th>28</th>\n      <td>1991-1891</td>\n      <td>-1.18</td>\n    </tr>\n    <tr>\n      <th>29</th>\n      <td>1990-1890</td>\n      <td>0.85</td>\n    </tr>\n    <tr>\n      <th>...</th>\n      <td>...</td>\n      <td>...</td>\n    </tr>\n    <tr>\n      <th>70</th>\n      <td>1949-1849</td>\n      <td>1.96</td>\n    </tr>\n    <tr>\n      <th>71</th>\n      <td>1948-1848</td>\n      <td>1.86</td>\n    </tr>\n    <tr>\n      <th>72</th>\n      <td>1947-1847</td>\n      <td>1.92</td>\n    </tr>\n    <tr>\n      <th>73</th>\n      <td>1946-1846</td>\n      <td>0.95</td>\n    </tr>\n    <tr>\n      <th>74</th>\n      <td>1945-1845</td>\n      <td>0.83</td>\n    </tr>\n    <tr>\n      <th>75</th>\n      <td>1944-1844</td>\n      <td>0.52</td>\n    </tr>\n    <tr>\n      <th>76</th>\n      <td>1943-1843</td>\n      <td>1.61</td>\n    </tr>\n    <tr>\n      <th>77</th>\n      <td>1942-1842</td>\n      <td>0.78</td>\n    </tr>\n    <tr>\n      <th>78</th>\n      <td>1941-1841</td>\n      <td>0.69</td>\n    </tr>\n    <tr>\n      <th>79</th>\n      <td>1940-1840</td>\n      <td>0.74</td>\n    </tr>\n    <tr>\n      <th>80</th>\n      <td>1939-1839</td>\n      <td>0.95</td>\n    </tr>\n    <tr>\n      <th>81</th>\n      <td>1938-1838</td>\n      <td>0.57</td>\n    </tr>\n    <tr>\n      <th>82</th>\n      <td>1937-1837</td>\n      <td>0.74</td>\n    </tr>\n    <tr>\n      <th>83</th>\n      <td>1936-1836</td>\n      <td>2.26</td>\n    </tr>\n    <tr>\n      <th>84</th>\n      <td>1935-1835</td>\n      <td>1.95</td>\n    </tr>\n    <tr>\n      <th>85</th>\n      <td>1934-1834</td>\n      <td>2.37</td>\n    </tr>\n    <tr>\n      <th>86</th>\n      <td>1933-1833</td>\n      <td>0.93</td>\n    </tr>\n    <tr>\n      <th>87</th>\n      <td>1932-1832</td>\n      <td>1.21</td>\n    </tr>\n    <tr>\n      <th>88</th>\n      <td>1931-1831</td>\n      <td>2.28</td>\n    </tr>\n    <tr>\n      <th>89</th>\n      <td>1930-1830</td>\n      <td>2.18</td>\n    </tr>\n    <tr>\n      <th>90</th>\n      <td>1929-1829</td>\n      <td>1.31</td>\n    </tr>\n    <tr>\n      <th>91</th>\n      <td>1928-1828</td>\n      <td>2.74</td>\n    </tr>\n    <tr>\n      <th>92</th>\n      <td>1927-1827</td>\n      <td>0.96</td>\n    </tr>\n    <tr>\n      <th>93</th>\n      <td>1926-1826</td>\n      <td>0.87</td>\n    </tr>\n    <tr>\n      <th>94</th>\n      <td>1925-1825</td>\n      <td>1.76</td>\n    </tr>\n    <tr>\n      <th>95</th>\n      <td>1924-1824</td>\n      <td>1.68</td>\n    </tr>\n    <tr>\n      <th>96</th>\n      <td>1923-1823</td>\n      <td>2.19</td>\n    </tr>\n    <tr>\n      <th>97</th>\n      <td>1922-1822</td>\n      <td>2.73</td>\n    </tr>\n    <tr>\n      <th>98</th>\n      <td>1921-1821</td>\n      <td>2.04</td>\n    </tr>\n    <tr>\n      <th>99</th>\n      <td>1920-1820</td>\n      <td>2.73</td>\n    </tr>\n  </tbody>\n</table>\n<p>100 rows × 2 columns</p>\n</div>",
      "text/plain": "       Period  Avtempdif\n0   2019-1919       0.16\n1   2018-1918      -0.39\n2   2017-1917       1.39\n3   2016-1916       0.73\n4   2015-1915      -0.55\n5   2014-1914       0.69\n6   2013-1913       0.75\n7   2012-1912      -0.03\n8   2011-1911       1.16\n9   2010-1910       1.62\n10  2009-1909       0.54\n11  2008-1908       1.55\n12  2007-1907       1.13\n13  2006-1906      -0.25\n14  2005-1905      -0.03\n15  2004-1904       0.65\n16  2003-1903       0.59\n17  2002-1902       1.12\n18  2001-1901       1.13\n19  2000-1900       1.95\n20  1999-1899       0.83\n21  1998-1898       0.44\n22  1997-1897       0.68\n23  1996-1896       0.02\n24  1995-1895       0.64\n25  1994-1894       1.93\n26  1993-1893       0.53\n27  1992-1892       1.49\n28  1991-1891      -1.18\n29  1990-1890       0.85\n..        ...        ...\n70  1949-1849       1.96\n71  1948-1848       1.86\n72  1947-1847       1.92\n73  1946-1846       0.95\n74  1945-1845       0.83\n75  1944-1844       0.52\n76  1943-1843       1.61\n77  1942-1842       0.78\n78  1941-1841       0.69\n79  1940-1840       0.74\n80  1939-1839       0.95\n81  1938-1838       0.57\n82  1937-1837       0.74\n83  1936-1836       2.26\n84  1935-1835       1.95\n85  1934-1834       2.37\n86  1933-1833       0.93\n87  1932-1832       1.21\n88  1931-1831       2.28\n89  1930-1830       2.18\n90  1929-1829       1.31\n91  1928-1828       2.74\n92  1927-1827       0.96\n93  1926-1826       0.87\n94  1925-1825       1.76\n95  1924-1824       1.68\n96  1923-1823       2.19\n97  1922-1822       2.73\n98  1921-1821       2.04\n99  1920-1820       2.73\n\n[100 rows x 2 columns]"
     },
     "execution_count": 105,
     "metadata": {},
     "output_type": "execute_result"
    }
   ],
   "source": [
    "gap_df"
   ]
  },
  {
   "cell_type": "code",
   "execution_count": 204,
   "metadata": {},
   "outputs": [],
   "source": [
    "gap_df.Avtempdif = gap_df.Avtempdif.apply(lambda x: x.replace('Avg_temp ', ''))"
   ]
  },
  {
   "cell_type": "code",
   "execution_count": null,
   "metadata": {},
   "outputs": [],
   "source": [
    "# Pregunta 2: Hi ha x resultat en comparació de mitjanes, és l'augment proporcional o s'està augmentant més ràpid que abans?\n",
    "## Compare the average incresases between the ranges above.\n",
    "### TO-DO Measure year-to-date differences (1,5,10,50,200)"
   ]
  },
  {
   "cell_type": "code",
   "execution_count": 87,
   "metadata": {},
   "outputs": [],
   "source": [
    "dff = pd.read_csv('temperaturesbarcelonadesde1780.csv')\n",
    "columns = ['Any', 1,2,3,4,5,6,7,8,9,10,11,12]\n",
    "dff.columns = columns\n",
    "\n",
    "t0 = dff[['Any']]\n",
    "t1 = dff[['Any', 1,2,3]]\n",
    "t2 = dff[['Any', 4,5,6]]\n",
    "t3 = dff[['Any', 7,8,9]]\n",
    "t4 = dff[['Any', 10,11,12]]\n",
    "\n",
    "t0 = t0.set_index('Any')\n",
    "t1 = t1.set_index('Any')\n",
    "t2 = t2.set_index('Any')\n",
    "t3 = t3.set_index('Any')\n",
    "t4 = t4.set_index('Any')\n",
    "\n",
    "years = range(0,239)\n",
    "t1mean = []\n",
    "t2mean = []\n",
    "t3mean = []\n",
    "t4mean = []\n",
    "\n",
    "for r in years:\n",
    "   t = round(t1.iloc[r].mean(),2)\n",
    "   t22 = round(t2.iloc[r].mean(),2)\n",
    "   t33 = round(t3.iloc[r].mean(),2)\n",
    "   t44 = round(t4.iloc[r].mean(),2)\n",
    "   t1mean.append(t)\n",
    "   t2mean.append(t22)\n",
    "   t3mean.append(t33)\n",
    "   t4mean.append(t44)\n",
    "\n",
    "t0.insert(0, 'T1Avg', t1mean, True)\n",
    "t0.insert(1, 'T2Avg', t2mean, True)\n",
    "t0.insert(2, 'T3Avg', t3mean, True)\n",
    "t0.insert(3, 'T4Avg', t4mean, True)\n",
    "t0def = t0.iloc[38:239]\n"
   ]
  },
  {
   "cell_type": "code",
   "execution_count": 88,
   "metadata": {},
   "outputs": [
    {
     "data": {
      "text/html": "<div>\n<style scoped>\n    .dataframe tbody tr th:only-of-type {\n        vertical-align: middle;\n    }\n\n    .dataframe tbody tr th {\n        vertical-align: top;\n    }\n\n    .dataframe thead th {\n        text-align: right;\n    }\n</style>\n<table border=\"1\" class=\"dataframe\">\n  <thead>\n    <tr style=\"text-align: right;\">\n      <th></th>\n      <th>T1Avg</th>\n      <th>T2Avg</th>\n      <th>T3Avg</th>\n      <th>T4Avg</th>\n      <th>Std</th>\n      <th>YAvg</th>\n    </tr>\n    <tr>\n      <th>Any</th>\n      <th></th>\n      <th></th>\n      <th></th>\n      <th></th>\n      <th></th>\n      <th></th>\n    </tr>\n  </thead>\n  <tbody>\n    <tr>\n      <th>1818</th>\n      <td>9.23</td>\n      <td>14.80</td>\n      <td>20.43</td>\n      <td>11.83</td>\n      <td>4.166104</td>\n      <td>14.07</td>\n    </tr>\n    <tr>\n      <th>1819</th>\n      <td>8.43</td>\n      <td>16.33</td>\n      <td>21.03</td>\n      <td>11.57</td>\n      <td>4.778002</td>\n      <td>14.34</td>\n    </tr>\n    <tr>\n      <th>1820</th>\n      <td>7.53</td>\n      <td>15.47</td>\n      <td>20.73</td>\n      <td>10.23</td>\n      <td>5.061798</td>\n      <td>13.49</td>\n    </tr>\n    <tr>\n      <th>1821</th>\n      <td>8.87</td>\n      <td>14.77</td>\n      <td>20.87</td>\n      <td>12.73</td>\n      <td>4.339793</td>\n      <td>14.31</td>\n    </tr>\n    <tr>\n      <th>1822</th>\n      <td>9.07</td>\n      <td>17.63</td>\n      <td>21.23</td>\n      <td>11.70</td>\n      <td>4.789324</td>\n      <td>14.91</td>\n    </tr>\n    <tr>\n      <th>1823</th>\n      <td>8.30</td>\n      <td>15.20</td>\n      <td>20.40</td>\n      <td>11.07</td>\n      <td>4.560967</td>\n      <td>13.74</td>\n    </tr>\n    <tr>\n      <th>1824</th>\n      <td>7.97</td>\n      <td>14.67</td>\n      <td>20.73</td>\n      <td>12.53</td>\n      <td>4.589693</td>\n      <td>13.98</td>\n    </tr>\n    <tr>\n      <th>1825</th>\n      <td>7.97</td>\n      <td>16.37</td>\n      <td>21.10</td>\n      <td>11.23</td>\n      <td>4.998712</td>\n      <td>14.17</td>\n    </tr>\n    <tr>\n      <th>1826</th>\n      <td>8.10</td>\n      <td>14.73</td>\n      <td>21.73</td>\n      <td>10.93</td>\n      <td>5.110179</td>\n      <td>13.88</td>\n    </tr>\n    <tr>\n      <th>1827</th>\n      <td>7.30</td>\n      <td>13.63</td>\n      <td>21.63</td>\n      <td>11.37</td>\n      <td>5.222295</td>\n      <td>13.48</td>\n    </tr>\n    <tr>\n      <th>1828</th>\n      <td>9.03</td>\n      <td>16.07</td>\n      <td>22.07</td>\n      <td>11.93</td>\n      <td>4.898804</td>\n      <td>14.78</td>\n    </tr>\n    <tr>\n      <th>1829</th>\n      <td>8.43</td>\n      <td>15.47</td>\n      <td>19.43</td>\n      <td>9.53</td>\n      <td>4.477352</td>\n      <td>13.22</td>\n    </tr>\n    <tr>\n      <th>1830</th>\n      <td>7.00</td>\n      <td>16.37</td>\n      <td>20.70</td>\n      <td>11.67</td>\n      <td>5.121497</td>\n      <td>13.93</td>\n    </tr>\n    <tr>\n      <th>1831</th>\n      <td>9.83</td>\n      <td>16.83</td>\n      <td>20.53</td>\n      <td>12.33</td>\n      <td>4.114912</td>\n      <td>14.88</td>\n    </tr>\n    <tr>\n      <th>1832</th>\n      <td>8.30</td>\n      <td>15.27</td>\n      <td>21.57</td>\n      <td>11.63</td>\n      <td>4.921293</td>\n      <td>14.19</td>\n    </tr>\n    <tr>\n      <th>1833</th>\n      <td>8.87</td>\n      <td>16.47</td>\n      <td>18.80</td>\n      <td>11.53</td>\n      <td>3.922100</td>\n      <td>13.92</td>\n    </tr>\n    <tr>\n      <th>1834</th>\n      <td>9.70</td>\n      <td>15.63</td>\n      <td>21.23</td>\n      <td>11.40</td>\n      <td>4.450264</td>\n      <td>14.49</td>\n    </tr>\n    <tr>\n      <th>1835</th>\n      <td>8.90</td>\n      <td>14.40</td>\n      <td>20.50</td>\n      <td>10.00</td>\n      <td>4.560976</td>\n      <td>13.45</td>\n    </tr>\n    <tr>\n      <th>1836</th>\n      <td>8.13</td>\n      <td>13.53</td>\n      <td>20.60</td>\n      <td>11.10</td>\n      <td>4.607206</td>\n      <td>13.34</td>\n    </tr>\n    <tr>\n      <th>1837</th>\n      <td>7.20</td>\n      <td>14.30</td>\n      <td>21.23</td>\n      <td>11.27</td>\n      <td>5.124837</td>\n      <td>13.50</td>\n    </tr>\n    <tr>\n      <th>1838</th>\n      <td>8.63</td>\n      <td>15.10</td>\n      <td>20.67</td>\n      <td>11.80</td>\n      <td>4.454374</td>\n      <td>14.05</td>\n    </tr>\n    <tr>\n      <th>1839</th>\n      <td>7.97</td>\n      <td>15.27</td>\n      <td>20.30</td>\n      <td>11.93</td>\n      <td>4.524336</td>\n      <td>13.87</td>\n    </tr>\n    <tr>\n      <th>1840</th>\n      <td>7.73</td>\n      <td>15.30</td>\n      <td>20.33</td>\n      <td>11.50</td>\n      <td>4.663607</td>\n      <td>13.72</td>\n    </tr>\n    <tr>\n      <th>1841</th>\n      <td>8.37</td>\n      <td>15.63</td>\n      <td>19.87</td>\n      <td>11.83</td>\n      <td>4.286523</td>\n      <td>13.92</td>\n    </tr>\n    <tr>\n      <th>1842</th>\n      <td>8.07</td>\n      <td>16.00</td>\n      <td>20.93</td>\n      <td>11.20</td>\n      <td>4.873905</td>\n      <td>14.05</td>\n    </tr>\n    <tr>\n      <th>1843</th>\n      <td>8.87</td>\n      <td>15.17</td>\n      <td>19.47</td>\n      <td>10.60</td>\n      <td>4.131394</td>\n      <td>13.53</td>\n    </tr>\n    <tr>\n      <th>1844</th>\n      <td>8.40</td>\n      <td>15.57</td>\n      <td>20.47</td>\n      <td>11.83</td>\n      <td>4.482647</td>\n      <td>14.07</td>\n    </tr>\n    <tr>\n      <th>1845</th>\n      <td>7.93</td>\n      <td>14.47</td>\n      <td>21.23</td>\n      <td>12.20</td>\n      <td>4.810704</td>\n      <td>13.96</td>\n    </tr>\n    <tr>\n      <th>1846</th>\n      <td>9.93</td>\n      <td>17.10</td>\n      <td>23.70</td>\n      <td>11.87</td>\n      <td>5.336474</td>\n      <td>15.65</td>\n    </tr>\n    <tr>\n      <th>1847</th>\n      <td>9.47</td>\n      <td>17.10</td>\n      <td>21.27</td>\n      <td>12.10</td>\n      <td>4.547332</td>\n      <td>14.98</td>\n    </tr>\n    <tr>\n      <th>...</th>\n      <td>...</td>\n      <td>...</td>\n      <td>...</td>\n      <td>...</td>\n      <td>...</td>\n      <td>...</td>\n    </tr>\n    <tr>\n      <th>1989</th>\n      <td>10.57</td>\n      <td>16.97</td>\n      <td>23.13</td>\n      <td>13.87</td>\n      <td>4.629436</td>\n      <td>16.13</td>\n    </tr>\n    <tr>\n      <th>1990</th>\n      <td>11.37</td>\n      <td>16.83</td>\n      <td>23.43</td>\n      <td>11.57</td>\n      <td>4.919238</td>\n      <td>15.80</td>\n    </tr>\n    <tr>\n      <th>1991</th>\n      <td>9.30</td>\n      <td>15.07</td>\n      <td>23.63</td>\n      <td>11.50</td>\n      <td>5.458006</td>\n      <td>14.88</td>\n    </tr>\n    <tr>\n      <th>1992</th>\n      <td>9.00</td>\n      <td>16.33</td>\n      <td>22.43</td>\n      <td>12.33</td>\n      <td>5.002517</td>\n      <td>15.03</td>\n    </tr>\n    <tr>\n      <th>1993</th>\n      <td>9.13</td>\n      <td>17.10</td>\n      <td>22.17</td>\n      <td>11.43</td>\n      <td>5.074778</td>\n      <td>14.96</td>\n    </tr>\n    <tr>\n      <th>1994</th>\n      <td>10.33</td>\n      <td>16.80</td>\n      <td>23.77</td>\n      <td>13.27</td>\n      <td>5.015164</td>\n      <td>16.04</td>\n    </tr>\n    <tr>\n      <th>1995</th>\n      <td>10.33</td>\n      <td>16.93</td>\n      <td>22.33</td>\n      <td>13.77</td>\n      <td>4.414555</td>\n      <td>15.84</td>\n    </tr>\n    <tr>\n      <th>1996</th>\n      <td>9.27</td>\n      <td>16.87</td>\n      <td>21.47</td>\n      <td>12.30</td>\n      <td>4.622734</td>\n      <td>14.98</td>\n    </tr>\n    <tr>\n      <th>1997</th>\n      <td>11.33</td>\n      <td>17.30</td>\n      <td>22.93</td>\n      <td>13.60</td>\n      <td>4.385983</td>\n      <td>16.29</td>\n    </tr>\n    <tr>\n      <th>1998</th>\n      <td>10.67</td>\n      <td>17.10</td>\n      <td>22.90</td>\n      <td>11.80</td>\n      <td>4.854989</td>\n      <td>15.62</td>\n    </tr>\n    <tr>\n      <th>1999</th>\n      <td>9.67</td>\n      <td>17.60</td>\n      <td>23.23</td>\n      <td>11.87</td>\n      <td>5.274810</td>\n      <td>15.59</td>\n    </tr>\n    <tr>\n      <th>2000</th>\n      <td>10.57</td>\n      <td>17.53</td>\n      <td>22.77</td>\n      <td>12.77</td>\n      <td>4.691993</td>\n      <td>15.91</td>\n    </tr>\n    <tr>\n      <th>2001</th>\n      <td>11.60</td>\n      <td>17.97</td>\n      <td>22.77</td>\n      <td>12.30</td>\n      <td>4.545916</td>\n      <td>16.16</td>\n    </tr>\n    <tr>\n      <th>2002</th>\n      <td>10.87</td>\n      <td>17.17</td>\n      <td>21.47</td>\n      <td>13.60</td>\n      <td>3.973936</td>\n      <td>15.78</td>\n    </tr>\n    <tr>\n      <th>2003</th>\n      <td>9.03</td>\n      <td>19.20</td>\n      <td>25.13</td>\n      <td>12.23</td>\n      <td>6.240166</td>\n      <td>16.40</td>\n    </tr>\n    <tr>\n      <th>2004</th>\n      <td>9.33</td>\n      <td>17.13</td>\n      <td>23.33</td>\n      <td>13.20</td>\n      <td>5.173966</td>\n      <td>15.75</td>\n    </tr>\n    <tr>\n      <th>2005</th>\n      <td>7.97</td>\n      <td>18.73</td>\n      <td>22.70</td>\n      <td>11.87</td>\n      <td>5.744943</td>\n      <td>15.32</td>\n    </tr>\n    <tr>\n      <th>2006</th>\n      <td>9.30</td>\n      <td>18.63</td>\n      <td>23.83</td>\n      <td>14.47</td>\n      <td>5.343535</td>\n      <td>16.56</td>\n    </tr>\n    <tr>\n      <th>2007</th>\n      <td>11.13</td>\n      <td>18.30</td>\n      <td>22.23</td>\n      <td>12.13</td>\n      <td>4.549332</td>\n      <td>15.95</td>\n    </tr>\n    <tr>\n      <th>2008</th>\n      <td>10.37</td>\n      <td>17.00</td>\n      <td>22.93</td>\n      <td>11.43</td>\n      <td>5.007956</td>\n      <td>15.43</td>\n    </tr>\n    <tr>\n      <th>2009</th>\n      <td>9.03</td>\n      <td>18.30</td>\n      <td>24.07</td>\n      <td>13.47</td>\n      <td>5.594807</td>\n      <td>16.22</td>\n    </tr>\n    <tr>\n      <th>2010</th>\n      <td>8.07</td>\n      <td>16.60</td>\n      <td>23.63</td>\n      <td>11.90</td>\n      <td>5.802194</td>\n      <td>15.05</td>\n    </tr>\n    <tr>\n      <th>2011</th>\n      <td>9.77</td>\n      <td>17.90</td>\n      <td>22.73</td>\n      <td>14.47</td>\n      <td>4.739923</td>\n      <td>16.22</td>\n    </tr>\n    <tr>\n      <th>2012</th>\n      <td>9.87</td>\n      <td>17.60</td>\n      <td>23.53</td>\n      <td>13.30</td>\n      <td>5.101601</td>\n      <td>16.08</td>\n    </tr>\n    <tr>\n      <th>2013</th>\n      <td>9.33</td>\n      <td>15.87</td>\n      <td>24.17</td>\n      <td>13.93</td>\n      <td>5.371618</td>\n      <td>15.82</td>\n    </tr>\n    <tr>\n      <th>2014</th>\n      <td>10.73</td>\n      <td>17.73</td>\n      <td>22.53</td>\n      <td>14.10</td>\n      <td>4.379489</td>\n      <td>16.27</td>\n    </tr>\n    <tr>\n      <th>2015</th>\n      <td>9.77</td>\n      <td>19.03</td>\n      <td>23.07</td>\n      <td>14.53</td>\n      <td>4.967384</td>\n      <td>16.60</td>\n    </tr>\n    <tr>\n      <th>2016</th>\n      <td>11.03</td>\n      <td>17.20</td>\n      <td>23.90</td>\n      <td>13.77</td>\n      <td>4.811999</td>\n      <td>16.47</td>\n    </tr>\n    <tr>\n      <th>2017</th>\n      <td>10.87</td>\n      <td>18.70</td>\n      <td>22.73</td>\n      <td>13.20</td>\n      <td>4.641587</td>\n      <td>16.37</td>\n    </tr>\n    <tr>\n      <th>2018</th>\n      <td>9.33</td>\n      <td>17.77</td>\n      <td>24.53</td>\n      <td>13.50</td>\n      <td>5.619463</td>\n      <td>16.28</td>\n    </tr>\n  </tbody>\n</table>\n<p>201 rows × 6 columns</p>\n</div>",
      "text/plain": "      T1Avg  T2Avg  T3Avg  T4Avg       Std   YAvg\nAny                                              \n1818   9.23  14.80  20.43  11.83  4.166104  14.07\n1819   8.43  16.33  21.03  11.57  4.778002  14.34\n1820   7.53  15.47  20.73  10.23  5.061798  13.49\n1821   8.87  14.77  20.87  12.73  4.339793  14.31\n1822   9.07  17.63  21.23  11.70  4.789324  14.91\n1823   8.30  15.20  20.40  11.07  4.560967  13.74\n1824   7.97  14.67  20.73  12.53  4.589693  13.98\n1825   7.97  16.37  21.10  11.23  4.998712  14.17\n1826   8.10  14.73  21.73  10.93  5.110179  13.88\n1827   7.30  13.63  21.63  11.37  5.222295  13.48\n1828   9.03  16.07  22.07  11.93  4.898804  14.78\n1829   8.43  15.47  19.43   9.53  4.477352  13.22\n1830   7.00  16.37  20.70  11.67  5.121497  13.93\n1831   9.83  16.83  20.53  12.33  4.114912  14.88\n1832   8.30  15.27  21.57  11.63  4.921293  14.19\n1833   8.87  16.47  18.80  11.53  3.922100  13.92\n1834   9.70  15.63  21.23  11.40  4.450264  14.49\n1835   8.90  14.40  20.50  10.00  4.560976  13.45\n1836   8.13  13.53  20.60  11.10  4.607206  13.34\n1837   7.20  14.30  21.23  11.27  5.124837  13.50\n1838   8.63  15.10  20.67  11.80  4.454374  14.05\n1839   7.97  15.27  20.30  11.93  4.524336  13.87\n1840   7.73  15.30  20.33  11.50  4.663607  13.72\n1841   8.37  15.63  19.87  11.83  4.286523  13.92\n1842   8.07  16.00  20.93  11.20  4.873905  14.05\n1843   8.87  15.17  19.47  10.60  4.131394  13.53\n1844   8.40  15.57  20.47  11.83  4.482647  14.07\n1845   7.93  14.47  21.23  12.20  4.810704  13.96\n1846   9.93  17.10  23.70  11.87  5.336474  15.65\n1847   9.47  17.10  21.27  12.10  4.547332  14.98\n...     ...    ...    ...    ...       ...    ...\n1989  10.57  16.97  23.13  13.87  4.629436  16.13\n1990  11.37  16.83  23.43  11.57  4.919238  15.80\n1991   9.30  15.07  23.63  11.50  5.458006  14.88\n1992   9.00  16.33  22.43  12.33  5.002517  15.03\n1993   9.13  17.10  22.17  11.43  5.074778  14.96\n1994  10.33  16.80  23.77  13.27  5.015164  16.04\n1995  10.33  16.93  22.33  13.77  4.414555  15.84\n1996   9.27  16.87  21.47  12.30  4.622734  14.98\n1997  11.33  17.30  22.93  13.60  4.385983  16.29\n1998  10.67  17.10  22.90  11.80  4.854989  15.62\n1999   9.67  17.60  23.23  11.87  5.274810  15.59\n2000  10.57  17.53  22.77  12.77  4.691993  15.91\n2001  11.60  17.97  22.77  12.30  4.545916  16.16\n2002  10.87  17.17  21.47  13.60  3.973936  15.78\n2003   9.03  19.20  25.13  12.23  6.240166  16.40\n2004   9.33  17.13  23.33  13.20  5.173966  15.75\n2005   7.97  18.73  22.70  11.87  5.744943  15.32\n2006   9.30  18.63  23.83  14.47  5.343535  16.56\n2007  11.13  18.30  22.23  12.13  4.549332  15.95\n2008  10.37  17.00  22.93  11.43  5.007956  15.43\n2009   9.03  18.30  24.07  13.47  5.594807  16.22\n2010   8.07  16.60  23.63  11.90  5.802194  15.05\n2011   9.77  17.90  22.73  14.47  4.739923  16.22\n2012   9.87  17.60  23.53  13.30  5.101601  16.08\n2013   9.33  15.87  24.17  13.93  5.371618  15.82\n2014  10.73  17.73  22.53  14.10  4.379489  16.27\n2015   9.77  19.03  23.07  14.53  4.967384  16.60\n2016  11.03  17.20  23.90  13.77  4.811999  16.47\n2017  10.87  18.70  22.73  13.20  4.641587  16.37\n2018   9.33  17.77  24.53  13.50  5.619463  16.28\n\n[201 rows x 6 columns]"
     },
     "execution_count": 88,
     "metadata": {},
     "output_type": "execute_result"
    }
   ],
   "source": [
    "t0def.insert(4, 'YAvg', ymean, True) \n",
    "stdt0 = t0def.std(axis=1)\n",
    "defchart = pd.DataFrame(stdt0)\n",
    "t0def.insert(4, 'Std', defchart, True)\n",
    "t0def\n",
    "\n",
    "#y = (mitjana-t1) + mitjana-t2 + mitjana-t3 + mitjana-t4"
   ]
  },
  {
   "cell_type": "code",
   "execution_count": null,
   "metadata": {},
   "outputs": [],
   "source": []
  }
 ],
 "metadata": {
  "file_extension": ".py",
  "kernelspec": {
   "display_name": "Python 3",
   "language": "python",
   "name": "python3"
  },
  "language_info": {
   "codemirror_mode": {
    "name": "ipython",
    "version": 3
   },
   "file_extension": ".py",
   "mimetype": "text/x-python",
   "name": "python",
   "nbconvert_exporter": "python",
   "pygments_lexer": "ipython3",
   "version": "3.7.3"
  },
  "mimetype": "text/x-python",
  "name": "python",
  "npconvert_exporter": "python",
  "pygments_lexer": "ipython3",
  "version": 3
 },
 "nbformat": 4,
 "nbformat_minor": 2
}