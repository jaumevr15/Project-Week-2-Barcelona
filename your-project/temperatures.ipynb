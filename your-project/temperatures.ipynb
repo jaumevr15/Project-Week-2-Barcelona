{
 "cells": [
  {
   "cell_type": "code",
   "execution_count": 2,
   "metadata": {},
   "outputs": [],
   "source": [
    "import pandas as pd\n",
    "import numpy as np\n",
    "import re\n",
    "df = pd.read_csv('temperaturesbarcelonadesde1780.csv')\n",
    "ds = pd.read_csv('temperaturesbarcelonadesde1780_format_long.csv')\n",
    "\n",
    "#df is a Dataframe with Year and Montlhy average temperature as columns.\n",
    "#And years as rows\n"
   ]
  },
  {
   "cell_type": "code",
   "execution_count": 267,
   "metadata": {},
   "outputs": [
    {
     "data": {
      "text/html": "<div>\n<style scoped>\n    .dataframe tbody tr th:only-of-type {\n        vertical-align: middle;\n    }\n\n    .dataframe tbody tr th {\n        vertical-align: top;\n    }\n\n    .dataframe thead th {\n        text-align: right;\n    }\n</style>\n<table border=\"1\" class=\"dataframe\">\n  <thead>\n    <tr style=\"text-align: right;\">\n      <th></th>\n      <th>Avg_temp</th>\n    </tr>\n    <tr>\n      <th>Year</th>\n      <th></th>\n    </tr>\n  </thead>\n  <tbody>\n    <tr>\n      <th>1818</th>\n      <td>14.07</td>\n    </tr>\n    <tr>\n      <th>1819</th>\n      <td>14.34</td>\n    </tr>\n    <tr>\n      <th>1820</th>\n      <td>13.49</td>\n    </tr>\n    <tr>\n      <th>1821</th>\n      <td>14.31</td>\n    </tr>\n    <tr>\n      <th>1822</th>\n      <td>14.91</td>\n    </tr>\n    <tr>\n      <th>1823</th>\n      <td>13.74</td>\n    </tr>\n    <tr>\n      <th>1824</th>\n      <td>13.98</td>\n    </tr>\n    <tr>\n      <th>1825</th>\n      <td>14.17</td>\n    </tr>\n    <tr>\n      <th>1826</th>\n      <td>13.88</td>\n    </tr>\n    <tr>\n      <th>1827</th>\n      <td>13.48</td>\n    </tr>\n    <tr>\n      <th>1828</th>\n      <td>14.78</td>\n    </tr>\n    <tr>\n      <th>1829</th>\n      <td>13.22</td>\n    </tr>\n    <tr>\n      <th>1830</th>\n      <td>13.93</td>\n    </tr>\n    <tr>\n      <th>1831</th>\n      <td>14.88</td>\n    </tr>\n    <tr>\n      <th>1832</th>\n      <td>14.19</td>\n    </tr>\n    <tr>\n      <th>1833</th>\n      <td>13.92</td>\n    </tr>\n    <tr>\n      <th>1834</th>\n      <td>14.49</td>\n    </tr>\n    <tr>\n      <th>1835</th>\n      <td>13.45</td>\n    </tr>\n    <tr>\n      <th>1836</th>\n      <td>13.34</td>\n    </tr>\n    <tr>\n      <th>1837</th>\n      <td>13.50</td>\n    </tr>\n    <tr>\n      <th>1838</th>\n      <td>14.05</td>\n    </tr>\n    <tr>\n      <th>1839</th>\n      <td>13.87</td>\n    </tr>\n    <tr>\n      <th>1840</th>\n      <td>13.72</td>\n    </tr>\n    <tr>\n      <th>1841</th>\n      <td>13.92</td>\n    </tr>\n    <tr>\n      <th>1842</th>\n      <td>14.05</td>\n    </tr>\n    <tr>\n      <th>1843</th>\n      <td>13.53</td>\n    </tr>\n    <tr>\n      <th>1844</th>\n      <td>14.07</td>\n    </tr>\n    <tr>\n      <th>1845</th>\n      <td>13.96</td>\n    </tr>\n    <tr>\n      <th>1846</th>\n      <td>15.65</td>\n    </tr>\n    <tr>\n      <th>1847</th>\n      <td>14.98</td>\n    </tr>\n    <tr>\n      <th>...</th>\n      <td>...</td>\n    </tr>\n    <tr>\n      <th>1989</th>\n      <td>16.13</td>\n    </tr>\n    <tr>\n      <th>1990</th>\n      <td>15.80</td>\n    </tr>\n    <tr>\n      <th>1991</th>\n      <td>14.88</td>\n    </tr>\n    <tr>\n      <th>1992</th>\n      <td>15.03</td>\n    </tr>\n    <tr>\n      <th>1993</th>\n      <td>14.96</td>\n    </tr>\n    <tr>\n      <th>1994</th>\n      <td>16.04</td>\n    </tr>\n    <tr>\n      <th>1995</th>\n      <td>15.84</td>\n    </tr>\n    <tr>\n      <th>1996</th>\n      <td>14.98</td>\n    </tr>\n    <tr>\n      <th>1997</th>\n      <td>16.29</td>\n    </tr>\n    <tr>\n      <th>1998</th>\n      <td>15.62</td>\n    </tr>\n    <tr>\n      <th>1999</th>\n      <td>15.59</td>\n    </tr>\n    <tr>\n      <th>2000</th>\n      <td>15.91</td>\n    </tr>\n    <tr>\n      <th>2001</th>\n      <td>16.16</td>\n    </tr>\n    <tr>\n      <th>2002</th>\n      <td>15.78</td>\n    </tr>\n    <tr>\n      <th>2003</th>\n      <td>16.40</td>\n    </tr>\n    <tr>\n      <th>2004</th>\n      <td>15.75</td>\n    </tr>\n    <tr>\n      <th>2005</th>\n      <td>15.32</td>\n    </tr>\n    <tr>\n      <th>2006</th>\n      <td>16.56</td>\n    </tr>\n    <tr>\n      <th>2007</th>\n      <td>15.95</td>\n    </tr>\n    <tr>\n      <th>2008</th>\n      <td>15.43</td>\n    </tr>\n    <tr>\n      <th>2009</th>\n      <td>16.22</td>\n    </tr>\n    <tr>\n      <th>2010</th>\n      <td>15.05</td>\n    </tr>\n    <tr>\n      <th>2011</th>\n      <td>16.22</td>\n    </tr>\n    <tr>\n      <th>2012</th>\n      <td>16.08</td>\n    </tr>\n    <tr>\n      <th>2013</th>\n      <td>15.82</td>\n    </tr>\n    <tr>\n      <th>2014</th>\n      <td>16.27</td>\n    </tr>\n    <tr>\n      <th>2015</th>\n      <td>16.60</td>\n    </tr>\n    <tr>\n      <th>2016</th>\n      <td>16.47</td>\n    </tr>\n    <tr>\n      <th>2017</th>\n      <td>16.37</td>\n    </tr>\n    <tr>\n      <th>2018</th>\n      <td>16.28</td>\n    </tr>\n  </tbody>\n</table>\n<p>201 rows × 1 columns</p>\n</div>",
      "text/plain": "      Avg_temp\nYear          \n1818     14.07\n1819     14.34\n1820     13.49\n1821     14.31\n1822     14.91\n1823     13.74\n1824     13.98\n1825     14.17\n1826     13.88\n1827     13.48\n1828     14.78\n1829     13.22\n1830     13.93\n1831     14.88\n1832     14.19\n1833     13.92\n1834     14.49\n1835     13.45\n1836     13.34\n1837     13.50\n1838     14.05\n1839     13.87\n1840     13.72\n1841     13.92\n1842     14.05\n1843     13.53\n1844     14.07\n1845     13.96\n1846     15.65\n1847     14.98\n...        ...\n1989     16.13\n1990     15.80\n1991     14.88\n1992     15.03\n1993     14.96\n1994     16.04\n1995     15.84\n1996     14.98\n1997     16.29\n1998     15.62\n1999     15.59\n2000     15.91\n2001     16.16\n2002     15.78\n2003     16.40\n2004     15.75\n2005     15.32\n2006     16.56\n2007     15.95\n2008     15.43\n2009     16.22\n2010     15.05\n2011     16.22\n2012     16.08\n2013     15.82\n2014     16.27\n2015     16.60\n2016     16.47\n2017     16.37\n2018     16.28\n\n[201 rows x 1 columns]"
     },
     "execution_count": 267,
     "metadata": {},
     "output_type": "execute_result"
    }
   ],
   "source": [
    "#It is important for us to use Years as the main index for easy manipulation\n",
    "df_years = df.set_index('Any')\n",
    "\n",
    "#In order to find the average temperature of each year, we create two lists and we iterate between the years 1818-2018\n",
    "\n",
    "years = range(1818,2019)\n",
    "ymean = []\n",
    "yyear = []\n",
    "for r in years:\n",
    "    t = round(df_years.loc[r].mean(),2)\n",
    "    ymean.append(t)\n",
    "    yyear.append(r)\n",
    "\n",
    "#We already have two lists, ymean has the average temperatures and yyear has the years. We create a dictionary with the description and the values. And we convert it to a Dataframe\n",
    "ydict = {'Year': yyear, 'Avg_temp': ymean}\n",
    "ymean_df = pd.DataFrame.from_dict(ydict)\n",
    "ymean_df = ymean_df.set_index('Year')\n",
    "\n",
    "#### FINDING MAX YEARLY AVG AND MIN\n",
    "ymean_sort = ymean_df.sort_values('Avg_temp', ascending= False)\n",
    "\n",
    "#### Average of the 200 years\n",
    "ymean_mean = ymean_df.mean()\n",
    "\n",
    "\n",
    "## Difference between hottest and coldest in years and temperature\n",
    "maxdif = ymean_df.iloc[197] - ymean_df.iloc[69]\n",
    "\n",
    "####### GLOSSARY OF VARIABLES\n",
    "## [[df_years]] = The original chart making years as the main index\n",
    "# df_years\n",
    "## [[ymean_df]] = Chart with years and their yearly average. Sorted by years\n",
    "ymean_df\n",
    "## [[ymean_mean]] = The average temperature for the 200 years analized, 14,65ºC\n",
    "# ymean_mean\n",
    "## [[ymean_sort]] = is a chart with the 200 years and their temperature sorted from hottest to coldest.\n",
    "# ymean_sort\n",
    "## [[maxdif]] = The difference in temperature and years from the hottest to the coolest.\n",
    "# maxdif"
   ]
  },
  {
   "cell_type": "code",
   "execution_count": 205,
   "metadata": {},
   "outputs": [],
   "source": [
    "#PROJECT QUESTION: Is Climate Change happenning in Barcelona?\n",
    "# -- We considered climate change is happening if there is an increase of temperature above of 1,5ºC during the XXI century (100 years).\n",
    "## https://www.bbc.com/news/science-environment-45678338\n",
    "## https://www.ipcc.ch/sr15/chapter/glossary/\n",
    "\n",
    "#Q1: Has the temperature increased in Barcelona in the last 200 years?\n",
    "# Temperature difference between averages from 2018 and 1993\n",
    "#### ymean_df.iloc[200] - ymean_df.iloc[175]\n",
    "#Output: +1,32ºC\n",
    "# Temperature difference between averages from 2018 and 1968\n",
    "#### ymean_df.iloc[200] - ymean_df.iloc[150]\n",
    "#Output: +1,41ºC\n",
    "# Temperature difference between averages from 2018 and 1918\n",
    "#### ymean_df.iloc[200] - ymean_df.iloc[100]\n",
    "# Output: 2.05ºC\n",
    "# Temperature difference between averages from 2018 and 1818\n",
    "####ymean_df.iloc[200] - ymean_df.iloc[0]\n",
    "#Output: +2,21ºC\n",
    "\n",
    "hundyr = range(100)\n",
    "hungap = []\n",
    "hunyr = []\n",
    "for h in hundyr:\n",
    "    raw = str(ymean_df.iloc[100+h] - ymean_df.iloc[h])\n",
    "    r = re.findall('.?[0-9].[0-9]+',raw)\n",
    "    yr = 2019\n",
    "    hunyr.append(f'{yr-h}-{yr-100-h}')\n",
    "    hungap.append(r)\n",
    "\n",
    "gapdict = {'Period': hunyr, 'Avtempdif': hungap}\n",
    "gap_df = pd.DataFrame.from_dict(gapdict)\n",
    "gap_df"
   ]
  },
  {
   "cell_type": "code",
   "execution_count": 204,
   "metadata": {},
   "outputs": [],
   "source": [
    "# Pregunta 2: Hi ha x resultat en comparació de mitjanes, és l'augment proporcional o s'està augmentant més ràpid que abans?\n",
    "## Compare the average incresases between the ranges above.\n",
    "### TO-DO Measure year-to-date differences (1,5,10,50,200)"
   ]
  },
  {
   "cell_type": "code",
   "execution_count": null,
   "metadata": {},
   "outputs": [],
   "source": [
    "# Pregunta 2: Hi ha x resultat en comparació de mitjanes, és l'augment proporcional o s'està augmentant més ràpid que abans?\n",
    "## Compare the average incresases between the ranges above.\n",
    "### TO-DO Measure year-to-date differences (1,5,10,50,200)"
   ]
  },
  {
   "cell_type": "code",
   "execution_count": 38,
   "metadata": {},
   "outputs": [
    {
     "data": {
      "text/html": "<div>\n<style scoped>\n    .dataframe tbody tr th:only-of-type {\n        vertical-align: middle;\n    }\n\n    .dataframe tbody tr th {\n        vertical-align: top;\n    }\n\n    .dataframe thead th {\n        text-align: right;\n    }\n</style>\n<table border=\"1\" class=\"dataframe\">\n  <thead>\n    <tr style=\"text-align: right;\">\n      <th></th>\n      <th>T1Avg</th>\n      <th>T2Avg</th>\n      <th>T3Avg</th>\n      <th>T4Avg</th>\n    </tr>\n    <tr>\n      <th>Any</th>\n      <th></th>\n      <th></th>\n      <th></th>\n      <th></th>\n    </tr>\n  </thead>\n  <tbody>\n    <tr>\n      <th>1780</th>\n      <td>8.53</td>\n      <td>15.60</td>\n      <td>21.23</td>\n      <td>10.93</td>\n    </tr>\n    <tr>\n      <th>1781</th>\n      <td>9.10</td>\n      <td>16.17</td>\n      <td>21.23</td>\n      <td>12.37</td>\n    </tr>\n    <tr>\n      <th>1782</th>\n      <td>8.03</td>\n      <td>15.33</td>\n      <td>21.60</td>\n      <td>9.57</td>\n    </tr>\n    <tr>\n      <th>1783</th>\n      <td>8.83</td>\n      <td>15.50</td>\n      <td>20.97</td>\n      <td>12.30</td>\n    </tr>\n    <tr>\n      <th>1784</th>\n      <td>8.40</td>\n      <td>16.03</td>\n      <td>20.83</td>\n      <td>9.20</td>\n    </tr>\n    <tr>\n      <th>1785</th>\n      <td>7.77</td>\n      <td>15.77</td>\n      <td>21.43</td>\n      <td>11.67</td>\n    </tr>\n    <tr>\n      <th>1786</th>\n      <td>8.67</td>\n      <td>16.60</td>\n      <td>20.50</td>\n      <td>11.00</td>\n    </tr>\n    <tr>\n      <th>1787</th>\n      <td>8.17</td>\n      <td>15.33</td>\n      <td>20.73</td>\n      <td>11.87</td>\n    </tr>\n    <tr>\n      <th>1788</th>\n      <td>8.97</td>\n      <td>16.27</td>\n      <td>21.40</td>\n      <td>10.47</td>\n    </tr>\n    <tr>\n      <th>1789</th>\n      <td>8.30</td>\n      <td>16.50</td>\n      <td>20.93</td>\n      <td>9.93</td>\n    </tr>\n    <tr>\n      <th>1790</th>\n      <td>9.10</td>\n      <td>15.43</td>\n      <td>21.07</td>\n      <td>12.23</td>\n    </tr>\n    <tr>\n      <th>1791</th>\n      <td>9.17</td>\n      <td>15.60</td>\n      <td>21.83</td>\n      <td>11.17</td>\n    </tr>\n    <tr>\n      <th>1792</th>\n      <td>9.67</td>\n      <td>16.57</td>\n      <td>20.80</td>\n      <td>11.53</td>\n    </tr>\n    <tr>\n      <th>1793</th>\n      <td>8.37</td>\n      <td>14.77</td>\n      <td>21.83</td>\n      <td>12.20</td>\n    </tr>\n    <tr>\n      <th>1794</th>\n      <td>9.30</td>\n      <td>16.27</td>\n      <td>21.83</td>\n      <td>11.27</td>\n    </tr>\n    <tr>\n      <th>1795</th>\n      <td>8.10</td>\n      <td>16.13</td>\n      <td>20.67</td>\n      <td>12.13</td>\n    </tr>\n    <tr>\n      <th>1796</th>\n      <td>7.87</td>\n      <td>15.67</td>\n      <td>20.70</td>\n      <td>10.77</td>\n    </tr>\n    <tr>\n      <th>1797</th>\n      <td>7.93</td>\n      <td>15.20</td>\n      <td>21.63</td>\n      <td>11.40</td>\n    </tr>\n    <tr>\n      <th>1798</th>\n      <td>8.53</td>\n      <td>16.40</td>\n      <td>22.40</td>\n      <td>12.97</td>\n    </tr>\n    <tr>\n      <th>1799</th>\n      <td>9.93</td>\n      <td>15.53</td>\n      <td>21.20</td>\n      <td>11.33</td>\n    </tr>\n    <tr>\n      <th>1800</th>\n      <td>8.50</td>\n      <td>15.87</td>\n      <td>21.43</td>\n      <td>10.93</td>\n    </tr>\n    <tr>\n      <th>1801</th>\n      <td>8.53</td>\n      <td>15.57</td>\n      <td>20.73</td>\n      <td>11.17</td>\n    </tr>\n    <tr>\n      <th>1802</th>\n      <td>6.57</td>\n      <td>16.03</td>\n      <td>22.03</td>\n      <td>11.63</td>\n    </tr>\n    <tr>\n      <th>1803</th>\n      <td>6.67</td>\n      <td>15.80</td>\n      <td>21.50</td>\n      <td>11.43</td>\n    </tr>\n    <tr>\n      <th>1804</th>\n      <td>8.43</td>\n      <td>16.73</td>\n      <td>21.00</td>\n      <td>12.20</td>\n    </tr>\n    <tr>\n      <th>1805</th>\n      <td>8.23</td>\n      <td>14.87</td>\n      <td>20.80</td>\n      <td>10.70</td>\n    </tr>\n    <tr>\n      <th>1806</th>\n      <td>8.33</td>\n      <td>15.13</td>\n      <td>20.33</td>\n      <td>12.03</td>\n    </tr>\n    <tr>\n      <th>1807</th>\n      <td>7.00</td>\n      <td>15.47</td>\n      <td>21.97</td>\n      <td>11.17</td>\n    </tr>\n    <tr>\n      <th>1808</th>\n      <td>6.47</td>\n      <td>15.03</td>\n      <td>21.23</td>\n      <td>9.73</td>\n    </tr>\n    <tr>\n      <th>1809</th>\n      <td>9.37</td>\n      <td>14.10</td>\n      <td>19.43</td>\n      <td>9.73</td>\n    </tr>\n    <tr>\n      <th>...</th>\n      <td>...</td>\n      <td>...</td>\n      <td>...</td>\n      <td>...</td>\n    </tr>\n    <tr>\n      <th>1989</th>\n      <td>10.57</td>\n      <td>16.97</td>\n      <td>23.13</td>\n      <td>13.87</td>\n    </tr>\n    <tr>\n      <th>1990</th>\n      <td>11.37</td>\n      <td>16.83</td>\n      <td>23.43</td>\n      <td>11.57</td>\n    </tr>\n    <tr>\n      <th>1991</th>\n      <td>9.30</td>\n      <td>15.07</td>\n      <td>23.63</td>\n      <td>11.50</td>\n    </tr>\n    <tr>\n      <th>1992</th>\n      <td>9.00</td>\n      <td>16.33</td>\n      <td>22.43</td>\n      <td>12.33</td>\n    </tr>\n    <tr>\n      <th>1993</th>\n      <td>9.13</td>\n      <td>17.10</td>\n      <td>22.17</td>\n      <td>11.43</td>\n    </tr>\n    <tr>\n      <th>1994</th>\n      <td>10.33</td>\n      <td>16.80</td>\n      <td>23.77</td>\n      <td>13.27</td>\n    </tr>\n    <tr>\n      <th>1995</th>\n      <td>10.33</td>\n      <td>16.93</td>\n      <td>22.33</td>\n      <td>13.77</td>\n    </tr>\n    <tr>\n      <th>1996</th>\n      <td>9.27</td>\n      <td>16.87</td>\n      <td>21.47</td>\n      <td>12.30</td>\n    </tr>\n    <tr>\n      <th>1997</th>\n      <td>11.33</td>\n      <td>17.30</td>\n      <td>22.93</td>\n      <td>13.60</td>\n    </tr>\n    <tr>\n      <th>1998</th>\n      <td>10.67</td>\n      <td>17.10</td>\n      <td>22.90</td>\n      <td>11.80</td>\n    </tr>\n    <tr>\n      <th>1999</th>\n      <td>9.67</td>\n      <td>17.60</td>\n      <td>23.23</td>\n      <td>11.87</td>\n    </tr>\n    <tr>\n      <th>2000</th>\n      <td>10.57</td>\n      <td>17.53</td>\n      <td>22.77</td>\n      <td>12.77</td>\n    </tr>\n    <tr>\n      <th>2001</th>\n      <td>11.60</td>\n      <td>17.97</td>\n      <td>22.77</td>\n      <td>12.30</td>\n    </tr>\n    <tr>\n      <th>2002</th>\n      <td>10.87</td>\n      <td>17.17</td>\n      <td>21.47</td>\n      <td>13.60</td>\n    </tr>\n    <tr>\n      <th>2003</th>\n      <td>9.03</td>\n      <td>19.20</td>\n      <td>25.13</td>\n      <td>12.23</td>\n    </tr>\n    <tr>\n      <th>2004</th>\n      <td>9.33</td>\n      <td>17.13</td>\n      <td>23.33</td>\n      <td>13.20</td>\n    </tr>\n    <tr>\n      <th>2005</th>\n      <td>7.97</td>\n      <td>18.73</td>\n      <td>22.70</td>\n      <td>11.87</td>\n    </tr>\n    <tr>\n      <th>2006</th>\n      <td>9.30</td>\n      <td>18.63</td>\n      <td>23.83</td>\n      <td>14.47</td>\n    </tr>\n    <tr>\n      <th>2007</th>\n      <td>11.13</td>\n      <td>18.30</td>\n      <td>22.23</td>\n      <td>12.13</td>\n    </tr>\n    <tr>\n      <th>2008</th>\n      <td>10.37</td>\n      <td>17.00</td>\n      <td>22.93</td>\n      <td>11.43</td>\n    </tr>\n    <tr>\n      <th>2009</th>\n      <td>9.03</td>\n      <td>18.30</td>\n      <td>24.07</td>\n      <td>13.47</td>\n    </tr>\n    <tr>\n      <th>2010</th>\n      <td>8.07</td>\n      <td>16.60</td>\n      <td>23.63</td>\n      <td>11.90</td>\n    </tr>\n    <tr>\n      <th>2011</th>\n      <td>9.77</td>\n      <td>17.90</td>\n      <td>22.73</td>\n      <td>14.47</td>\n    </tr>\n    <tr>\n      <th>2012</th>\n      <td>9.87</td>\n      <td>17.60</td>\n      <td>23.53</td>\n      <td>13.30</td>\n    </tr>\n    <tr>\n      <th>2013</th>\n      <td>9.33</td>\n      <td>15.87</td>\n      <td>24.17</td>\n      <td>13.93</td>\n    </tr>\n    <tr>\n      <th>2014</th>\n      <td>10.73</td>\n      <td>17.73</td>\n      <td>22.53</td>\n      <td>14.10</td>\n    </tr>\n    <tr>\n      <th>2015</th>\n      <td>9.77</td>\n      <td>19.03</td>\n      <td>23.07</td>\n      <td>14.53</td>\n    </tr>\n    <tr>\n      <th>2016</th>\n      <td>11.03</td>\n      <td>17.20</td>\n      <td>23.90</td>\n      <td>13.77</td>\n    </tr>\n    <tr>\n      <th>2017</th>\n      <td>10.87</td>\n      <td>18.70</td>\n      <td>22.73</td>\n      <td>13.20</td>\n    </tr>\n    <tr>\n      <th>2018</th>\n      <td>9.33</td>\n      <td>17.77</td>\n      <td>24.53</td>\n      <td>13.50</td>\n    </tr>\n  </tbody>\n</table>\n<p>239 rows × 4 columns</p>\n</div>",
      "text/plain": "      T1Avg  T2Avg  T3Avg  T4Avg\nAny                             \n1780   8.53  15.60  21.23  10.93\n1781   9.10  16.17  21.23  12.37\n1782   8.03  15.33  21.60   9.57\n1783   8.83  15.50  20.97  12.30\n1784   8.40  16.03  20.83   9.20\n1785   7.77  15.77  21.43  11.67\n1786   8.67  16.60  20.50  11.00\n1787   8.17  15.33  20.73  11.87\n1788   8.97  16.27  21.40  10.47\n1789   8.30  16.50  20.93   9.93\n1790   9.10  15.43  21.07  12.23\n1791   9.17  15.60  21.83  11.17\n1792   9.67  16.57  20.80  11.53\n1793   8.37  14.77  21.83  12.20\n1794   9.30  16.27  21.83  11.27\n1795   8.10  16.13  20.67  12.13\n1796   7.87  15.67  20.70  10.77\n1797   7.93  15.20  21.63  11.40\n1798   8.53  16.40  22.40  12.97\n1799   9.93  15.53  21.20  11.33\n1800   8.50  15.87  21.43  10.93\n1801   8.53  15.57  20.73  11.17\n1802   6.57  16.03  22.03  11.63\n1803   6.67  15.80  21.50  11.43\n1804   8.43  16.73  21.00  12.20\n1805   8.23  14.87  20.80  10.70\n1806   8.33  15.13  20.33  12.03\n1807   7.00  15.47  21.97  11.17\n1808   6.47  15.03  21.23   9.73\n1809   9.37  14.10  19.43   9.73\n...     ...    ...    ...    ...\n1989  10.57  16.97  23.13  13.87\n1990  11.37  16.83  23.43  11.57\n1991   9.30  15.07  23.63  11.50\n1992   9.00  16.33  22.43  12.33\n1993   9.13  17.10  22.17  11.43\n1994  10.33  16.80  23.77  13.27\n1995  10.33  16.93  22.33  13.77\n1996   9.27  16.87  21.47  12.30\n1997  11.33  17.30  22.93  13.60\n1998  10.67  17.10  22.90  11.80\n1999   9.67  17.60  23.23  11.87\n2000  10.57  17.53  22.77  12.77\n2001  11.60  17.97  22.77  12.30\n2002  10.87  17.17  21.47  13.60\n2003   9.03  19.20  25.13  12.23\n2004   9.33  17.13  23.33  13.20\n2005   7.97  18.73  22.70  11.87\n2006   9.30  18.63  23.83  14.47\n2007  11.13  18.30  22.23  12.13\n2008  10.37  17.00  22.93  11.43\n2009   9.03  18.30  24.07  13.47\n2010   8.07  16.60  23.63  11.90\n2011   9.77  17.90  22.73  14.47\n2012   9.87  17.60  23.53  13.30\n2013   9.33  15.87  24.17  13.93\n2014  10.73  17.73  22.53  14.10\n2015   9.77  19.03  23.07  14.53\n2016  11.03  17.20  23.90  13.77\n2017  10.87  18.70  22.73  13.20\n2018   9.33  17.77  24.53  13.50\n\n[239 rows x 4 columns]"
     },
     "execution_count": 38,
     "metadata": {},
     "output_type": "execute_result"
    }
   ],
   "source": [
    "dff = pd.read_csv('temperaturesbarcelonadesde1780.csv')\n",
    "columns = ['Any', 1,2,3,4,5,6,7,8,9,10,11,12]\n",
    "dff.columns = columns\n",
    "\n",
    "t0 = dff[['Any']]\n",
    "t1 = dff[['Any', 1,2,3]]\n",
    "t2 = dff[['Any', 4,5,6]]\n",
    "t3 = dff[['Any', 7,8,9]]\n",
    "t4 = dff[['Any', 10,11,12]]\n",
    "\n",
    "t0 = t0.set_index('Any')\n",
    "t1 = t1.set_index('Any')\n",
    "t2 = t2.set_index('Any')\n",
    "t3 = t3.set_index('Any')\n",
    "t4 = t4.set_index('Any')\n",
    "\n",
    "years = range(0,239)\n",
    "t1mean = []\n",
    "t2mean = []\n",
    "t3mean = []\n",
    "t4mean = []\n",
    "\n",
    "for r in years:\n",
    "   t = round(t1.iloc[r].mean(),2)\n",
    "   t22 = round(t2.iloc[r].mean(),2)\n",
    "   t33 = round(t3.iloc[r].mean(),2)\n",
    "   t44 = round(t4.iloc[r].mean(),2)\n",
    "   t1mean.append(t)\n",
    "   t2mean.append(t22)\n",
    "   t3mean.append(t33)\n",
    "   t4mean.append(t44)\n",
    "\n",
    "t0.insert(0, 'T1Avg', t1mean, True)\n",
    "t0.insert(1, 'T2Avg', t2mean, True)\n",
    "t0.insert(2, 'T3Avg', t3mean, True)\n",
    "t0.insert(3, 'T4Avg', t4mean, True)\n",
    "t0\n",
    "\n"
   ]
  },
  {
   "cell_type": "code",
   "execution_count": 370,
   "metadata": {},
   "outputs": [
    {
     "data": {
      "text/html": "<div>\n<style scoped>\n    .dataframe tbody tr th:only-of-type {\n        vertical-align: middle;\n    }\n\n    .dataframe tbody tr th {\n        vertical-align: top;\n    }\n\n    .dataframe thead th {\n        text-align: right;\n    }\n</style>\n<table border=\"1\" class=\"dataframe\">\n  <thead>\n    <tr style=\"text-align: right;\">\n      <th></th>\n      <th>T1Avg</th>\n      <th>T2Avg</th>\n      <th>T3Avg</th>\n      <th>T4Avg</th>\n    </tr>\n    <tr>\n      <th>Any</th>\n      <th></th>\n      <th></th>\n      <th></th>\n      <th></th>\n    </tr>\n  </thead>\n  <tbody>\n    <tr>\n      <th>1780</th>\n      <td>8.53</td>\n      <td>15.60</td>\n      <td>21.23</td>\n      <td>10.93</td>\n    </tr>\n    <tr>\n      <th>1781</th>\n      <td>9.10</td>\n      <td>16.17</td>\n      <td>21.23</td>\n      <td>12.37</td>\n    </tr>\n    <tr>\n      <th>1782</th>\n      <td>8.03</td>\n      <td>15.33</td>\n      <td>21.60</td>\n      <td>9.57</td>\n    </tr>\n    <tr>\n      <th>1783</th>\n      <td>8.83</td>\n      <td>15.50</td>\n      <td>20.97</td>\n      <td>12.30</td>\n    </tr>\n    <tr>\n      <th>1784</th>\n      <td>8.40</td>\n      <td>16.03</td>\n      <td>20.83</td>\n      <td>9.20</td>\n    </tr>\n    <tr>\n      <th>1785</th>\n      <td>7.77</td>\n      <td>15.77</td>\n      <td>21.43</td>\n      <td>11.67</td>\n    </tr>\n    <tr>\n      <th>1786</th>\n      <td>8.67</td>\n      <td>16.60</td>\n      <td>20.50</td>\n      <td>11.00</td>\n    </tr>\n    <tr>\n      <th>1787</th>\n      <td>8.17</td>\n      <td>15.33</td>\n      <td>20.73</td>\n      <td>11.87</td>\n    </tr>\n    <tr>\n      <th>1788</th>\n      <td>8.97</td>\n      <td>16.27</td>\n      <td>21.40</td>\n      <td>10.47</td>\n    </tr>\n    <tr>\n      <th>1789</th>\n      <td>8.30</td>\n      <td>16.50</td>\n      <td>20.93</td>\n      <td>9.93</td>\n    </tr>\n    <tr>\n      <th>1790</th>\n      <td>9.10</td>\n      <td>15.43</td>\n      <td>21.07</td>\n      <td>12.23</td>\n    </tr>\n    <tr>\n      <th>1791</th>\n      <td>9.17</td>\n      <td>15.60</td>\n      <td>21.83</td>\n      <td>11.17</td>\n    </tr>\n    <tr>\n      <th>1792</th>\n      <td>9.67</td>\n      <td>16.57</td>\n      <td>20.80</td>\n      <td>11.53</td>\n    </tr>\n    <tr>\n      <th>1793</th>\n      <td>8.37</td>\n      <td>14.77</td>\n      <td>21.83</td>\n      <td>12.20</td>\n    </tr>\n    <tr>\n      <th>1794</th>\n      <td>9.30</td>\n      <td>16.27</td>\n      <td>21.83</td>\n      <td>11.27</td>\n    </tr>\n    <tr>\n      <th>1795</th>\n      <td>8.10</td>\n      <td>16.13</td>\n      <td>20.67</td>\n      <td>12.13</td>\n    </tr>\n    <tr>\n      <th>1796</th>\n      <td>7.87</td>\n      <td>15.67</td>\n      <td>20.70</td>\n      <td>10.77</td>\n    </tr>\n    <tr>\n      <th>1797</th>\n      <td>7.93</td>\n      <td>15.20</td>\n      <td>21.63</td>\n      <td>11.40</td>\n    </tr>\n    <tr>\n      <th>1798</th>\n      <td>8.53</td>\n      <td>16.40</td>\n      <td>22.40</td>\n      <td>12.97</td>\n    </tr>\n    <tr>\n      <th>1799</th>\n      <td>9.93</td>\n      <td>15.53</td>\n      <td>21.20</td>\n      <td>11.33</td>\n    </tr>\n    <tr>\n      <th>1800</th>\n      <td>8.50</td>\n      <td>15.87</td>\n      <td>21.43</td>\n      <td>10.93</td>\n    </tr>\n    <tr>\n      <th>1801</th>\n      <td>8.53</td>\n      <td>15.57</td>\n      <td>20.73</td>\n      <td>11.17</td>\n    </tr>\n    <tr>\n      <th>1802</th>\n      <td>6.57</td>\n      <td>16.03</td>\n      <td>22.03</td>\n      <td>11.63</td>\n    </tr>\n    <tr>\n      <th>1803</th>\n      <td>6.67</td>\n      <td>15.80</td>\n      <td>21.50</td>\n      <td>11.43</td>\n    </tr>\n    <tr>\n      <th>1804</th>\n      <td>8.43</td>\n      <td>16.73</td>\n      <td>21.00</td>\n      <td>12.20</td>\n    </tr>\n    <tr>\n      <th>1805</th>\n      <td>8.23</td>\n      <td>14.87</td>\n      <td>20.80</td>\n      <td>10.70</td>\n    </tr>\n    <tr>\n      <th>1806</th>\n      <td>8.33</td>\n      <td>15.13</td>\n      <td>20.33</td>\n      <td>12.03</td>\n    </tr>\n    <tr>\n      <th>1807</th>\n      <td>7.00</td>\n      <td>15.47</td>\n      <td>21.97</td>\n      <td>11.17</td>\n    </tr>\n    <tr>\n      <th>1808</th>\n      <td>6.47</td>\n      <td>15.03</td>\n      <td>21.23</td>\n      <td>9.73</td>\n    </tr>\n    <tr>\n      <th>1809</th>\n      <td>9.37</td>\n      <td>14.10</td>\n      <td>19.43</td>\n      <td>9.73</td>\n    </tr>\n    <tr>\n      <th>...</th>\n      <td>...</td>\n      <td>...</td>\n      <td>...</td>\n      <td>...</td>\n    </tr>\n    <tr>\n      <th>1989</th>\n      <td>10.57</td>\n      <td>16.97</td>\n      <td>23.13</td>\n      <td>13.87</td>\n    </tr>\n    <tr>\n      <th>1990</th>\n      <td>11.37</td>\n      <td>16.83</td>\n      <td>23.43</td>\n      <td>11.57</td>\n    </tr>\n    <tr>\n      <th>1991</th>\n      <td>9.30</td>\n      <td>15.07</td>\n      <td>23.63</td>\n      <td>11.50</td>\n    </tr>\n    <tr>\n      <th>1992</th>\n      <td>9.00</td>\n      <td>16.33</td>\n      <td>22.43</td>\n      <td>12.33</td>\n    </tr>\n    <tr>\n      <th>1993</th>\n      <td>9.13</td>\n      <td>17.10</td>\n      <td>22.17</td>\n      <td>11.43</td>\n    </tr>\n    <tr>\n      <th>1994</th>\n      <td>10.33</td>\n      <td>16.80</td>\n      <td>23.77</td>\n      <td>13.27</td>\n    </tr>\n    <tr>\n      <th>1995</th>\n      <td>10.33</td>\n      <td>16.93</td>\n      <td>22.33</td>\n      <td>13.77</td>\n    </tr>\n    <tr>\n      <th>1996</th>\n      <td>9.27</td>\n      <td>16.87</td>\n      <td>21.47</td>\n      <td>12.30</td>\n    </tr>\n    <tr>\n      <th>1997</th>\n      <td>11.33</td>\n      <td>17.30</td>\n      <td>22.93</td>\n      <td>13.60</td>\n    </tr>\n    <tr>\n      <th>1998</th>\n      <td>10.67</td>\n      <td>17.10</td>\n      <td>22.90</td>\n      <td>11.80</td>\n    </tr>\n    <tr>\n      <th>1999</th>\n      <td>9.67</td>\n      <td>17.60</td>\n      <td>23.23</td>\n      <td>11.87</td>\n    </tr>\n    <tr>\n      <th>2000</th>\n      <td>10.57</td>\n      <td>17.53</td>\n      <td>22.77</td>\n      <td>12.77</td>\n    </tr>\n    <tr>\n      <th>2001</th>\n      <td>11.60</td>\n      <td>17.97</td>\n      <td>22.77</td>\n      <td>12.30</td>\n    </tr>\n    <tr>\n      <th>2002</th>\n      <td>10.87</td>\n      <td>17.17</td>\n      <td>21.47</td>\n      <td>13.60</td>\n    </tr>\n    <tr>\n      <th>2003</th>\n      <td>9.03</td>\n      <td>19.20</td>\n      <td>25.13</td>\n      <td>12.23</td>\n    </tr>\n    <tr>\n      <th>2004</th>\n      <td>9.33</td>\n      <td>17.13</td>\n      <td>23.33</td>\n      <td>13.20</td>\n    </tr>\n    <tr>\n      <th>2005</th>\n      <td>7.97</td>\n      <td>18.73</td>\n      <td>22.70</td>\n      <td>11.87</td>\n    </tr>\n    <tr>\n      <th>2006</th>\n      <td>9.30</td>\n      <td>18.63</td>\n      <td>23.83</td>\n      <td>14.47</td>\n    </tr>\n    <tr>\n      <th>2007</th>\n      <td>11.13</td>\n      <td>18.30</td>\n      <td>22.23</td>\n      <td>12.13</td>\n    </tr>\n    <tr>\n      <th>2008</th>\n      <td>10.37</td>\n      <td>17.00</td>\n      <td>22.93</td>\n      <td>11.43</td>\n    </tr>\n    <tr>\n      <th>2009</th>\n      <td>9.03</td>\n      <td>18.30</td>\n      <td>24.07</td>\n      <td>13.47</td>\n    </tr>\n    <tr>\n      <th>2010</th>\n      <td>8.07</td>\n      <td>16.60</td>\n      <td>23.63</td>\n      <td>11.90</td>\n    </tr>\n    <tr>\n      <th>2011</th>\n      <td>9.77</td>\n      <td>17.90</td>\n      <td>22.73</td>\n      <td>14.47</td>\n    </tr>\n    <tr>\n      <th>2012</th>\n      <td>9.87</td>\n      <td>17.60</td>\n      <td>23.53</td>\n      <td>13.30</td>\n    </tr>\n    <tr>\n      <th>2013</th>\n      <td>9.33</td>\n      <td>15.87</td>\n      <td>24.17</td>\n      <td>13.93</td>\n    </tr>\n    <tr>\n      <th>2014</th>\n      <td>10.73</td>\n      <td>17.73</td>\n      <td>22.53</td>\n      <td>14.10</td>\n    </tr>\n    <tr>\n      <th>2015</th>\n      <td>9.77</td>\n      <td>19.03</td>\n      <td>23.07</td>\n      <td>14.53</td>\n    </tr>\n    <tr>\n      <th>2016</th>\n      <td>11.03</td>\n      <td>17.20</td>\n      <td>23.90</td>\n      <td>13.77</td>\n    </tr>\n    <tr>\n      <th>2017</th>\n      <td>10.87</td>\n      <td>18.70</td>\n      <td>22.73</td>\n      <td>13.20</td>\n    </tr>\n    <tr>\n      <th>2018</th>\n      <td>9.33</td>\n      <td>17.77</td>\n      <td>24.53</td>\n      <td>13.50</td>\n    </tr>\n  </tbody>\n</table>\n<p>239 rows × 4 columns</p>\n</div>",
      "text/plain": "      T1Avg  T2Avg  T3Avg  T4Avg\nAny                             \n1780   8.53  15.60  21.23  10.93\n1781   9.10  16.17  21.23  12.37\n1782   8.03  15.33  21.60   9.57\n1783   8.83  15.50  20.97  12.30\n1784   8.40  16.03  20.83   9.20\n1785   7.77  15.77  21.43  11.67\n1786   8.67  16.60  20.50  11.00\n1787   8.17  15.33  20.73  11.87\n1788   8.97  16.27  21.40  10.47\n1789   8.30  16.50  20.93   9.93\n1790   9.10  15.43  21.07  12.23\n1791   9.17  15.60  21.83  11.17\n1792   9.67  16.57  20.80  11.53\n1793   8.37  14.77  21.83  12.20\n1794   9.30  16.27  21.83  11.27\n1795   8.10  16.13  20.67  12.13\n1796   7.87  15.67  20.70  10.77\n1797   7.93  15.20  21.63  11.40\n1798   8.53  16.40  22.40  12.97\n1799   9.93  15.53  21.20  11.33\n1800   8.50  15.87  21.43  10.93\n1801   8.53  15.57  20.73  11.17\n1802   6.57  16.03  22.03  11.63\n1803   6.67  15.80  21.50  11.43\n1804   8.43  16.73  21.00  12.20\n1805   8.23  14.87  20.80  10.70\n1806   8.33  15.13  20.33  12.03\n1807   7.00  15.47  21.97  11.17\n1808   6.47  15.03  21.23   9.73\n1809   9.37  14.10  19.43   9.73\n...     ...    ...    ...    ...\n1989  10.57  16.97  23.13  13.87\n1990  11.37  16.83  23.43  11.57\n1991   9.30  15.07  23.63  11.50\n1992   9.00  16.33  22.43  12.33\n1993   9.13  17.10  22.17  11.43\n1994  10.33  16.80  23.77  13.27\n1995  10.33  16.93  22.33  13.77\n1996   9.27  16.87  21.47  12.30\n1997  11.33  17.30  22.93  13.60\n1998  10.67  17.10  22.90  11.80\n1999   9.67  17.60  23.23  11.87\n2000  10.57  17.53  22.77  12.77\n2001  11.60  17.97  22.77  12.30\n2002  10.87  17.17  21.47  13.60\n2003   9.03  19.20  25.13  12.23\n2004   9.33  17.13  23.33  13.20\n2005   7.97  18.73  22.70  11.87\n2006   9.30  18.63  23.83  14.47\n2007  11.13  18.30  22.23  12.13\n2008  10.37  17.00  22.93  11.43\n2009   9.03  18.30  24.07  13.47\n2010   8.07  16.60  23.63  11.90\n2011   9.77  17.90  22.73  14.47\n2012   9.87  17.60  23.53  13.30\n2013   9.33  15.87  24.17  13.93\n2014  10.73  17.73  22.53  14.10\n2015   9.77  19.03  23.07  14.53\n2016  11.03  17.20  23.90  13.77\n2017  10.87  18.70  22.73  13.20\n2018   9.33  17.77  24.53  13.50\n\n[239 rows x 4 columns]"
     },
     "execution_count": 370,
     "metadata": {},
     "output_type": "execute_result"
    }
   ],
   "source": []
  },
  {
   "cell_type": "code",
   "execution_count": null,
   "metadata": {},
   "outputs": [],
   "source": []
  },
  {
   "cell_type": "code",
   "execution_count": 8,
   "metadata": {},
   "outputs": [
    {
     "data": {
      "text/html": "<div>\n<style scoped>\n    .dataframe tbody tr th:only-of-type {\n        vertical-align: middle;\n    }\n\n    .dataframe tbody tr th {\n        vertical-align: top;\n    }\n\n    .dataframe thead th {\n        text-align: right;\n    }\n</style>\n<table border=\"1\" class=\"dataframe\">\n  <thead>\n    <tr style=\"text-align: right;\">\n      <th></th>\n      <th>Any</th>\n      <th>Temp_Mitjana_Gener</th>\n      <th>Temp_Mitjana_Febrer</th>\n      <th>Temp_Mitjana_Marc</th>\n    </tr>\n  </thead>\n  <tbody>\n    <tr>\n      <th>0</th>\n      <td>1780</td>\n      <td>6.7</td>\n      <td>7.3</td>\n      <td>11.6</td>\n    </tr>\n    <tr>\n      <th>1</th>\n      <td>1781</td>\n      <td>7.5</td>\n      <td>8.9</td>\n      <td>10.9</td>\n    </tr>\n    <tr>\n      <th>2</th>\n      <td>1782</td>\n      <td>8.2</td>\n      <td>6.1</td>\n      <td>9.8</td>\n    </tr>\n    <tr>\n      <th>3</th>\n      <td>1783</td>\n      <td>8.3</td>\n      <td>8.6</td>\n      <td>9.6</td>\n    </tr>\n    <tr>\n      <th>4</th>\n      <td>1784</td>\n      <td>7.3</td>\n      <td>7.1</td>\n      <td>10.8</td>\n    </tr>\n    <tr>\n      <th>5</th>\n      <td>1785</td>\n      <td>9.0</td>\n      <td>6.4</td>\n      <td>7.9</td>\n    </tr>\n    <tr>\n      <th>6</th>\n      <td>1786</td>\n      <td>7.8</td>\n      <td>8.3</td>\n      <td>9.9</td>\n    </tr>\n    <tr>\n      <th>7</th>\n      <td>1787</td>\n      <td>5.4</td>\n      <td>7.8</td>\n      <td>11.3</td>\n    </tr>\n    <tr>\n      <th>8</th>\n      <td>1788</td>\n      <td>6.4</td>\n      <td>10.1</td>\n      <td>10.4</td>\n    </tr>\n    <tr>\n      <th>9</th>\n      <td>1789</td>\n      <td>6.9</td>\n      <td>9.3</td>\n      <td>8.7</td>\n    </tr>\n    <tr>\n      <th>10</th>\n      <td>1790</td>\n      <td>7.4</td>\n      <td>9.5</td>\n      <td>10.4</td>\n    </tr>\n    <tr>\n      <th>11</th>\n      <td>1791</td>\n      <td>9.5</td>\n      <td>6.9</td>\n      <td>11.1</td>\n    </tr>\n    <tr>\n      <th>12</th>\n      <td>1792</td>\n      <td>8.7</td>\n      <td>8.9</td>\n      <td>11.4</td>\n    </tr>\n    <tr>\n      <th>13</th>\n      <td>1793</td>\n      <td>6.7</td>\n      <td>8.8</td>\n      <td>9.6</td>\n    </tr>\n    <tr>\n      <th>14</th>\n      <td>1794</td>\n      <td>7.0</td>\n      <td>9.7</td>\n      <td>11.2</td>\n    </tr>\n    <tr>\n      <th>15</th>\n      <td>1795</td>\n      <td>6.3</td>\n      <td>8.3</td>\n      <td>9.7</td>\n    </tr>\n    <tr>\n      <th>16</th>\n      <td>1796</td>\n      <td>9.0</td>\n      <td>7.9</td>\n      <td>6.7</td>\n    </tr>\n    <tr>\n      <th>17</th>\n      <td>1797</td>\n      <td>6.8</td>\n      <td>8.7</td>\n      <td>8.3</td>\n    </tr>\n    <tr>\n      <th>18</th>\n      <td>1798</td>\n      <td>7.1</td>\n      <td>8.6</td>\n      <td>9.9</td>\n    </tr>\n    <tr>\n      <th>19</th>\n      <td>1799</td>\n      <td>7.4</td>\n      <td>11.7</td>\n      <td>10.7</td>\n    </tr>\n    <tr>\n      <th>20</th>\n      <td>1800</td>\n      <td>7.5</td>\n      <td>8.9</td>\n      <td>9.1</td>\n    </tr>\n    <tr>\n      <th>21</th>\n      <td>1801</td>\n      <td>7.2</td>\n      <td>7.7</td>\n      <td>10.7</td>\n    </tr>\n    <tr>\n      <th>22</th>\n      <td>1802</td>\n      <td>3.6</td>\n      <td>7.1</td>\n      <td>9.0</td>\n    </tr>\n    <tr>\n      <th>23</th>\n      <td>1803</td>\n      <td>6.9</td>\n      <td>5.0</td>\n      <td>8.1</td>\n    </tr>\n    <tr>\n      <th>24</th>\n      <td>1804</td>\n      <td>9.7</td>\n      <td>6.0</td>\n      <td>9.6</td>\n    </tr>\n    <tr>\n      <th>25</th>\n      <td>1805</td>\n      <td>6.7</td>\n      <td>8.1</td>\n      <td>9.9</td>\n    </tr>\n    <tr>\n      <th>26</th>\n      <td>1806</td>\n      <td>6.8</td>\n      <td>8.3</td>\n      <td>9.9</td>\n    </tr>\n    <tr>\n      <th>27</th>\n      <td>1807</td>\n      <td>6.6</td>\n      <td>8.0</td>\n      <td>6.4</td>\n    </tr>\n    <tr>\n      <th>28</th>\n      <td>1808</td>\n      <td>5.4</td>\n      <td>5.2</td>\n      <td>8.8</td>\n    </tr>\n    <tr>\n      <th>29</th>\n      <td>1809</td>\n      <td>9.5</td>\n      <td>9.2</td>\n      <td>9.4</td>\n    </tr>\n    <tr>\n      <th>...</th>\n      <td>...</td>\n      <td>...</td>\n      <td>...</td>\n      <td>...</td>\n    </tr>\n    <tr>\n      <th>170</th>\n      <td>1950</td>\n      <td>8.4</td>\n      <td>10.1</td>\n      <td>11.4</td>\n    </tr>\n    <tr>\n      <th>171</th>\n      <td>1951</td>\n      <td>8.1</td>\n      <td>8.2</td>\n      <td>9.9</td>\n    </tr>\n    <tr>\n      <th>172</th>\n      <td>1952</td>\n      <td>5.7</td>\n      <td>7.6</td>\n      <td>12.3</td>\n    </tr>\n    <tr>\n      <th>173</th>\n      <td>1953</td>\n      <td>6.7</td>\n      <td>7.1</td>\n      <td>10.0</td>\n    </tr>\n    <tr>\n      <th>174</th>\n      <td>1954</td>\n      <td>6.1</td>\n      <td>6.8</td>\n      <td>10.7</td>\n    </tr>\n    <tr>\n      <th>175</th>\n      <td>1955</td>\n      <td>10.6</td>\n      <td>8.6</td>\n      <td>9.7</td>\n    </tr>\n    <tr>\n      <th>176</th>\n      <td>1956</td>\n      <td>8.9</td>\n      <td>2.5</td>\n      <td>10.4</td>\n    </tr>\n    <tr>\n      <th>177</th>\n      <td>1957</td>\n      <td>7.3</td>\n      <td>11.0</td>\n      <td>12.2</td>\n    </tr>\n    <tr>\n      <th>178</th>\n      <td>1958</td>\n      <td>7.3</td>\n      <td>10.5</td>\n      <td>10.3</td>\n    </tr>\n    <tr>\n      <th>179</th>\n      <td>1959</td>\n      <td>8.2</td>\n      <td>9.5</td>\n      <td>11.4</td>\n    </tr>\n    <tr>\n      <th>180</th>\n      <td>1960</td>\n      <td>8.1</td>\n      <td>9.6</td>\n      <td>11.2</td>\n    </tr>\n    <tr>\n      <th>181</th>\n      <td>1961</td>\n      <td>7.2</td>\n      <td>11.0</td>\n      <td>12.1</td>\n    </tr>\n    <tr>\n      <th>182</th>\n      <td>1962</td>\n      <td>9.5</td>\n      <td>8.0</td>\n      <td>9.2</td>\n    </tr>\n    <tr>\n      <th>183</th>\n      <td>1963</td>\n      <td>6.1</td>\n      <td>5.4</td>\n      <td>10.8</td>\n    </tr>\n    <tr>\n      <th>184</th>\n      <td>1964</td>\n      <td>7.4</td>\n      <td>9.2</td>\n      <td>10.4</td>\n    </tr>\n    <tr>\n      <th>185</th>\n      <td>1965</td>\n      <td>7.6</td>\n      <td>5.8</td>\n      <td>10.7</td>\n    </tr>\n    <tr>\n      <th>186</th>\n      <td>1966</td>\n      <td>8.8</td>\n      <td>11.3</td>\n      <td>10.7</td>\n    </tr>\n    <tr>\n      <th>187</th>\n      <td>1967</td>\n      <td>8.0</td>\n      <td>9.3</td>\n      <td>11.9</td>\n    </tr>\n    <tr>\n      <th>188</th>\n      <td>1968</td>\n      <td>8.7</td>\n      <td>9.0</td>\n      <td>9.9</td>\n    </tr>\n    <tr>\n      <th>189</th>\n      <td>1969</td>\n      <td>8.5</td>\n      <td>6.9</td>\n      <td>10.2</td>\n    </tr>\n    <tr>\n      <th>190</th>\n      <td>1970</td>\n      <td>9.5</td>\n      <td>8.5</td>\n      <td>8.5</td>\n    </tr>\n    <tr>\n      <th>191</th>\n      <td>1971</td>\n      <td>7.8</td>\n      <td>9.2</td>\n      <td>7.5</td>\n    </tr>\n    <tr>\n      <th>192</th>\n      <td>1972</td>\n      <td>7.2</td>\n      <td>9.0</td>\n      <td>10.9</td>\n    </tr>\n    <tr>\n      <th>193</th>\n      <td>1973</td>\n      <td>8.2</td>\n      <td>7.9</td>\n      <td>9.3</td>\n    </tr>\n    <tr>\n      <th>194</th>\n      <td>1974</td>\n      <td>9.9</td>\n      <td>8.5</td>\n      <td>10.1</td>\n    </tr>\n    <tr>\n      <th>195</th>\n      <td>1975</td>\n      <td>9.9</td>\n      <td>9.4</td>\n      <td>8.6</td>\n    </tr>\n    <tr>\n      <th>196</th>\n      <td>1976</td>\n      <td>8.2</td>\n      <td>8.8</td>\n      <td>10.9</td>\n    </tr>\n    <tr>\n      <th>197</th>\n      <td>1977</td>\n      <td>8.1</td>\n      <td>11.1</td>\n      <td>11.8</td>\n    </tr>\n    <tr>\n      <th>198</th>\n      <td>1978</td>\n      <td>6.6</td>\n      <td>9.7</td>\n      <td>11.3</td>\n    </tr>\n    <tr>\n      <th>199</th>\n      <td>1979</td>\n      <td>8.0</td>\n      <td>9.5</td>\n      <td>10.8</td>\n    </tr>\n  </tbody>\n</table>\n<p>200 rows × 4 columns</p>\n</div>",
      "text/plain": "      Any  Temp_Mitjana_Gener  Temp_Mitjana_Febrer  Temp_Mitjana_Marc\n0    1780                 6.7                  7.3               11.6\n1    1781                 7.5                  8.9               10.9\n2    1782                 8.2                  6.1                9.8\n3    1783                 8.3                  8.6                9.6\n4    1784                 7.3                  7.1               10.8\n5    1785                 9.0                  6.4                7.9\n6    1786                 7.8                  8.3                9.9\n7    1787                 5.4                  7.8               11.3\n8    1788                 6.4                 10.1               10.4\n9    1789                 6.9                  9.3                8.7\n10   1790                 7.4                  9.5               10.4\n11   1791                 9.5                  6.9               11.1\n12   1792                 8.7                  8.9               11.4\n13   1793                 6.7                  8.8                9.6\n14   1794                 7.0                  9.7               11.2\n15   1795                 6.3                  8.3                9.7\n16   1796                 9.0                  7.9                6.7\n17   1797                 6.8                  8.7                8.3\n18   1798                 7.1                  8.6                9.9\n19   1799                 7.4                 11.7               10.7\n20   1800                 7.5                  8.9                9.1\n21   1801                 7.2                  7.7               10.7\n22   1802                 3.6                  7.1                9.0\n23   1803                 6.9                  5.0                8.1\n24   1804                 9.7                  6.0                9.6\n25   1805                 6.7                  8.1                9.9\n26   1806                 6.8                  8.3                9.9\n27   1807                 6.6                  8.0                6.4\n28   1808                 5.4                  5.2                8.8\n29   1809                 9.5                  9.2                9.4\n..    ...                 ...                  ...                ...\n170  1950                 8.4                 10.1               11.4\n171  1951                 8.1                  8.2                9.9\n172  1952                 5.7                  7.6               12.3\n173  1953                 6.7                  7.1               10.0\n174  1954                 6.1                  6.8               10.7\n175  1955                10.6                  8.6                9.7\n176  1956                 8.9                  2.5               10.4\n177  1957                 7.3                 11.0               12.2\n178  1958                 7.3                 10.5               10.3\n179  1959                 8.2                  9.5               11.4\n180  1960                 8.1                  9.6               11.2\n181  1961                 7.2                 11.0               12.1\n182  1962                 9.5                  8.0                9.2\n183  1963                 6.1                  5.4               10.8\n184  1964                 7.4                  9.2               10.4\n185  1965                 7.6                  5.8               10.7\n186  1966                 8.8                 11.3               10.7\n187  1967                 8.0                  9.3               11.9\n188  1968                 8.7                  9.0                9.9\n189  1969                 8.5                  6.9               10.2\n190  1970                 9.5                  8.5                8.5\n191  1971                 7.8                  9.2                7.5\n192  1972                 7.2                  9.0               10.9\n193  1973                 8.2                  7.9                9.3\n194  1974                 9.9                  8.5               10.1\n195  1975                 9.9                  9.4                8.6\n196  1976                 8.2                  8.8               10.9\n197  1977                 8.1                 11.1               11.8\n198  1978                 6.6                  9.7               11.3\n199  1979                 8.0                  9.5               10.8\n\n[200 rows x 4 columns]"
     },
     "execution_count": 8,
     "metadata": {},
     "output_type": "execute_result"
    }
   ],
   "source": [
    "df.iloc[0:200, 0:4]"
   ]
  }
 ],
 "metadata": {
  "file_extension": ".py",
  "kernelspec": {
   "display_name": "Python 3",
   "language": "python",
   "name": "python3"
  },
  "language_info": {
   "codemirror_mode": {
    "name": "ipython",
    "version": 3
   },
   "file_extension": ".py",
   "mimetype": "text/x-python",
   "name": "python",
   "nbconvert_exporter": "python",
   "pygments_lexer": "ipython3",
   "version": "3.7.3"
  },
  "mimetype": "text/x-python",
  "name": "python",
  "npconvert_exporter": "python",
  "pygments_lexer": "ipython3",
  "version": 3
 },
 "nbformat": 4,
 "nbformat_minor": 2
}