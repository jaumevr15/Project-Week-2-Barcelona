{
 "nbformat": 4,
 "nbformat_minor": 2,
 "metadata": {
  "language_info": {
   "name": "python",
   "codemirror_mode": {
    "name": "ipython",
    "version": 3
   }
  },
  "orig_nbformat": 2,
  "file_extension": ".py",
  "mimetype": "text/x-python",
  "name": "python",
  "npconvert_exporter": "python",
  "pygments_lexer": "ipython3",
  "version": 3
 },
 "cells": [
  {
   "cell_type": "code",
   "execution_count": 24,
   "metadata": {},
   "outputs": [],
   "source": [
    "import pandas as pd\n",
    "df = pd.read_csv('temperaturesbarcelonadesde1780.csv')\n",
    "ds = pd.read_csv('temperaturesbarcelonadesde1780_format_long.csv')"
   ]
  },
  {
   "cell_type": "code",
   "execution_count": 14,
   "metadata": {},
   "outputs": [],
   "source": [
    "#Pregunta 1: Has the temperature increased in Barcelona in the last 200 years?\n",
    "# Diferència entre la mitjana de l'any 2018 - 1993\n",
    "# Diferència entre la mtijana de l'any 2018 - 1958\n",
    "# Diferència entre la mitjana de l'any 2018 i 1818\n",
    "### TO-DO Find the yearly average from 1780 to 2018"
   ]
  },
  {
   "cell_type": "code",
   "execution_count": 19,
   "metadata": {},
   "outputs": [],
   "source": [
    "# Pregunta 2: Hi ha x resultat en comparació de mitjanes, és l'augment proporcional o s'està augmentant més ràpid que abans?\n",
    "## Compare the average incresases between the ranges above.\n",
    "### TO-DO Measure year-to-date differences (1,5,10,50,200)"
   ]
  },
  {
   "cell_type": "code",
   "execution_count": 20,
   "metadata": {},
   "outputs": [],
   "source": [
    "# Question 3: If X is happening, does it mean we are having more extreme temperatues?\n",
    "## Check mean temperature of 2018 and check the difference between coldest/warmest to mean (dispersion)\n",
    "## Do the same process with ages 1993, 1958, 1818\n",
    "### TO-DO Measure extreme temperatures compared to the average in all years"
   ]
  },
  {
   "cell_type": "code",
   "execution_count": 31,
   "metadata": {},
   "outputs": [
    {
     "data": {
      "text/html": "<div>\n<style scoped>\n    .dataframe tbody tr th:only-of-type {\n        vertical-align: middle;\n    }\n\n    .dataframe tbody tr th {\n        vertical-align: top;\n    }\n\n    .dataframe thead th {\n        text-align: right;\n    }\n</style>\n<table border=\"1\" class=\"dataframe\">\n  <thead>\n    <tr style=\"text-align: right;\">\n      <th></th>\n      <th>Any</th>\n      <th>Mes</th>\n      <th>Desc_Mes</th>\n      <th>Temperatura</th>\n    </tr>\n  </thead>\n  <tbody>\n    <tr>\n      <th>2113</th>\n      <td>1956</td>\n      <td>2</td>\n      <td>Febrer</td>\n      <td>2.5</td>\n    </tr>\n    <tr>\n      <th>816</th>\n      <td>1848</td>\n      <td>1</td>\n      <td>Gener</td>\n      <td>3.4</td>\n    </tr>\n    <tr>\n      <th>264</th>\n      <td>1802</td>\n      <td>1</td>\n      <td>Gener</td>\n      <td>3.6</td>\n    </tr>\n    <tr>\n      <th>600</th>\n      <td>1830</td>\n      <td>1</td>\n      <td>Gener</td>\n      <td>4.1</td>\n    </tr>\n    <tr>\n      <th>1980</th>\n      <td>1945</td>\n      <td>1</td>\n      <td>Gener</td>\n      <td>4.3</td>\n    </tr>\n    <tr>\n      <th>2460</th>\n      <td>1985</td>\n      <td>1</td>\n      <td>Gener</td>\n      <td>4.3</td>\n    </tr>\n    <tr>\n      <th>420</th>\n      <td>1815</td>\n      <td>1</td>\n      <td>Gener</td>\n      <td>4.4</td>\n    </tr>\n    <tr>\n      <th>1103</th>\n      <td>1871</td>\n      <td>12</td>\n      <td>Desembre</td>\n      <td>4.4</td>\n    </tr>\n    <tr>\n      <th>877</th>\n      <td>1853</td>\n      <td>2</td>\n      <td>Febrer</td>\n      <td>4.5</td>\n    </tr>\n    <tr>\n      <th>1092</th>\n      <td>1871</td>\n      <td>1</td>\n      <td>Gener</td>\n      <td>4.6</td>\n    </tr>\n    <tr>\n      <th>1199</th>\n      <td>1879</td>\n      <td>12</td>\n      <td>Desembre</td>\n      <td>4.6</td>\n    </tr>\n    <tr>\n      <th>384</th>\n      <td>1812</td>\n      <td>1</td>\n      <td>Gener</td>\n      <td>4.8</td>\n    </tr>\n    <tr>\n      <th>1453</th>\n      <td>1901</td>\n      <td>2</td>\n      <td>Febrer</td>\n      <td>4.8</td>\n    </tr>\n    <tr>\n      <th>1356</th>\n      <td>1893</td>\n      <td>1</td>\n      <td>Gener</td>\n      <td>4.8</td>\n    </tr>\n    <tr>\n      <th>1332</th>\n      <td>1891</td>\n      <td>1</td>\n      <td>Gener</td>\n      <td>4.9</td>\n    </tr>\n    <tr>\n      <th>1608</th>\n      <td>1914</td>\n      <td>1</td>\n      <td>Gener</td>\n      <td>4.9</td>\n    </tr>\n    <tr>\n      <th>1655</th>\n      <td>1917</td>\n      <td>12</td>\n      <td>Desembre</td>\n      <td>5.0</td>\n    </tr>\n    <tr>\n      <th>1825</th>\n      <td>1932</td>\n      <td>2</td>\n      <td>Febrer</td>\n      <td>5.0</td>\n    </tr>\n    <tr>\n      <th>277</th>\n      <td>1803</td>\n      <td>2</td>\n      <td>Febrer</td>\n      <td>5.0</td>\n    </tr>\n    <tr>\n      <th>1200</th>\n      <td>1880</td>\n      <td>1</td>\n      <td>Gener</td>\n      <td>5.1</td>\n    </tr>\n    <tr>\n      <th>936</th>\n      <td>1858</td>\n      <td>1</td>\n      <td>Gener</td>\n      <td>5.2</td>\n    </tr>\n    <tr>\n      <th>1260</th>\n      <td>1885</td>\n      <td>1</td>\n      <td>Gener</td>\n      <td>5.2</td>\n    </tr>\n    <tr>\n      <th>337</th>\n      <td>1808</td>\n      <td>2</td>\n      <td>Febrer</td>\n      <td>5.2</td>\n    </tr>\n    <tr>\n      <th>744</th>\n      <td>1842</td>\n      <td>1</td>\n      <td>Gener</td>\n      <td>5.2</td>\n    </tr>\n    <tr>\n      <th>924</th>\n      <td>1857</td>\n      <td>1</td>\n      <td>Gener</td>\n      <td>5.3</td>\n    </tr>\n    <tr>\n      <th>372</th>\n      <td>1811</td>\n      <td>1</td>\n      <td>Gener</td>\n      <td>5.3</td>\n    </tr>\n    <tr>\n      <th>409</th>\n      <td>1814</td>\n      <td>2</td>\n      <td>Febrer</td>\n      <td>5.3</td>\n    </tr>\n    <tr>\n      <th>59</th>\n      <td>1784</td>\n      <td>12</td>\n      <td>Desembre</td>\n      <td>5.3</td>\n    </tr>\n    <tr>\n      <th>599</th>\n      <td>1829</td>\n      <td>12</td>\n      <td>Desembre</td>\n      <td>5.3</td>\n    </tr>\n    <tr>\n      <th>1091</th>\n      <td>1870</td>\n      <td>12</td>\n      <td>Desembre</td>\n      <td>5.3</td>\n    </tr>\n    <tr>\n      <th>...</th>\n      <td>...</td>\n      <td>...</td>\n      <td>...</td>\n      <td>...</td>\n    </tr>\n    <tr>\n      <th>2838</th>\n      <td>2016</td>\n      <td>7</td>\n      <td>Juliol</td>\n      <td>24.9</td>\n    </tr>\n    <tr>\n      <th>2803</th>\n      <td>2013</td>\n      <td>8</td>\n      <td>Agost</td>\n      <td>24.9</td>\n    </tr>\n    <tr>\n      <th>2659</th>\n      <td>2001</td>\n      <td>8</td>\n      <td>Agost</td>\n      <td>25.0</td>\n    </tr>\n    <tr>\n      <th>2514</th>\n      <td>1989</td>\n      <td>7</td>\n      <td>Juliol</td>\n      <td>25.0</td>\n    </tr>\n    <tr>\n      <th>2586</th>\n      <td>1995</td>\n      <td>7</td>\n      <td>Juliol</td>\n      <td>25.0</td>\n    </tr>\n    <tr>\n      <th>2695</th>\n      <td>2004</td>\n      <td>8</td>\n      <td>Agost</td>\n      <td>25.1</td>\n    </tr>\n    <tr>\n      <th>2010</th>\n      <td>1947</td>\n      <td>7</td>\n      <td>Juliol</td>\n      <td>25.1</td>\n    </tr>\n    <tr>\n      <th>1723</th>\n      <td>1923</td>\n      <td>8</td>\n      <td>Agost</td>\n      <td>25.1</td>\n    </tr>\n    <tr>\n      <th>1579</th>\n      <td>1911</td>\n      <td>8</td>\n      <td>Agost</td>\n      <td>25.3</td>\n    </tr>\n    <tr>\n      <th>2862</th>\n      <td>2018</td>\n      <td>7</td>\n      <td>Juliol</td>\n      <td>25.3</td>\n    </tr>\n    <tr>\n      <th>1843</th>\n      <td>1933</td>\n      <td>8</td>\n      <td>Agost</td>\n      <td>25.3</td>\n    </tr>\n    <tr>\n      <th>798</th>\n      <td>1846</td>\n      <td>7</td>\n      <td>Juliol</td>\n      <td>25.3</td>\n    </tr>\n    <tr>\n      <th>1783</th>\n      <td>1928</td>\n      <td>8</td>\n      <td>Agost</td>\n      <td>25.4</td>\n    </tr>\n    <tr>\n      <th>2046</th>\n      <td>1950</td>\n      <td>7</td>\n      <td>Juliol</td>\n      <td>25.6</td>\n    </tr>\n    <tr>\n      <th>2802</th>\n      <td>2013</td>\n      <td>7</td>\n      <td>Juliol</td>\n      <td>25.6</td>\n    </tr>\n    <tr>\n      <th>2034</th>\n      <td>1949</td>\n      <td>7</td>\n      <td>Juliol</td>\n      <td>25.6</td>\n    </tr>\n    <tr>\n      <th>2681</th>\n      <td>2003</td>\n      <td>6</td>\n      <td>Juny</td>\n      <td>25.6</td>\n    </tr>\n    <tr>\n      <th>2766</th>\n      <td>2010</td>\n      <td>7</td>\n      <td>Juliol</td>\n      <td>25.7</td>\n    </tr>\n    <tr>\n      <th>2575</th>\n      <td>1994</td>\n      <td>8</td>\n      <td>Agost</td>\n      <td>25.7</td>\n    </tr>\n    <tr>\n      <th>1782</th>\n      <td>1928</td>\n      <td>7</td>\n      <td>Juliol</td>\n      <td>25.7</td>\n    </tr>\n    <tr>\n      <th>2863</th>\n      <td>2018</td>\n      <td>8</td>\n      <td>Agost</td>\n      <td>25.8</td>\n    </tr>\n    <tr>\n      <th>2442</th>\n      <td>1983</td>\n      <td>7</td>\n      <td>Juliol</td>\n      <td>25.8</td>\n    </tr>\n    <tr>\n      <th>2574</th>\n      <td>1994</td>\n      <td>7</td>\n      <td>Juliol</td>\n      <td>25.9</td>\n    </tr>\n    <tr>\n      <th>2791</th>\n      <td>2012</td>\n      <td>8</td>\n      <td>Agost</td>\n      <td>26.0</td>\n    </tr>\n    <tr>\n      <th>2826</th>\n      <td>2015</td>\n      <td>7</td>\n      <td>Juliol</td>\n      <td>26.0</td>\n    </tr>\n    <tr>\n      <th>2682</th>\n      <td>2003</td>\n      <td>7</td>\n      <td>Juliol</td>\n      <td>26.1</td>\n    </tr>\n    <tr>\n      <th>2755</th>\n      <td>2009</td>\n      <td>8</td>\n      <td>Agost</td>\n      <td>26.3</td>\n    </tr>\n    <tr>\n      <th>1255</th>\n      <td>1884</td>\n      <td>8</td>\n      <td>Agost</td>\n      <td>26.4</td>\n    </tr>\n    <tr>\n      <th>2718</th>\n      <td>2006</td>\n      <td>7</td>\n      <td>Juliol</td>\n      <td>27.1</td>\n    </tr>\n    <tr>\n      <th>2683</th>\n      <td>2003</td>\n      <td>8</td>\n      <td>Agost</td>\n      <td>28.5</td>\n    </tr>\n  </tbody>\n</table>\n<p>2868 rows × 4 columns</p>\n</div>",
      "text/plain": "       Any  Mes  Desc_Mes  Temperatura\n2113  1956    2    Febrer          2.5\n816   1848    1     Gener          3.4\n264   1802    1     Gener          3.6\n600   1830    1     Gener          4.1\n1980  1945    1     Gener          4.3\n2460  1985    1     Gener          4.3\n420   1815    1     Gener          4.4\n1103  1871   12  Desembre          4.4\n877   1853    2    Febrer          4.5\n1092  1871    1     Gener          4.6\n1199  1879   12  Desembre          4.6\n384   1812    1     Gener          4.8\n1453  1901    2    Febrer          4.8\n1356  1893    1     Gener          4.8\n1332  1891    1     Gener          4.9\n1608  1914    1     Gener          4.9\n1655  1917   12  Desembre          5.0\n1825  1932    2    Febrer          5.0\n277   1803    2    Febrer          5.0\n1200  1880    1     Gener          5.1\n936   1858    1     Gener          5.2\n1260  1885    1     Gener          5.2\n337   1808    2    Febrer          5.2\n744   1842    1     Gener          5.2\n924   1857    1     Gener          5.3\n372   1811    1     Gener          5.3\n409   1814    2    Febrer          5.3\n59    1784   12  Desembre          5.3\n599   1829   12  Desembre          5.3\n1091  1870   12  Desembre          5.3\n...    ...  ...       ...          ...\n2838  2016    7    Juliol         24.9\n2803  2013    8     Agost         24.9\n2659  2001    8     Agost         25.0\n2514  1989    7    Juliol         25.0\n2586  1995    7    Juliol         25.0\n2695  2004    8     Agost         25.1\n2010  1947    7    Juliol         25.1\n1723  1923    8     Agost         25.1\n1579  1911    8     Agost         25.3\n2862  2018    7    Juliol         25.3\n1843  1933    8     Agost         25.3\n798   1846    7    Juliol         25.3\n1783  1928    8     Agost         25.4\n2046  1950    7    Juliol         25.6\n2802  2013    7    Juliol         25.6\n2034  1949    7    Juliol         25.6\n2681  2003    6      Juny         25.6\n2766  2010    7    Juliol         25.7\n2575  1994    8     Agost         25.7\n1782  1928    7    Juliol         25.7\n2863  2018    8     Agost         25.8\n2442  1983    7    Juliol         25.8\n2574  1994    7    Juliol         25.9\n2791  2012    8     Agost         26.0\n2826  2015    7    Juliol         26.0\n2682  2003    7    Juliol         26.1\n2755  2009    8     Agost         26.3\n1255  1884    8     Agost         26.4\n2718  2006    7    Juliol         27.1\n2683  2003    8     Agost         28.5\n\n[2868 rows x 4 columns]"
     },
     "execution_count": 31,
     "metadata": {},
     "output_type": "execute_result"
    }
   ],
   "source": [
    "hottest = ds.sort_values('Temperatura', ascending=False)\n",
    "coldest = ds.sort_values('Temperatura')\n",
    "coldest"
   ]
  }
 ]
}