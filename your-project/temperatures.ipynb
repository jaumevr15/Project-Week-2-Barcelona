{
 "cells": [
  {
   "cell_type": "code",
   "execution_count": 127,
   "metadata": {},
   "outputs": [],
   "source": [
    "import pandas as pd\n",
    "import re\n",
    "df = pd.read_csv('temperaturesbarcelonadesde1780.csv')\n",
    "ds = pd.read_csv('temperaturesbarcelonadesde1780_format_long.csv')\n",
    "\n",
    "#df is a Dataframe with Year and Montlhy average temperature as columns.\n",
    "#And years as rows"
   ]
  },
  {
   "cell_type": "code",
   "execution_count": 186,
   "metadata": {},
   "outputs": [],
   "source": [
    "#It is important for us to use Years as the main index for easy manipulation\n",
    "df_years = df.set_index('Any')\n",
    "\n",
    "#In order to find the average temperature of each year, we create two lists and we iterate between the years 1818-2018\n",
    "\n",
    "years = range(1818,2019)\n",
    "ymean = []\n",
    "yyear = []\n",
    "for r in years:\n",
    "    t = round(df_years.loc[r].mean(),2)\n",
    "    ymean.append(t)\n",
    "    yyear.append(r)\n",
    "\n",
    "#We already have two lists, ymean has the average temperatures and yyear has the years. We create a dictionary with the description and the values. And we convert it to a Dataframe\n",
    "ydict = {'Year': yyear, 'Avg_temp': ymean}\n",
    "ymean_df = pd.DataFrame.from_dict(ydict)\n",
    "ymean_df = ymean_df.set_index('Year')\n",
    "\n",
    "#### FINDING MAX YEARLY AVG AND MIN\n",
    "ymean_sort = ymean_df.sort_values('Avg_temp', ascending= False)\n",
    "\n",
    "#### Average of the 200 years\n",
    "ymean_mean = ymean_df.mean()\n",
    "\n",
    "\n",
    "## Difference between hottest and coldest in years and temperature\n",
    "maxdif = ymean_df.iloc[197] - ymean_df.iloc[69]\n",
    "\n",
    "####### GLOSSARY OF VARIABLES\n",
    "## [[df_years]] = The original chart making years as the main index\n",
    "# df_years\n",
    "## [[ymean_df]] = Chart with years and their yearly average. Sorted by years\n",
    "# ymean_df\n",
    "## [[ymean_mean]] = The average temperature for the 200 years analized, 14,65ºC\n",
    "# ymean_mean\n",
    "## [[ymean_sort]] = is a chart with the 200 years and their temperature sorted from hottest to coldest.\n",
    "# ymean_sort\n",
    "## [[maxdif]] = The difference in temperature and years from the hottest to the coolest.\n",
    "# maxdif"
   ]
  },
  {
   "cell_type": "code",
   "execution_count": 196,
   "metadata": {},
   "outputs": [
    {
     "data": {
      "text/html": "<div>\n<style scoped>\n    .dataframe tbody tr th:only-of-type {\n        vertical-align: middle;\n    }\n\n    .dataframe tbody tr th {\n        vertical-align: top;\n    }\n\n    .dataframe thead th {\n        text-align: right;\n    }\n</style>\n<table border=\"1\" class=\"dataframe\">\n  <thead>\n    <tr style=\"text-align: right;\">\n      <th></th>\n      <th>Period</th>\n      <th>Avtempdif</th>\n    </tr>\n  </thead>\n  <tbody>\n    <tr>\n      <th>0</th>\n      <td>2019-1919</td>\n      <td>[ 0.16]</td>\n    </tr>\n    <tr>\n      <th>1</th>\n      <td>2018-1918</td>\n      <td>[-0.39]</td>\n    </tr>\n    <tr>\n      <th>2</th>\n      <td>2017-1917</td>\n      <td>[ 1.39]</td>\n    </tr>\n    <tr>\n      <th>3</th>\n      <td>2016-1916</td>\n      <td>[ 0.73]</td>\n    </tr>\n    <tr>\n      <th>4</th>\n      <td>2015-1915</td>\n      <td>[-0.55]</td>\n    </tr>\n    <tr>\n      <th>5</th>\n      <td>2014-1914</td>\n      <td>[ 0.69]</td>\n    </tr>\n    <tr>\n      <th>6</th>\n      <td>2013-1913</td>\n      <td>[ 0.75]</td>\n    </tr>\n    <tr>\n      <th>7</th>\n      <td>2012-1912</td>\n      <td>[-0.03]</td>\n    </tr>\n    <tr>\n      <th>8</th>\n      <td>2011-1911</td>\n      <td>[ 1.16]</td>\n    </tr>\n    <tr>\n      <th>9</th>\n      <td>2010-1910</td>\n      <td>[ 1.62]</td>\n    </tr>\n    <tr>\n      <th>10</th>\n      <td>2009-1909</td>\n      <td>[ 0.54]</td>\n    </tr>\n    <tr>\n      <th>11</th>\n      <td>2008-1908</td>\n      <td>[ 1.55]</td>\n    </tr>\n    <tr>\n      <th>12</th>\n      <td>2007-1907</td>\n      <td>[ 1.13]</td>\n    </tr>\n    <tr>\n      <th>13</th>\n      <td>2006-1906</td>\n      <td>[-0.25]</td>\n    </tr>\n    <tr>\n      <th>14</th>\n      <td>2005-1905</td>\n      <td>[-0.03]</td>\n    </tr>\n    <tr>\n      <th>15</th>\n      <td>2004-1904</td>\n      <td>[ 0.65]</td>\n    </tr>\n    <tr>\n      <th>16</th>\n      <td>2003-1903</td>\n      <td>[ 0.59]</td>\n    </tr>\n    <tr>\n      <th>17</th>\n      <td>2002-1902</td>\n      <td>[ 1.12]</td>\n    </tr>\n    <tr>\n      <th>18</th>\n      <td>2001-1901</td>\n      <td>[ 1.13]</td>\n    </tr>\n    <tr>\n      <th>19</th>\n      <td>2000-1900</td>\n      <td>[ 1.95]</td>\n    </tr>\n    <tr>\n      <th>20</th>\n      <td>1999-1899</td>\n      <td>[ 0.83]</td>\n    </tr>\n    <tr>\n      <th>21</th>\n      <td>1998-1898</td>\n      <td>[ 0.44]</td>\n    </tr>\n    <tr>\n      <th>22</th>\n      <td>1997-1897</td>\n      <td>[ 0.68]</td>\n    </tr>\n    <tr>\n      <th>23</th>\n      <td>1996-1896</td>\n      <td>[ 0.02]</td>\n    </tr>\n    <tr>\n      <th>24</th>\n      <td>1995-1895</td>\n      <td>[ 0.64]</td>\n    </tr>\n    <tr>\n      <th>25</th>\n      <td>1994-1894</td>\n      <td>[ 1.93]</td>\n    </tr>\n    <tr>\n      <th>26</th>\n      <td>1993-1893</td>\n      <td>[ 0.53]</td>\n    </tr>\n    <tr>\n      <th>27</th>\n      <td>1992-1892</td>\n      <td>[ 1.49]</td>\n    </tr>\n    <tr>\n      <th>28</th>\n      <td>1991-1891</td>\n      <td>[-1.18]</td>\n    </tr>\n    <tr>\n      <th>29</th>\n      <td>1990-1890</td>\n      <td>[ 0.85]</td>\n    </tr>\n    <tr>\n      <th>...</th>\n      <td>...</td>\n      <td>...</td>\n    </tr>\n    <tr>\n      <th>70</th>\n      <td>1949-1849</td>\n      <td>[ 1.96]</td>\n    </tr>\n    <tr>\n      <th>71</th>\n      <td>1948-1848</td>\n      <td>[ 1.86]</td>\n    </tr>\n    <tr>\n      <th>72</th>\n      <td>1947-1847</td>\n      <td>[ 1.92]</td>\n    </tr>\n    <tr>\n      <th>73</th>\n      <td>1946-1846</td>\n      <td>[ 0.95]</td>\n    </tr>\n    <tr>\n      <th>74</th>\n      <td>1945-1845</td>\n      <td>[ 0.83]</td>\n    </tr>\n    <tr>\n      <th>75</th>\n      <td>1944-1844</td>\n      <td>[ 0.52]</td>\n    </tr>\n    <tr>\n      <th>76</th>\n      <td>1943-1843</td>\n      <td>[ 1.61]</td>\n    </tr>\n    <tr>\n      <th>77</th>\n      <td>1942-1842</td>\n      <td>[ 0.78]</td>\n    </tr>\n    <tr>\n      <th>78</th>\n      <td>1941-1841</td>\n      <td>[ 0.69]</td>\n    </tr>\n    <tr>\n      <th>79</th>\n      <td>1940-1840</td>\n      <td>[ 0.74]</td>\n    </tr>\n    <tr>\n      <th>80</th>\n      <td>1939-1839</td>\n      <td>[ 0.95]</td>\n    </tr>\n    <tr>\n      <th>81</th>\n      <td>1938-1838</td>\n      <td>[ 0.57]</td>\n    </tr>\n    <tr>\n      <th>82</th>\n      <td>1937-1837</td>\n      <td>[ 0.74]</td>\n    </tr>\n    <tr>\n      <th>83</th>\n      <td>1936-1836</td>\n      <td>[ 2.26]</td>\n    </tr>\n    <tr>\n      <th>84</th>\n      <td>1935-1835</td>\n      <td>[ 1.95]</td>\n    </tr>\n    <tr>\n      <th>85</th>\n      <td>1934-1834</td>\n      <td>[ 2.37]</td>\n    </tr>\n    <tr>\n      <th>86</th>\n      <td>1933-1833</td>\n      <td>[ 0.93]</td>\n    </tr>\n    <tr>\n      <th>87</th>\n      <td>1932-1832</td>\n      <td>[ 1.21]</td>\n    </tr>\n    <tr>\n      <th>88</th>\n      <td>1931-1831</td>\n      <td>[ 2.28]</td>\n    </tr>\n    <tr>\n      <th>89</th>\n      <td>1930-1830</td>\n      <td>[ 2.18]</td>\n    </tr>\n    <tr>\n      <th>90</th>\n      <td>1929-1829</td>\n      <td>[ 1.31]</td>\n    </tr>\n    <tr>\n      <th>91</th>\n      <td>1928-1828</td>\n      <td>[ 2.74]</td>\n    </tr>\n    <tr>\n      <th>92</th>\n      <td>1927-1827</td>\n      <td>[ 0.96]</td>\n    </tr>\n    <tr>\n      <th>93</th>\n      <td>1926-1826</td>\n      <td>[ 0.87]</td>\n    </tr>\n    <tr>\n      <th>94</th>\n      <td>1925-1825</td>\n      <td>[ 1.76]</td>\n    </tr>\n    <tr>\n      <th>95</th>\n      <td>1924-1824</td>\n      <td>[ 1.68]</td>\n    </tr>\n    <tr>\n      <th>96</th>\n      <td>1923-1823</td>\n      <td>[ 2.19]</td>\n    </tr>\n    <tr>\n      <th>97</th>\n      <td>1922-1822</td>\n      <td>[ 2.73]</td>\n    </tr>\n    <tr>\n      <th>98</th>\n      <td>1921-1821</td>\n      <td>[ 2.04]</td>\n    </tr>\n    <tr>\n      <th>99</th>\n      <td>1920-1820</td>\n      <td>[ 2.73]</td>\n    </tr>\n  </tbody>\n</table>\n<p>100 rows × 2 columns</p>\n</div>",
      "text/plain": "       Period Avtempdif\n0   2019-1919   [ 0.16]\n1   2018-1918   [-0.39]\n2   2017-1917   [ 1.39]\n3   2016-1916   [ 0.73]\n4   2015-1915   [-0.55]\n5   2014-1914   [ 0.69]\n6   2013-1913   [ 0.75]\n7   2012-1912   [-0.03]\n8   2011-1911   [ 1.16]\n9   2010-1910   [ 1.62]\n10  2009-1909   [ 0.54]\n11  2008-1908   [ 1.55]\n12  2007-1907   [ 1.13]\n13  2006-1906   [-0.25]\n14  2005-1905   [-0.03]\n15  2004-1904   [ 0.65]\n16  2003-1903   [ 0.59]\n17  2002-1902   [ 1.12]\n18  2001-1901   [ 1.13]\n19  2000-1900   [ 1.95]\n20  1999-1899   [ 0.83]\n21  1998-1898   [ 0.44]\n22  1997-1897   [ 0.68]\n23  1996-1896   [ 0.02]\n24  1995-1895   [ 0.64]\n25  1994-1894   [ 1.93]\n26  1993-1893   [ 0.53]\n27  1992-1892   [ 1.49]\n28  1991-1891   [-1.18]\n29  1990-1890   [ 0.85]\n..        ...       ...\n70  1949-1849   [ 1.96]\n71  1948-1848   [ 1.86]\n72  1947-1847   [ 1.92]\n73  1946-1846   [ 0.95]\n74  1945-1845   [ 0.83]\n75  1944-1844   [ 0.52]\n76  1943-1843   [ 1.61]\n77  1942-1842   [ 0.78]\n78  1941-1841   [ 0.69]\n79  1940-1840   [ 0.74]\n80  1939-1839   [ 0.95]\n81  1938-1838   [ 0.57]\n82  1937-1837   [ 0.74]\n83  1936-1836   [ 2.26]\n84  1935-1835   [ 1.95]\n85  1934-1834   [ 2.37]\n86  1933-1833   [ 0.93]\n87  1932-1832   [ 1.21]\n88  1931-1831   [ 2.28]\n89  1930-1830   [ 2.18]\n90  1929-1829   [ 1.31]\n91  1928-1828   [ 2.74]\n92  1927-1827   [ 0.96]\n93  1926-1826   [ 0.87]\n94  1925-1825   [ 1.76]\n95  1924-1824   [ 1.68]\n96  1923-1823   [ 2.19]\n97  1922-1822   [ 2.73]\n98  1921-1821   [ 2.04]\n99  1920-1820   [ 2.73]\n\n[100 rows x 2 columns]"
     },
     "execution_count": 196,
     "metadata": {},
     "output_type": "execute_result"
    }
   ],
   "source": [
    "#PROJECT QUESTION: Is Climate Change happenning in Barcelona?\n",
    "# -- We considered climate change is happening if there is an increase of temperature above of 1,5ºC during the XXI century (100 years).\n",
    "## https://www.bbc.com/news/science-environment-45678338\n",
    "## https://www.ipcc.ch/sr15/chapter/glossary/\n",
    "\n",
    "#Q1: Has the temperature increased in Barcelona in the last 200 years?\n",
    "# Temperature difference between averages from 2018 and 1993\n",
    "#### ymean_df.iloc[200] - ymean_df.iloc[175]\n",
    "#Output: +1,32ºC\n",
    "# Temperature difference between averages from 2018 and 1968\n",
    "#### ymean_df.iloc[200] - ymean_df.iloc[150]\n",
    "#Output: +1,41ºC\n",
    "# Temperature difference between averages from 2018 and 1918\n",
    "#### ymean_df.iloc[200] - ymean_df.iloc[100]\n",
    "# Output: 2.05ºC\n",
    "# Temperature difference between averages from 2018 and 1818\n",
    "####ymean_df.iloc[200] - ymean_df.iloc[0]\n",
    "#Output: +2,21ºC\n",
    "\n",
    "hundyr = range(100)\n",
    "hungap = []\n",
    "hunyr = []\n",
    "for h in hundyr:\n",
    "    raw = str(ymean_df.iloc[100+h] - ymean_df.iloc[h])\n",
    "    r = re.findall('.?[0-9].[0-9]+',raw)\n",
    "    yr = 2019\n",
    "    hunyr.append(f'{yr-h}-{yr-100-h}')\n",
    "    hungap.append(r)\n",
    "\n",
    "gapdict = {'Period': hunyr, 'Avtempdif': hungap}\n",
    "gap_df = pd.DataFrame.from_dict(gapdict)\n"
   ]
  },
  {
   "cell_type": "code",
   "execution_count": null,
   "metadata": {},
   "outputs": [],
   "source": [
    "# Pregunta 2: Hi ha x resultat en comparació de mitjanes, és l'augment proporcional o s'està augmentant més ràpid que abans?\n",
    "## Compare the average incresases between the ranges above.\n",
    "### TO-DO Measure year-to-date differences (1,5,10,50,200)"
   ]
  },
  {
   "cell_type": "code",
   "execution_count": null,
   "metadata": {},
   "outputs": [],
   "source": [
    "# Question 3: If X is happening, does it mean we are having more extreme temperatues?\n",
    "## Check mean temperature of 2018 and check the difference between coldest/warmest to mean (dispersion)\n",
    "## Do the same process with ages 1993, 1958, 1818\n",
    "### TO-DO Measure extreme temperatures compared to the average in all years"
   ]
  },
  {
   "cell_type": "code",
   "execution_count": null,
   "metadata": {},
   "outputs": [],
   "source": [
    "# Question 3: If X is happening, does it mean we are having more extreme temperatues?\n",
    "## Check mean temperature of 2018 and check the difference between coldest/warmest to mean (dispersion)\n",
    "## Do the same process with ages 1993, 1958, 1818\n",
    "### TO-DO Measure extreme temperatures compared to the average in all years"
   ]
  },
  {
   "cell_type": "code",
   "execution_count": null,
   "metadata": {},
   "outputs": [],
   "source": []
  }
 ],
 "metadata": {
  "file_extension": ".py",
  "kernelspec": {
   "display_name": "Python 3",
   "language": "python",
   "name": "python3"
  },
  "language_info": {
   "codemirror_mode": {
    "name": "ipython",
    "version": 3
   },
   "file_extension": ".py",
   "mimetype": "text/x-python",
   "name": "python",
   "nbconvert_exporter": "python",
   "pygments_lexer": "ipython3",
   "version": "3.7.3"
  },
  "mimetype": "text/x-python",
  "name": "python",
  "npconvert_exporter": "python",
  "pygments_lexer": "ipython3",
  "version": 3
 },
 "nbformat": 4,
 "nbformat_minor": 2
}