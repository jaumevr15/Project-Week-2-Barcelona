{
 "cells": [
  {
   "cell_type": "code",
   "execution_count": 54,
   "metadata": {},
   "outputs": [],
   "source": [
    "import pandas as pd\n",
    "df = pd.read_csv('temperaturesbarcelonadesde1780.csv')\n",
    "ds = pd.read_csv('temperaturesbarcelonadesde1780_format_long.csv')\n",
    "\n",
    "#df is a Dataframe with Year and Montlhy average temperature as columns.\n",
    "#And years as rows"
   ]
  },
  {
   "cell_type": "code",
   "execution_count": 90,
   "metadata": {},
   "outputs": [],
   "source": [
    "#It is important for us to use Years as the main index for easy manipulation\n",
    "df_years = df.set_index('Any')\n",
    "\n",
    "#In order to find the average temperature of each year, we create two lists and we iterate between the years 1818-2018\n",
    "\n",
    "years = range(1818,2019)\n",
    "ymean = []\n",
    "yyear = []\n",
    "for r in years:\n",
    "    t = round(df_years.loc[r].mean(),2)\n",
    "    ymean.append(t)\n",
    "    yyear.append(r)\n",
    "\n",
    "#We already have two lists, ymean has the average temperatures and yyear has the years. We create a dictionary with the description and the values. And we convert it to a Dataframe\n",
    "ydict = {'Year': yyear, 'Avg_temp': ymean}\n",
    "ymean_df = pd.DataFrame.from_dict(ydict)\n",
    "ymean_df = ymean_df.set_index('Year')\n",
    "\n",
    "#### FINDING MAX YEARLY AVG AND MIN\n",
    "ymean_sort = ymean_df.sort_values('Avg_temp', ascending= False)\n",
    "\n",
    "#### Average of the 200 years\n",
    "ymean_mean = ymean_df.mean()\n",
    "\n",
    "\n",
    "## Difference between hottest and coldest in years and temperature\n",
    "maxdif = ymean_df.iloc[197] - ymean_df.iloc[69]\n",
    "\n",
    "####### GLOSSARY OF VARIABLES\n",
    "## [[df_years]] = The original chart making years as the main index\n",
    "# df_years\n",
    "## [[ymean_df]] = Chart with years and their yearly average. Sorted by years\n",
    "# ymean_df\n",
    "## [[ymean_mean]] = The average temperature for the 200 years analized, 14,65ºC\n",
    "# ymean_mean\n",
    "## [[ymean_sort]] = is a chart with the 200 years and their temperature sorted from hottest to coldest.\n",
    "# ymean_sort\n",
    "## [[maxdif]] = The difference in temperature and years from the hottest to the coolest.\n",
    "# maxdif"
   ]
  },
  {
   "cell_type": "code",
   "execution_count": 88,
   "metadata": {},
   "outputs": [],
   "source": [
    "#Pregunta 1: Has the temperature increased in Barcelona in the last 200 years?\n",
    "# Temperature difference between averages from 2018 and 1993\n",
    "# Diferència entre la mtijana de l'any 2018 - 1958\n",
    "# Diferència entre la mitjana de l'any 2018 i 1818\n",
    "### TO-DO Find the yearly average from 1780 to "
   ]
  },
  {
   "cell_type": "code",
   "execution_count": 81,
   "metadata": {},
   "outputs": [
    {
     "data": {
      "text/html": "<div>\n<style scoped>\n    .dataframe tbody tr th:only-of-type {\n        vertical-align: middle;\n    }\n\n    .dataframe tbody tr th {\n        vertical-align: top;\n    }\n\n    .dataframe thead th {\n        text-align: right;\n    }\n</style>\n<table border=\"1\" class=\"dataframe\">\n  <thead>\n    <tr style=\"text-align: right;\">\n      <th></th>\n      <th>Avg_temp</th>\n    </tr>\n    <tr>\n      <th>Year</th>\n      <th></th>\n    </tr>\n  </thead>\n  <tbody>\n    <tr>\n      <th>1818</th>\n      <td>14.07</td>\n    </tr>\n    <tr>\n      <th>1819</th>\n      <td>14.34</td>\n    </tr>\n    <tr>\n      <th>1820</th>\n      <td>13.49</td>\n    </tr>\n    <tr>\n      <th>1821</th>\n      <td>14.31</td>\n    </tr>\n    <tr>\n      <th>1822</th>\n      <td>14.91</td>\n    </tr>\n    <tr>\n      <th>1823</th>\n      <td>13.74</td>\n    </tr>\n    <tr>\n      <th>1824</th>\n      <td>13.98</td>\n    </tr>\n    <tr>\n      <th>1825</th>\n      <td>14.17</td>\n    </tr>\n    <tr>\n      <th>1826</th>\n      <td>13.88</td>\n    </tr>\n    <tr>\n      <th>1827</th>\n      <td>13.48</td>\n    </tr>\n    <tr>\n      <th>1828</th>\n      <td>14.78</td>\n    </tr>\n    <tr>\n      <th>1829</th>\n      <td>13.22</td>\n    </tr>\n    <tr>\n      <th>1830</th>\n      <td>13.93</td>\n    </tr>\n    <tr>\n      <th>1831</th>\n      <td>14.88</td>\n    </tr>\n    <tr>\n      <th>1832</th>\n      <td>14.19</td>\n    </tr>\n    <tr>\n      <th>1833</th>\n      <td>13.92</td>\n    </tr>\n    <tr>\n      <th>1834</th>\n      <td>14.49</td>\n    </tr>\n    <tr>\n      <th>1835</th>\n      <td>13.45</td>\n    </tr>\n    <tr>\n      <th>1836</th>\n      <td>13.34</td>\n    </tr>\n    <tr>\n      <th>1837</th>\n      <td>13.50</td>\n    </tr>\n    <tr>\n      <th>1838</th>\n      <td>14.05</td>\n    </tr>\n    <tr>\n      <th>1839</th>\n      <td>13.87</td>\n    </tr>\n    <tr>\n      <th>1840</th>\n      <td>13.72</td>\n    </tr>\n    <tr>\n      <th>1841</th>\n      <td>13.92</td>\n    </tr>\n    <tr>\n      <th>1842</th>\n      <td>14.05</td>\n    </tr>\n    <tr>\n      <th>1843</th>\n      <td>13.53</td>\n    </tr>\n    <tr>\n      <th>1844</th>\n      <td>14.07</td>\n    </tr>\n    <tr>\n      <th>1845</th>\n      <td>13.96</td>\n    </tr>\n    <tr>\n      <th>1846</th>\n      <td>15.65</td>\n    </tr>\n    <tr>\n      <th>1847</th>\n      <td>14.98</td>\n    </tr>\n    <tr>\n      <th>...</th>\n      <td>...</td>\n    </tr>\n    <tr>\n      <th>1989</th>\n      <td>16.13</td>\n    </tr>\n    <tr>\n      <th>1990</th>\n      <td>15.80</td>\n    </tr>\n    <tr>\n      <th>1991</th>\n      <td>14.88</td>\n    </tr>\n    <tr>\n      <th>1992</th>\n      <td>15.03</td>\n    </tr>\n    <tr>\n      <th>1993</th>\n      <td>14.96</td>\n    </tr>\n    <tr>\n      <th>1994</th>\n      <td>16.04</td>\n    </tr>\n    <tr>\n      <th>1995</th>\n      <td>15.84</td>\n    </tr>\n    <tr>\n      <th>1996</th>\n      <td>14.98</td>\n    </tr>\n    <tr>\n      <th>1997</th>\n      <td>16.29</td>\n    </tr>\n    <tr>\n      <th>1998</th>\n      <td>15.62</td>\n    </tr>\n    <tr>\n      <th>1999</th>\n      <td>15.59</td>\n    </tr>\n    <tr>\n      <th>2000</th>\n      <td>15.91</td>\n    </tr>\n    <tr>\n      <th>2001</th>\n      <td>16.16</td>\n    </tr>\n    <tr>\n      <th>2002</th>\n      <td>15.78</td>\n    </tr>\n    <tr>\n      <th>2003</th>\n      <td>16.40</td>\n    </tr>\n    <tr>\n      <th>2004</th>\n      <td>15.75</td>\n    </tr>\n    <tr>\n      <th>2005</th>\n      <td>15.32</td>\n    </tr>\n    <tr>\n      <th>2006</th>\n      <td>16.56</td>\n    </tr>\n    <tr>\n      <th>2007</th>\n      <td>15.95</td>\n    </tr>\n    <tr>\n      <th>2008</th>\n      <td>15.43</td>\n    </tr>\n    <tr>\n      <th>2009</th>\n      <td>16.22</td>\n    </tr>\n    <tr>\n      <th>2010</th>\n      <td>15.05</td>\n    </tr>\n    <tr>\n      <th>2011</th>\n      <td>16.22</td>\n    </tr>\n    <tr>\n      <th>2012</th>\n      <td>16.08</td>\n    </tr>\n    <tr>\n      <th>2013</th>\n      <td>15.82</td>\n    </tr>\n    <tr>\n      <th>2014</th>\n      <td>16.27</td>\n    </tr>\n    <tr>\n      <th>2015</th>\n      <td>16.60</td>\n    </tr>\n    <tr>\n      <th>2016</th>\n      <td>16.47</td>\n    </tr>\n    <tr>\n      <th>2017</th>\n      <td>16.37</td>\n    </tr>\n    <tr>\n      <th>2018</th>\n      <td>16.28</td>\n    </tr>\n  </tbody>\n</table>\n<p>201 rows × 1 columns</p>\n</div>",
      "text/plain": "      Avg_temp\nYear          \n1818     14.07\n1819     14.34\n1820     13.49\n1821     14.31\n1822     14.91\n1823     13.74\n1824     13.98\n1825     14.17\n1826     13.88\n1827     13.48\n1828     14.78\n1829     13.22\n1830     13.93\n1831     14.88\n1832     14.19\n1833     13.92\n1834     14.49\n1835     13.45\n1836     13.34\n1837     13.50\n1838     14.05\n1839     13.87\n1840     13.72\n1841     13.92\n1842     14.05\n1843     13.53\n1844     14.07\n1845     13.96\n1846     15.65\n1847     14.98\n...        ...\n1989     16.13\n1990     15.80\n1991     14.88\n1992     15.03\n1993     14.96\n1994     16.04\n1995     15.84\n1996     14.98\n1997     16.29\n1998     15.62\n1999     15.59\n2000     15.91\n2001     16.16\n2002     15.78\n2003     16.40\n2004     15.75\n2005     15.32\n2006     16.56\n2007     15.95\n2008     15.43\n2009     16.22\n2010     15.05\n2011     16.22\n2012     16.08\n2013     15.82\n2014     16.27\n2015     16.60\n2016     16.47\n2017     16.37\n2018     16.28\n\n[201 rows x 1 columns]"
     },
     "execution_count": 81,
     "metadata": {},
     "output_type": "execute_result"
    }
   ],
   "source": [
    "    "
   ]
  },
  {
   "cell_type": "code",
   "execution_count": null,
   "metadata": {},
   "outputs": [],
   "source": []
  },
  {
   "cell_type": "code",
   "execution_count": null,
   "metadata": {},
   "outputs": [],
   "source": []
  },
  {
   "cell_type": "code",
   "execution_count": null,
   "metadata": {},
   "outputs": [],
   "source": [
    "# Question 3: If X is happening, does it mean we are having more extreme temperatues?\n",
    "## Check mean temperature of 2018 and check the difference between coldest/warmest to mean (dispersion)\n",
    "## Do the same process with ages 1993, 1958, 1818\n",
    "### TO-DO Measure extreme temperatures compared to the average in all years"
   ]
  },
  {
   "cell_type": "code",
   "execution_count": null,
   "metadata": {},
   "outputs": [],
   "source": [
    "hottest = ds.sort_values('Temperatura', ascending=False)\n",
    "coldest = ds.sort_values('Temperatura')"
   ]
  }
 ],
 "metadata": {
  "file_extension": ".py",
  "kernelspec": {
   "display_name": "Python 3",
   "language": "python",
   "name": "python3"
  },
  "language_info": {
   "codemirror_mode": {
    "name": "ipython",
    "version": 3
   },
   "file_extension": ".py",
   "mimetype": "text/x-python",
   "name": "python",
   "nbconvert_exporter": "python",
   "pygments_lexer": "ipython3",
   "version": "3.7.3"
  },
  "mimetype": "text/x-python",
  "name": "python",
  "npconvert_exporter": "python",
  "pygments_lexer": "ipython3",
  "version": 3
 },
 "nbformat": 4,
 "nbformat_minor": 2
}