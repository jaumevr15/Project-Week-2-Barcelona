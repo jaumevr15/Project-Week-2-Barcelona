{
 "nbformat": 4,
 "nbformat_minor": 2,
 "metadata": {
  "language_info": {
   "name": "python",
   "codemirror_mode": {
    "name": "ipython",
    "version": 3
   }
  },
  "orig_nbformat": 2,
  "file_extension": ".py",
  "mimetype": "text/x-python",
  "name": "python",
  "npconvert_exporter": "python",
  "pygments_lexer": "ipython3",
  "version": 3
 },
 "cells": [
  {
   "cell_type": "code",
   "execution_count": null,
   "metadata": {},
   "outputs": [],
   "source": [
    "## 31.10.2019 - ATTEMPT TO CREATE T#\n",
    "def quarters(df, quarter):\n",
    "    temp_df = pd.DataFrame()\n",
    "    if '1' in quarter:\n",
    "        temp_df = df['Mes'].apply(lambda x: quarter if x in [1, 2, 3] else np.nan)\n",
    "    elif '2' in quarter:\n",
    "        temp_df = df['Mes'].apply(lambda x: quarter if x in [4, 5, 6] else np.nan)\n",
    "    elif '3' in quarter:\n",
    "        temp_df = df['Mes'].apply(lambda x: quarter if x in [7, 8, 9] else np.nan)\n",
    "    else:\n",
    "        temp_df = df['Mes'].apply(lambda x: quarter if x in [10, 11, 12] else np.nan)\n",
    "    return temp_df\n",
    "df1 = quarters(ds, 'T1')\n",
    "df2 = quarters(ds, 'T2')\n",
    "df3 = quarters(ds, 'T3')\n",
    "df4 = quarters(ds, 'T4')\n",
    "\n",
    "ds['Mes']\n",
    "\n",
    "columns = ['Any', 1,2,3,4,5,6,7,8,9,10,11,12]\n",
    "\n",
    "dff.columns = columns\n",
    "\n"
   ]
  }
 ]
}