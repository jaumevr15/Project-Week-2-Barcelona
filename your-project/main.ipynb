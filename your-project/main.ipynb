{
 "cells": [
  {
   "cell_type": "code",
   "execution_count": 2,
   "metadata": {},
   "outputs": [],
   "source": [
    "import pandas as pd\n",
    "import numpy as np\n",
    "import re\n",
    "df = pd.read_csv('temperaturesbarcelonadesde1780.csv')\n",
    "ds = pd.read_csv('temperaturesbarcelonadesde1780_format_long.csv')\n",
    "\n",
    "#df is a Dataframe with Year and Montlhy average temperature as columns.\n",
    "#And years as rows\n"
   ]
  },
  {
   "cell_type": "code",
   "execution_count": 3,
   "metadata": {},
   "outputs": [],
   "source": [
    "#It is important for us to use Years as the main index for easy manipulation\n",
    "df_years = df.set_index('Any')\n",
    "\n",
    "#In order to find the average temperature of each year, we create two lists and we iterate between the years 1818-2018\n",
    "\n",
    "years = range(1818,2019)\n",
    "ymean = []\n",
    "yyear = []\n",
    "for r in years:\n",
    "    t = round(df_years.loc[r].mean(),2)\n",
    "    ymean.append(t)\n",
    "    yyear.append(r)\n",
    "\n",
    "#We already have two lists, ymean has the average temperatures and yyear has the years. We create a dictionary with the description and the values. And we convert it to a Dataframe\n",
    "ydict = {'Year': yyear, 'Avg_temp': ymean}\n",
    "ymean_df = pd.DataFrame.from_dict(ydict)\n",
    "ymean_df = ymean_df.set_index('Year')\n",
    "\n",
    "#### FINDING MAX YEARLY AVG AND MIN\n",
    "ymean_sort = ymean_df.sort_values('Avg_temp', ascending= False)\n",
    "\n",
    "#### Average of the 200 years\n",
    "ymean_mean = ymean_df.mean()\n",
    "\n",
    "\n",
    "## Difference between hottest and coldest in years and temperature\n",
    "maxdif = ymean_df.iloc[197] - ymean_df.iloc[69]\n",
    "\n",
    "####### GLOSSARY OF VARIABLES\n",
    "## [[df_years]] = The original chart making years as the main index\n",
    "# df_years\n",
    "## [[ymean_df]] = Chart with years and their yearly average. Sorted by years\n",
    "# ymean_df\n",
    "## [[ymean_mean]] = The average temperature for the 200 years analized, 14,65ºC\n",
    "# ymean_mean\n",
    "## [[ymean_sort]] = is a chart with the 200 years and their temperature sorted from hottest to coldest.\n",
    "# ymean_sort\n",
    "## [[maxdif]] = The difference in temperature and years from the hottest to the coolest.\n",
    "# maxdif"
   ]
  },
  {
   "cell_type": "code",
   "execution_count": 8,
   "metadata": {},
   "outputs": [
    {
     "data": {
      "text/html": "<div>\n<style scoped>\n    .dataframe tbody tr th:only-of-type {\n        vertical-align: middle;\n    }\n\n    .dataframe tbody tr th {\n        vertical-align: top;\n    }\n\n    .dataframe thead th {\n        text-align: right;\n    }\n</style>\n<table border=\"1\" class=\"dataframe\">\n  <thead>\n    <tr style=\"text-align: right;\">\n      <th></th>\n      <th>Period</th>\n      <th>Avtempdif</th>\n    </tr>\n  </thead>\n  <tbody>\n    <tr>\n      <th>91</th>\n      <td>2010-1910</td>\n      <td>2.74</td>\n    </tr>\n    <tr>\n      <th>97</th>\n      <td>2016-1916</td>\n      <td>2.73</td>\n    </tr>\n    <tr>\n      <th>99</th>\n      <td>2018-1918</td>\n      <td>2.73</td>\n    </tr>\n    <tr>\n      <th>69</th>\n      <td>1988-1888</td>\n      <td>2.48</td>\n    </tr>\n    <tr>\n      <th>85</th>\n      <td>2004-1904</td>\n      <td>2.37</td>\n    </tr>\n    <tr>\n      <th>88</th>\n      <td>2007-1907</td>\n      <td>2.28</td>\n    </tr>\n    <tr>\n      <th>83</th>\n      <td>2002-1902</td>\n      <td>2.26</td>\n    </tr>\n    <tr>\n      <th>65</th>\n      <td>1984-1884</td>\n      <td>2.23</td>\n    </tr>\n    <tr>\n      <th>96</th>\n      <td>2015-1915</td>\n      <td>2.19</td>\n    </tr>\n    <tr>\n      <th>89</th>\n      <td>2008-1908</td>\n      <td>2.18</td>\n    </tr>\n    <tr>\n      <th>98</th>\n      <td>2017-1917</td>\n      <td>2.04</td>\n    </tr>\n    <tr>\n      <th>70</th>\n      <td>1989-1889</td>\n      <td>1.96</td>\n    </tr>\n    <tr>\n      <th>84</th>\n      <td>2003-1903</td>\n      <td>1.95</td>\n    </tr>\n    <tr>\n      <th>19</th>\n      <td>1938-1838</td>\n      <td>1.95</td>\n    </tr>\n    <tr>\n      <th>25</th>\n      <td>1944-1844</td>\n      <td>1.93</td>\n    </tr>\n    <tr>\n      <th>68</th>\n      <td>1987-1887</td>\n      <td>1.93</td>\n    </tr>\n    <tr>\n      <th>72</th>\n      <td>1991-1891</td>\n      <td>1.92</td>\n    </tr>\n    <tr>\n      <th>35</th>\n      <td>1954-1854</td>\n      <td>1.90</td>\n    </tr>\n    <tr>\n      <th>71</th>\n      <td>1990-1890</td>\n      <td>1.86</td>\n    </tr>\n    <tr>\n      <th>94</th>\n      <td>2013-1913</td>\n      <td>1.76</td>\n    </tr>\n    <tr>\n      <th>95</th>\n      <td>2014-1914</td>\n      <td>1.68</td>\n    </tr>\n    <tr>\n      <th>9</th>\n      <td>1928-1828</td>\n      <td>1.62</td>\n    </tr>\n    <tr>\n      <th>76</th>\n      <td>1995-1895</td>\n      <td>1.61</td>\n    </tr>\n    <tr>\n      <th>61</th>\n      <td>1980-1880</td>\n      <td>1.59</td>\n    </tr>\n    <tr>\n      <th>11</th>\n      <td>1930-1830</td>\n      <td>1.55</td>\n    </tr>\n    <tr>\n      <th>37</th>\n      <td>1956-1856</td>\n      <td>1.49</td>\n    </tr>\n    <tr>\n      <th>27</th>\n      <td>1946-1846</td>\n      <td>1.49</td>\n    </tr>\n    <tr>\n      <th>30</th>\n      <td>1949-1849</td>\n      <td>1.45</td>\n    </tr>\n    <tr>\n      <th>32</th>\n      <td>1951-1851</td>\n      <td>1.41</td>\n    </tr>\n    <tr>\n      <th>2</th>\n      <td>1921-1821</td>\n      <td>1.39</td>\n    </tr>\n    <tr>\n      <th>...</th>\n      <td>...</td>\n      <td>...</td>\n    </tr>\n    <tr>\n      <th>21</th>\n      <td>1940-1840</td>\n      <td>0.44</td>\n    </tr>\n    <tr>\n      <th>40</th>\n      <td>1959-1859</td>\n      <td>0.41</td>\n    </tr>\n    <tr>\n      <th>39</th>\n      <td>1958-1858</td>\n      <td>0.41</td>\n    </tr>\n    <tr>\n      <th>60</th>\n      <td>1979-1879</td>\n      <td>0.35</td>\n    </tr>\n    <tr>\n      <th>53</th>\n      <td>1972-1872</td>\n      <td>0.31</td>\n    </tr>\n    <tr>\n      <th>59</th>\n      <td>1978-1878</td>\n      <td>0.23</td>\n    </tr>\n    <tr>\n      <th>0</th>\n      <td>1919-1819</td>\n      <td>0.16</td>\n    </tr>\n    <tr>\n      <th>50</th>\n      <td>1969-1869</td>\n      <td>0.09</td>\n    </tr>\n    <tr>\n      <th>55</th>\n      <td>1974-1874</td>\n      <td>0.07</td>\n    </tr>\n    <tr>\n      <th>41</th>\n      <td>1960-1860</td>\n      <td>0.06</td>\n    </tr>\n    <tr>\n      <th>23</th>\n      <td>1942-1842</td>\n      <td>0.02</td>\n    </tr>\n    <tr>\n      <th>62</th>\n      <td>1981-1881</td>\n      <td>0.00</td>\n    </tr>\n    <tr>\n      <th>48</th>\n      <td>1967-1867</td>\n      <td>-0.02</td>\n    </tr>\n    <tr>\n      <th>7</th>\n      <td>1926-1826</td>\n      <td>-0.03</td>\n    </tr>\n    <tr>\n      <th>14</th>\n      <td>1933-1833</td>\n      <td>-0.03</td>\n    </tr>\n    <tr>\n      <th>57</th>\n      <td>1976-1876</td>\n      <td>-0.03</td>\n    </tr>\n    <tr>\n      <th>58</th>\n      <td>1977-1877</td>\n      <td>-0.05</td>\n    </tr>\n    <tr>\n      <th>64</th>\n      <td>1983-1883</td>\n      <td>-0.05</td>\n    </tr>\n    <tr>\n      <th>51</th>\n      <td>1970-1870</td>\n      <td>-0.14</td>\n    </tr>\n    <tr>\n      <th>44</th>\n      <td>1963-1863</td>\n      <td>-0.18</td>\n    </tr>\n    <tr>\n      <th>13</th>\n      <td>1932-1832</td>\n      <td>-0.25</td>\n    </tr>\n    <tr>\n      <th>56</th>\n      <td>1975-1875</td>\n      <td>-0.27</td>\n    </tr>\n    <tr>\n      <th>47</th>\n      <td>1966-1866</td>\n      <td>-0.35</td>\n    </tr>\n    <tr>\n      <th>1</th>\n      <td>1920-1820</td>\n      <td>-0.39</td>\n    </tr>\n    <tr>\n      <th>45</th>\n      <td>1964-1864</td>\n      <td>-0.42</td>\n    </tr>\n    <tr>\n      <th>38</th>\n      <td>1957-1857</td>\n      <td>-0.48</td>\n    </tr>\n    <tr>\n      <th>4</th>\n      <td>1923-1823</td>\n      <td>-0.55</td>\n    </tr>\n    <tr>\n      <th>66</th>\n      <td>1985-1885</td>\n      <td>-0.65</td>\n    </tr>\n    <tr>\n      <th>54</th>\n      <td>1973-1873</td>\n      <td>-0.82</td>\n    </tr>\n    <tr>\n      <th>28</th>\n      <td>1947-1847</td>\n      <td>-1.18</td>\n    </tr>\n  </tbody>\n</table>\n<p>100 rows × 2 columns</p>\n</div>",
      "text/plain": "       Period  Avtempdif\n91  2010-1910       2.74\n97  2016-1916       2.73\n99  2018-1918       2.73\n69  1988-1888       2.48\n85  2004-1904       2.37\n88  2007-1907       2.28\n83  2002-1902       2.26\n65  1984-1884       2.23\n96  2015-1915       2.19\n89  2008-1908       2.18\n98  2017-1917       2.04\n70  1989-1889       1.96\n84  2003-1903       1.95\n19  1938-1838       1.95\n25  1944-1844       1.93\n68  1987-1887       1.93\n72  1991-1891       1.92\n35  1954-1854       1.90\n71  1990-1890       1.86\n94  2013-1913       1.76\n95  2014-1914       1.68\n9   1928-1828       1.62\n76  1995-1895       1.61\n61  1980-1880       1.59\n11  1930-1830       1.55\n37  1956-1856       1.49\n27  1946-1846       1.49\n30  1949-1849       1.45\n32  1951-1851       1.41\n2   1921-1821       1.39\n..        ...        ...\n21  1940-1840       0.44\n40  1959-1859       0.41\n39  1958-1858       0.41\n60  1979-1879       0.35\n53  1972-1872       0.31\n59  1978-1878       0.23\n0   1919-1819       0.16\n50  1969-1869       0.09\n55  1974-1874       0.07\n41  1960-1860       0.06\n23  1942-1842       0.02\n62  1981-1881       0.00\n48  1967-1867      -0.02\n7   1926-1826      -0.03\n14  1933-1833      -0.03\n57  1976-1876      -0.03\n58  1977-1877      -0.05\n64  1983-1883      -0.05\n51  1970-1870      -0.14\n44  1963-1863      -0.18\n13  1932-1832      -0.25\n56  1975-1875      -0.27\n47  1966-1866      -0.35\n1   1920-1820      -0.39\n45  1964-1864      -0.42\n38  1957-1857      -0.48\n4   1923-1823      -0.55\n66  1985-1885      -0.65\n54  1973-1873      -0.82\n28  1947-1847      -1.18\n\n[100 rows x 2 columns]"
     },
     "execution_count": 8,
     "metadata": {},
     "output_type": "execute_result"
    }
   ],
   "source": [
    "### Calculating 100 year average temperatures gap\n",
    "hundyr = range(100)\n",
    "hungap = []\n",
    "hunyr = []\n",
    "for h in hundyr:\n",
    "    raw = ymean_df.iloc[100+h] - ymean_df.iloc[h]\n",
    "    yr = 1919\n",
    "    hunyr.append(f'{yr+h}-{yr-100+h}')\n",
    "    hungap.append(raw)\n",
    "\n",
    "gapdict = {'Period': hunyr, 'Avtempdif': hungap}\n",
    "gap_df = pd.DataFrame.from_dict(gapdict)\n",
    "gap_df.Avtempdif = gap_df.Avtempdif.apply(lambda x: x.replace('Avg_temp ', ''))\n",
    "sortgap = gap_df.sort_values('Avtempdif', ascending=False)\n",
    "sortgap\n",
    "\n"
   ]
  },
  {
   "cell_type": "code",
   "execution_count": 9,
   "metadata": {},
   "outputs": [
    {
     "data": {
      "text/html": "<div>\n<style scoped>\n    .dataframe tbody tr th:only-of-type {\n        vertical-align: middle;\n    }\n\n    .dataframe tbody tr th {\n        vertical-align: top;\n    }\n\n    .dataframe thead th {\n        text-align: right;\n    }\n</style>\n<table border=\"1\" class=\"dataframe\">\n  <thead>\n    <tr style=\"text-align: right;\">\n      <th></th>\n      <th>T1Avg</th>\n      <th>T2Avg</th>\n      <th>T3Avg</th>\n      <th>T4Avg</th>\n      <th>Std</th>\n      <th>YAvg</th>\n    </tr>\n    <tr>\n      <th>Any</th>\n      <th></th>\n      <th></th>\n      <th></th>\n      <th></th>\n      <th></th>\n      <th></th>\n    </tr>\n  </thead>\n  <tbody>\n    <tr>\n      <th>1818</th>\n      <td>9.23</td>\n      <td>14.80</td>\n      <td>20.43</td>\n      <td>11.83</td>\n      <td>4.166104</td>\n      <td>14.07</td>\n    </tr>\n    <tr>\n      <th>1819</th>\n      <td>8.43</td>\n      <td>16.33</td>\n      <td>21.03</td>\n      <td>11.57</td>\n      <td>4.778002</td>\n      <td>14.34</td>\n    </tr>\n    <tr>\n      <th>1820</th>\n      <td>7.53</td>\n      <td>15.47</td>\n      <td>20.73</td>\n      <td>10.23</td>\n      <td>5.061798</td>\n      <td>13.49</td>\n    </tr>\n    <tr>\n      <th>1821</th>\n      <td>8.87</td>\n      <td>14.77</td>\n      <td>20.87</td>\n      <td>12.73</td>\n      <td>4.339793</td>\n      <td>14.31</td>\n    </tr>\n    <tr>\n      <th>1822</th>\n      <td>9.07</td>\n      <td>17.63</td>\n      <td>21.23</td>\n      <td>11.70</td>\n      <td>4.789324</td>\n      <td>14.91</td>\n    </tr>\n    <tr>\n      <th>1823</th>\n      <td>8.30</td>\n      <td>15.20</td>\n      <td>20.40</td>\n      <td>11.07</td>\n      <td>4.560967</td>\n      <td>13.74</td>\n    </tr>\n    <tr>\n      <th>1824</th>\n      <td>7.97</td>\n      <td>14.67</td>\n      <td>20.73</td>\n      <td>12.53</td>\n      <td>4.589693</td>\n      <td>13.98</td>\n    </tr>\n    <tr>\n      <th>1825</th>\n      <td>7.97</td>\n      <td>16.37</td>\n      <td>21.10</td>\n      <td>11.23</td>\n      <td>4.998712</td>\n      <td>14.17</td>\n    </tr>\n    <tr>\n      <th>1826</th>\n      <td>8.10</td>\n      <td>14.73</td>\n      <td>21.73</td>\n      <td>10.93</td>\n      <td>5.110179</td>\n      <td>13.88</td>\n    </tr>\n    <tr>\n      <th>1827</th>\n      <td>7.30</td>\n      <td>13.63</td>\n      <td>21.63</td>\n      <td>11.37</td>\n      <td>5.222295</td>\n      <td>13.48</td>\n    </tr>\n    <tr>\n      <th>1828</th>\n      <td>9.03</td>\n      <td>16.07</td>\n      <td>22.07</td>\n      <td>11.93</td>\n      <td>4.898804</td>\n      <td>14.78</td>\n    </tr>\n    <tr>\n      <th>1829</th>\n      <td>8.43</td>\n      <td>15.47</td>\n      <td>19.43</td>\n      <td>9.53</td>\n      <td>4.477352</td>\n      <td>13.22</td>\n    </tr>\n    <tr>\n      <th>1830</th>\n      <td>7.00</td>\n      <td>16.37</td>\n      <td>20.70</td>\n      <td>11.67</td>\n      <td>5.121497</td>\n      <td>13.93</td>\n    </tr>\n    <tr>\n      <th>1831</th>\n      <td>9.83</td>\n      <td>16.83</td>\n      <td>20.53</td>\n      <td>12.33</td>\n      <td>4.114912</td>\n      <td>14.88</td>\n    </tr>\n    <tr>\n      <th>1832</th>\n      <td>8.30</td>\n      <td>15.27</td>\n      <td>21.57</td>\n      <td>11.63</td>\n      <td>4.921293</td>\n      <td>14.19</td>\n    </tr>\n    <tr>\n      <th>1833</th>\n      <td>8.87</td>\n      <td>16.47</td>\n      <td>18.80</td>\n      <td>11.53</td>\n      <td>3.922100</td>\n      <td>13.92</td>\n    </tr>\n    <tr>\n      <th>1834</th>\n      <td>9.70</td>\n      <td>15.63</td>\n      <td>21.23</td>\n      <td>11.40</td>\n      <td>4.450264</td>\n      <td>14.49</td>\n    </tr>\n    <tr>\n      <th>1835</th>\n      <td>8.90</td>\n      <td>14.40</td>\n      <td>20.50</td>\n      <td>10.00</td>\n      <td>4.560976</td>\n      <td>13.45</td>\n    </tr>\n    <tr>\n      <th>1836</th>\n      <td>8.13</td>\n      <td>13.53</td>\n      <td>20.60</td>\n      <td>11.10</td>\n      <td>4.607206</td>\n      <td>13.34</td>\n    </tr>\n    <tr>\n      <th>1837</th>\n      <td>7.20</td>\n      <td>14.30</td>\n      <td>21.23</td>\n      <td>11.27</td>\n      <td>5.124837</td>\n      <td>13.50</td>\n    </tr>\n    <tr>\n      <th>1838</th>\n      <td>8.63</td>\n      <td>15.10</td>\n      <td>20.67</td>\n      <td>11.80</td>\n      <td>4.454374</td>\n      <td>14.05</td>\n    </tr>\n    <tr>\n      <th>1839</th>\n      <td>7.97</td>\n      <td>15.27</td>\n      <td>20.30</td>\n      <td>11.93</td>\n      <td>4.524336</td>\n      <td>13.87</td>\n    </tr>\n    <tr>\n      <th>1840</th>\n      <td>7.73</td>\n      <td>15.30</td>\n      <td>20.33</td>\n      <td>11.50</td>\n      <td>4.663607</td>\n      <td>13.72</td>\n    </tr>\n    <tr>\n      <th>1841</th>\n      <td>8.37</td>\n      <td>15.63</td>\n      <td>19.87</td>\n      <td>11.83</td>\n      <td>4.286523</td>\n      <td>13.92</td>\n    </tr>\n    <tr>\n      <th>1842</th>\n      <td>8.07</td>\n      <td>16.00</td>\n      <td>20.93</td>\n      <td>11.20</td>\n      <td>4.873905</td>\n      <td>14.05</td>\n    </tr>\n    <tr>\n      <th>1843</th>\n      <td>8.87</td>\n      <td>15.17</td>\n      <td>19.47</td>\n      <td>10.60</td>\n      <td>4.131394</td>\n      <td>13.53</td>\n    </tr>\n    <tr>\n      <th>1844</th>\n      <td>8.40</td>\n      <td>15.57</td>\n      <td>20.47</td>\n      <td>11.83</td>\n      <td>4.482647</td>\n      <td>14.07</td>\n    </tr>\n    <tr>\n      <th>1845</th>\n      <td>7.93</td>\n      <td>14.47</td>\n      <td>21.23</td>\n      <td>12.20</td>\n      <td>4.810704</td>\n      <td>13.96</td>\n    </tr>\n    <tr>\n      <th>1846</th>\n      <td>9.93</td>\n      <td>17.10</td>\n      <td>23.70</td>\n      <td>11.87</td>\n      <td>5.336474</td>\n      <td>15.65</td>\n    </tr>\n    <tr>\n      <th>1847</th>\n      <td>9.47</td>\n      <td>17.10</td>\n      <td>21.27</td>\n      <td>12.10</td>\n      <td>4.547332</td>\n      <td>14.98</td>\n    </tr>\n    <tr>\n      <th>...</th>\n      <td>...</td>\n      <td>...</td>\n      <td>...</td>\n      <td>...</td>\n      <td>...</td>\n      <td>...</td>\n    </tr>\n    <tr>\n      <th>1989</th>\n      <td>10.57</td>\n      <td>16.97</td>\n      <td>23.13</td>\n      <td>13.87</td>\n      <td>4.629436</td>\n      <td>16.13</td>\n    </tr>\n    <tr>\n      <th>1990</th>\n      <td>11.37</td>\n      <td>16.83</td>\n      <td>23.43</td>\n      <td>11.57</td>\n      <td>4.919238</td>\n      <td>15.80</td>\n    </tr>\n    <tr>\n      <th>1991</th>\n      <td>9.30</td>\n      <td>15.07</td>\n      <td>23.63</td>\n      <td>11.50</td>\n      <td>5.458006</td>\n      <td>14.88</td>\n    </tr>\n    <tr>\n      <th>1992</th>\n      <td>9.00</td>\n      <td>16.33</td>\n      <td>22.43</td>\n      <td>12.33</td>\n      <td>5.002517</td>\n      <td>15.03</td>\n    </tr>\n    <tr>\n      <th>1993</th>\n      <td>9.13</td>\n      <td>17.10</td>\n      <td>22.17</td>\n      <td>11.43</td>\n      <td>5.074778</td>\n      <td>14.96</td>\n    </tr>\n    <tr>\n      <th>1994</th>\n      <td>10.33</td>\n      <td>16.80</td>\n      <td>23.77</td>\n      <td>13.27</td>\n      <td>5.015164</td>\n      <td>16.04</td>\n    </tr>\n    <tr>\n      <th>1995</th>\n      <td>10.33</td>\n      <td>16.93</td>\n      <td>22.33</td>\n      <td>13.77</td>\n      <td>4.414555</td>\n      <td>15.84</td>\n    </tr>\n    <tr>\n      <th>1996</th>\n      <td>9.27</td>\n      <td>16.87</td>\n      <td>21.47</td>\n      <td>12.30</td>\n      <td>4.622734</td>\n      <td>14.98</td>\n    </tr>\n    <tr>\n      <th>1997</th>\n      <td>11.33</td>\n      <td>17.30</td>\n      <td>22.93</td>\n      <td>13.60</td>\n      <td>4.385983</td>\n      <td>16.29</td>\n    </tr>\n    <tr>\n      <th>1998</th>\n      <td>10.67</td>\n      <td>17.10</td>\n      <td>22.90</td>\n      <td>11.80</td>\n      <td>4.854989</td>\n      <td>15.62</td>\n    </tr>\n    <tr>\n      <th>1999</th>\n      <td>9.67</td>\n      <td>17.60</td>\n      <td>23.23</td>\n      <td>11.87</td>\n      <td>5.274810</td>\n      <td>15.59</td>\n    </tr>\n    <tr>\n      <th>2000</th>\n      <td>10.57</td>\n      <td>17.53</td>\n      <td>22.77</td>\n      <td>12.77</td>\n      <td>4.691993</td>\n      <td>15.91</td>\n    </tr>\n    <tr>\n      <th>2001</th>\n      <td>11.60</td>\n      <td>17.97</td>\n      <td>22.77</td>\n      <td>12.30</td>\n      <td>4.545916</td>\n      <td>16.16</td>\n    </tr>\n    <tr>\n      <th>2002</th>\n      <td>10.87</td>\n      <td>17.17</td>\n      <td>21.47</td>\n      <td>13.60</td>\n      <td>3.973936</td>\n      <td>15.78</td>\n    </tr>\n    <tr>\n      <th>2003</th>\n      <td>9.03</td>\n      <td>19.20</td>\n      <td>25.13</td>\n      <td>12.23</td>\n      <td>6.240166</td>\n      <td>16.40</td>\n    </tr>\n    <tr>\n      <th>2004</th>\n      <td>9.33</td>\n      <td>17.13</td>\n      <td>23.33</td>\n      <td>13.20</td>\n      <td>5.173966</td>\n      <td>15.75</td>\n    </tr>\n    <tr>\n      <th>2005</th>\n      <td>7.97</td>\n      <td>18.73</td>\n      <td>22.70</td>\n      <td>11.87</td>\n      <td>5.744943</td>\n      <td>15.32</td>\n    </tr>\n    <tr>\n      <th>2006</th>\n      <td>9.30</td>\n      <td>18.63</td>\n      <td>23.83</td>\n      <td>14.47</td>\n      <td>5.343535</td>\n      <td>16.56</td>\n    </tr>\n    <tr>\n      <th>2007</th>\n      <td>11.13</td>\n      <td>18.30</td>\n      <td>22.23</td>\n      <td>12.13</td>\n      <td>4.549332</td>\n      <td>15.95</td>\n    </tr>\n    <tr>\n      <th>2008</th>\n      <td>10.37</td>\n      <td>17.00</td>\n      <td>22.93</td>\n      <td>11.43</td>\n      <td>5.007956</td>\n      <td>15.43</td>\n    </tr>\n    <tr>\n      <th>2009</th>\n      <td>9.03</td>\n      <td>18.30</td>\n      <td>24.07</td>\n      <td>13.47</td>\n      <td>5.594807</td>\n      <td>16.22</td>\n    </tr>\n    <tr>\n      <th>2010</th>\n      <td>8.07</td>\n      <td>16.60</td>\n      <td>23.63</td>\n      <td>11.90</td>\n      <td>5.802194</td>\n      <td>15.05</td>\n    </tr>\n    <tr>\n      <th>2011</th>\n      <td>9.77</td>\n      <td>17.90</td>\n      <td>22.73</td>\n      <td>14.47</td>\n      <td>4.739923</td>\n      <td>16.22</td>\n    </tr>\n    <tr>\n      <th>2012</th>\n      <td>9.87</td>\n      <td>17.60</td>\n      <td>23.53</td>\n      <td>13.30</td>\n      <td>5.101601</td>\n      <td>16.08</td>\n    </tr>\n    <tr>\n      <th>2013</th>\n      <td>9.33</td>\n      <td>15.87</td>\n      <td>24.17</td>\n      <td>13.93</td>\n      <td>5.371618</td>\n      <td>15.82</td>\n    </tr>\n    <tr>\n      <th>2014</th>\n      <td>10.73</td>\n      <td>17.73</td>\n      <td>22.53</td>\n      <td>14.10</td>\n      <td>4.379489</td>\n      <td>16.27</td>\n    </tr>\n    <tr>\n      <th>2015</th>\n      <td>9.77</td>\n      <td>19.03</td>\n      <td>23.07</td>\n      <td>14.53</td>\n      <td>4.967384</td>\n      <td>16.60</td>\n    </tr>\n    <tr>\n      <th>2016</th>\n      <td>11.03</td>\n      <td>17.20</td>\n      <td>23.90</td>\n      <td>13.77</td>\n      <td>4.811999</td>\n      <td>16.47</td>\n    </tr>\n    <tr>\n      <th>2017</th>\n      <td>10.87</td>\n      <td>18.70</td>\n      <td>22.73</td>\n      <td>13.20</td>\n      <td>4.641587</td>\n      <td>16.37</td>\n    </tr>\n    <tr>\n      <th>2018</th>\n      <td>9.33</td>\n      <td>17.77</td>\n      <td>24.53</td>\n      <td>13.50</td>\n      <td>5.619463</td>\n      <td>16.28</td>\n    </tr>\n  </tbody>\n</table>\n<p>201 rows × 6 columns</p>\n</div>",
      "text/plain": "      T1Avg  T2Avg  T3Avg  T4Avg       Std   YAvg\nAny                                              \n1818   9.23  14.80  20.43  11.83  4.166104  14.07\n1819   8.43  16.33  21.03  11.57  4.778002  14.34\n1820   7.53  15.47  20.73  10.23  5.061798  13.49\n1821   8.87  14.77  20.87  12.73  4.339793  14.31\n1822   9.07  17.63  21.23  11.70  4.789324  14.91\n1823   8.30  15.20  20.40  11.07  4.560967  13.74\n1824   7.97  14.67  20.73  12.53  4.589693  13.98\n1825   7.97  16.37  21.10  11.23  4.998712  14.17\n1826   8.10  14.73  21.73  10.93  5.110179  13.88\n1827   7.30  13.63  21.63  11.37  5.222295  13.48\n1828   9.03  16.07  22.07  11.93  4.898804  14.78\n1829   8.43  15.47  19.43   9.53  4.477352  13.22\n1830   7.00  16.37  20.70  11.67  5.121497  13.93\n1831   9.83  16.83  20.53  12.33  4.114912  14.88\n1832   8.30  15.27  21.57  11.63  4.921293  14.19\n1833   8.87  16.47  18.80  11.53  3.922100  13.92\n1834   9.70  15.63  21.23  11.40  4.450264  14.49\n1835   8.90  14.40  20.50  10.00  4.560976  13.45\n1836   8.13  13.53  20.60  11.10  4.607206  13.34\n1837   7.20  14.30  21.23  11.27  5.124837  13.50\n1838   8.63  15.10  20.67  11.80  4.454374  14.05\n1839   7.97  15.27  20.30  11.93  4.524336  13.87\n1840   7.73  15.30  20.33  11.50  4.663607  13.72\n1841   8.37  15.63  19.87  11.83  4.286523  13.92\n1842   8.07  16.00  20.93  11.20  4.873905  14.05\n1843   8.87  15.17  19.47  10.60  4.131394  13.53\n1844   8.40  15.57  20.47  11.83  4.482647  14.07\n1845   7.93  14.47  21.23  12.20  4.810704  13.96\n1846   9.93  17.10  23.70  11.87  5.336474  15.65\n1847   9.47  17.10  21.27  12.10  4.547332  14.98\n...     ...    ...    ...    ...       ...    ...\n1989  10.57  16.97  23.13  13.87  4.629436  16.13\n1990  11.37  16.83  23.43  11.57  4.919238  15.80\n1991   9.30  15.07  23.63  11.50  5.458006  14.88\n1992   9.00  16.33  22.43  12.33  5.002517  15.03\n1993   9.13  17.10  22.17  11.43  5.074778  14.96\n1994  10.33  16.80  23.77  13.27  5.015164  16.04\n1995  10.33  16.93  22.33  13.77  4.414555  15.84\n1996   9.27  16.87  21.47  12.30  4.622734  14.98\n1997  11.33  17.30  22.93  13.60  4.385983  16.29\n1998  10.67  17.10  22.90  11.80  4.854989  15.62\n1999   9.67  17.60  23.23  11.87  5.274810  15.59\n2000  10.57  17.53  22.77  12.77  4.691993  15.91\n2001  11.60  17.97  22.77  12.30  4.545916  16.16\n2002  10.87  17.17  21.47  13.60  3.973936  15.78\n2003   9.03  19.20  25.13  12.23  6.240166  16.40\n2004   9.33  17.13  23.33  13.20  5.173966  15.75\n2005   7.97  18.73  22.70  11.87  5.744943  15.32\n2006   9.30  18.63  23.83  14.47  5.343535  16.56\n2007  11.13  18.30  22.23  12.13  4.549332  15.95\n2008  10.37  17.00  22.93  11.43  5.007956  15.43\n2009   9.03  18.30  24.07  13.47  5.594807  16.22\n2010   8.07  16.60  23.63  11.90  5.802194  15.05\n2011   9.77  17.90  22.73  14.47  4.739923  16.22\n2012   9.87  17.60  23.53  13.30  5.101601  16.08\n2013   9.33  15.87  24.17  13.93  5.371618  15.82\n2014  10.73  17.73  22.53  14.10  4.379489  16.27\n2015   9.77  19.03  23.07  14.53  4.967384  16.60\n2016  11.03  17.20  23.90  13.77  4.811999  16.47\n2017  10.87  18.70  22.73  13.20  4.641587  16.37\n2018   9.33  17.77  24.53  13.50  5.619463  16.28\n\n[201 rows x 6 columns]"
     },
     "execution_count": 9,
     "metadata": {},
     "output_type": "execute_result"
    }
   ],
   "source": [
    "# Calculating average temperatures of the different seasons and the yearly standard deviation.\n",
    "dff = pd.read_csv('temperaturesbarcelonadesde1780.csv')\n",
    "columns = ['Any', 1,2,3,4,5,6,7,8,9,10,11,12]\n",
    "dff.columns = columns\n",
    "\n",
    "t0 = dff[['Any']]\n",
    "t1 = dff[['Any', 1,2,3]]\n",
    "t2 = dff[['Any', 4,5,6]]\n",
    "t3 = dff[['Any', 7,8,9]]\n",
    "t4 = dff[['Any', 10,11,12]]\n",
    "\n",
    "t0 = t0.set_index('Any')\n",
    "t1 = t1.set_index('Any')\n",
    "t2 = t2.set_index('Any')\n",
    "t3 = t3.set_index('Any')\n",
    "t4 = t4.set_index('Any')\n",
    "\n",
    "years = range(0,239)\n",
    "t1mean = []\n",
    "t2mean = []\n",
    "t3mean = []\n",
    "t4mean = []\n",
    "\n",
    "for r in years:\n",
    "   t = round(t1.iloc[r].mean(),2)\n",
    "   t22 = round(t2.iloc[r].mean(),2)\n",
    "   t33 = round(t3.iloc[r].mean(),2)\n",
    "   t44 = round(t4.iloc[r].mean(),2)\n",
    "   t1mean.append(t)\n",
    "   t2mean.append(t22)\n",
    "   t3mean.append(t33)\n",
    "   t4mean.append(t44)\n",
    "\n",
    "t0.insert(0, 'T1Avg', t1mean, True)\n",
    "t0.insert(1, 'T2Avg', t2mean, True)\n",
    "t0.insert(2, 'T3Avg', t3mean, True)\n",
    "t0.insert(3, 'T4Avg', t4mean, True)\n",
    "t0def = t0.iloc[38:239]\n",
    "t0def.insert(4, 'YAvg', ymean, True) \n",
    "stdt0 = t0def.std(axis=1)\n",
    "defchart = pd.DataFrame(stdt0)\n",
    "t0def.insert(4, 'Std', defchart, True)\n",
    "t0def\n"
   ]
  },
  {
   "cell_type": "code",
   "execution_count": null,
   "metadata": {},
   "outputs": [],
   "source": []
  }
 ],
 "metadata": {
  "file_extension": ".py",
  "kernelspec": {
   "display_name": "Python 3",
   "language": "python",
   "name": "python3"
  },
  "language_info": {
   "codemirror_mode": {
    "name": "ipython",
    "version": 3
   },
   "file_extension": ".py",
   "mimetype": "text/x-python",
   "name": "python",
   "nbconvert_exporter": "python",
   "pygments_lexer": "ipython3",
   "version": "3.7.3"
  },
  "mimetype": "text/x-python",
  "name": "python",
  "npconvert_exporter": "python",
  "pygments_lexer": "ipython3",
  "version": 3
 },
 "nbformat": 4,
 "nbformat_minor": 2
}